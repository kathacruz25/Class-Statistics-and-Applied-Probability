{
  "nbformat": 4,
  "nbformat_minor": 0,
  "metadata": {
    "colab": {
      "name": "Introduccion.ipynb",
      "provenance": []
    },
    "kernelspec": {
      "name": "python3",
      "display_name": "Python 3"
    }
  },
  "cells": [
    {
      "cell_type": "markdown",
      "metadata": {
        "id": "A_ENq98bmyVd",
        "colab_type": "text"
      },
      "source": [
        "# Introducción a Python\n"
      ]
    },
    {
      "cell_type": "markdown",
      "metadata": {
        "id": "SpJhR4zanAtK",
        "colab_type": "text"
      },
      "source": [
        "# Lenguajes interpretados y compilados\n",
        "\n",
        "La principal diferencia entre un lenguaje compilado y uno interpretado es que el lenguaje compilado requiere un paso adicional antes de ser ejecutado, la compilación, que convierte el código que escribes a lenguaje de máquina. Un lenguaje interpretado, por otro lado, es convertido a lenguaje de máquina a medida que es ejecutado.\n",
        "\n",
        "# ¿Qué es python?\n",
        "\n",
        "*   Lenguaje de programación interpretado creado en los 80's\n",
        "*   Versión actual 3.8\n",
        "\n",
        "https://es.wikipedia.org/wiki/Python\n"
      ]
    },
    {
      "cell_type": "markdown",
      "metadata": {
        "id": "xEbUkyqdvgsf",
        "colab_type": "text"
      },
      "source": [
        "# Ejemplos básicos y definiciones\n",
        "\n",
        "\n",
        "## Hola mundo\n",
        "\n"
      ]
    },
    {
      "cell_type": "code",
      "metadata": {
        "id": "vWN4w1hdmf4J",
        "colab_type": "code",
        "colab": {
          "base_uri": "https://localhost:8080/",
          "height": 34
        },
        "outputId": "eb2635da-a869-4991-dfeb-7030b41dd629"
      },
      "source": [
        "print(\"Hola mundo!!!\")"
      ],
      "execution_count": null,
      "outputs": [
        {
          "output_type": "stream",
          "text": [
            "Hola mundo!!!\n"
          ],
          "name": "stdout"
        }
      ]
    },
    {
      "cell_type": "markdown",
      "metadata": {
        "id": "pDAGHbr43KZu",
        "colab_type": "text"
      },
      "source": [
        "##variables\n",
        "\n",
        "Las variables se definen de forma dinámica, lo que significa que no se tiene que especificar cuál es su tipo de antemano y puede tomar distintos valores en otro momento, incluso de un tipo diferente al que tenía previamente. Se usa el símbolo = para asignar valores."
      ]
    },
    {
      "cell_type": "code",
      "metadata": {
        "id": "9aoQA3jTyFiN",
        "colab_type": "code",
        "colab": {
          "base_uri": "https://localhost:8080/",
          "height": 34
        },
        "outputId": "d6c3a096-9dc7-4d7b-dfc2-8f8ccc3ac092"
      },
      "source": [
        "resultado = \"hola mundo!!\"\n",
        "print(resultado)"
      ],
      "execution_count": null,
      "outputs": [
        {
          "output_type": "stream",
          "text": [
            "hola mundo!!\n"
          ],
          "name": "stdout"
        }
      ]
    },
    {
      "cell_type": "code",
      "metadata": {
        "id": "-b7nju2Rm-zd",
        "colab_type": "code",
        "colab": {
          "base_uri": "https://localhost:8080/",
          "height": 34
        },
        "outputId": "4d3ce708-6edb-4453-e8fa-6d4a6cbbea0e"
      },
      "source": [
        "resultado = 2 + 3\n",
        "print(resultado)"
      ],
      "execution_count": null,
      "outputs": [
        {
          "output_type": "stream",
          "text": [
            "5\n"
          ],
          "name": "stdout"
        }
      ]
    },
    {
      "cell_type": "markdown",
      "metadata": {
        "id": "16eV9SNXylyz",
        "colab_type": "text"
      },
      "source": [
        "## Operador\n",
        "Un operador es un carácter o conjunto de caracteres que actúa sobre una, dos o más variables y/o literales para llevar a cabo una operación con un resultado determinado.\n",
        "\n",
        "Ejemplos de operadores comunes son los operadores aritméticos + (suma), - (resta) o * (producto), aunque en Python existen otros operadores."
      ]
    },
    {
      "cell_type": "code",
      "metadata": {
        "id": "fcL4j0C6yLMg",
        "colab_type": "code",
        "colab": {
          "base_uri": "https://localhost:8080/",
          "height": 34
        },
        "outputId": "8490dbf8-2cd5-48d9-9bfe-ca9d5842ff3c"
      },
      "source": [
        "a = 5 + 2  # Suma del número 5 y el número 2\n",
        "a < 10  # Compara si el valor de la variable a es menor que 10\n",
        "b = \"hola\" + \" mundo\" # Concatena dos cadenas \n",
        "b is None  # Compara si la identidad de la variable b es None\n",
        "c = a # c toma el valor de a\n",
        "3 * (200 - c) # Resta a 200 el valor de c y lo multiplica por 3"
      ],
      "execution_count": null,
      "outputs": [
        {
          "output_type": "execute_result",
          "data": {
            "text/plain": [
              "579"
            ]
          },
          "metadata": {
            "tags": []
          },
          "execution_count": 6
        }
      ]
    },
    {
      "cell_type": "markdown",
      "metadata": {
        "id": "z38J_xND0_26",
        "colab_type": "text"
      },
      "source": [
        "## Sentencia\n",
        "\n",
        "Una sentencia o declaración es una instrucción que define una acción. Una sentencia puede estar formada por una o varias expresiones, aunque no siempre es así.\n",
        "\n",
        "En definitiva, las sentencias son las instrucciones que componen nuestro programa y determinan su comportamiento.\n",
        "\n",
        "Ejemplos de sentencias son la asignación = o las instrucciones if, if ... else ..., for o while entre otras.\n",
        "\n",
        "\n",
        "\n",
        "```\n",
        "Una sentencia está delimitada por el carácter Enter (\\n).\n",
        "```\n",
        "\n"
      ]
    },
    {
      "cell_type": "code",
      "metadata": {
        "id": "XDQhHQv10AxT",
        "colab_type": "code",
        "colab": {}
      },
      "source": [
        "a = 2 + 3  # Asigna a la variable <a> el resultado de 2 + 3"
      ],
      "execution_count": null,
      "outputs": []
    },
    {
      "cell_type": "markdown",
      "metadata": {
        "id": "eO4KKzXC2LK2",
        "colab_type": "text"
      },
      "source": [
        "Para dividir una sentencia en varias líneas se utiliza el carácter \"\\\\\". Por ejemplo:"
      ]
    },
    {
      "cell_type": "code",
      "metadata": {
        "id": "rKDB-sS41vn9",
        "colab_type": "code",
        "colab": {}
      },
      "source": [
        "a = 2 + 3 + 5 + \\\n",
        "    7 + 9 + 4 + \\\n",
        "    6"
      ],
      "execution_count": null,
      "outputs": []
    },
    {
      "cell_type": "markdown",
      "metadata": {
        "id": "OmMWmWuF3Tmw",
        "colab_type": "text"
      },
      "source": [
        "## Bloques de código\n",
        "\n",
        "Un bloque de código es un grupo de sentencias relacionadas bien delimitadas. A diferencia de otros lenguajes como JAVA o C, en los que se usan los caracteres {} para definir un bloque de código, en Python se usa la indentación o sangrado.\n",
        "\n",
        "El sangrado o indentación consiste en mover un bloque de texto hacia la derecha insertando espacios o tabuladores al principio de la línea, dejando un margen a la izquierda."
      ]
    },
    {
      "cell_type": "code",
      "metadata": {
        "id": "z8_KvLjh2B8i",
        "colab_type": "code",
        "colab": {}
      },
      "source": [
        "def suma_numeros(numeros):  # Bloque 1\n",
        "  suma = 0                  # Bloque 2\n",
        "  for n in numeros:         # Bloque 2\n",
        "      suma += n             # Bloque 3\n",
        "      print(suma)           # Bloque 3\n",
        "  return suma               # Bloque 2"
      ],
      "execution_count": null,
      "outputs": []
    },
    {
      "cell_type": "markdown",
      "metadata": {
        "id": "69utWESR3zZ_",
        "colab_type": "text"
      },
      "source": [
        "## Sentencia básica if\n",
        "\n",
        "En Python, la sentencia if se utiliza para ejecutar un bloque de código si, y solo si, se cumple una determinada condición. Por tanto, if es usado para la toma de decisiones.\n",
        "\n",
        "```\n",
        "if condición:\n",
        "    bloque de código\n",
        "```\n",
        "Es decir, solo si condición se evalúa a True, se ejecutarán las sentencias que forman parte de bloque de código. En caso de que se evalúe a False no se ejecutará ninguna sentencia perteneciente a bloque de código.\n",
        "\n",
        "Aquí, condición puede ser un literal, el valor de una variable, el resultado de una expresión o el valor devuelto por una función.\n",
        "\n",
        "En las expresiones es muy común usar los operadores booleanos y de comparación.**texto en negrita**\n"
      ]
    },
    {
      "cell_type": "code",
      "metadata": {
        "id": "Kh5pum2a3y3R",
        "colab_type": "code",
        "colab": {
          "base_uri": "https://localhost:8080/",
          "height": 34
        },
        "outputId": "df920d81-d2ae-4073-d43a-36ae10ce9437"
      },
      "source": [
        "x = 17\n",
        "if x < 20:\n",
        "    print('x es menor que 20')"
      ],
      "execution_count": null,
      "outputs": [
        {
          "output_type": "stream",
          "text": [
            "x es menor que 20\n"
          ],
          "name": "stdout"
        }
      ]
    },
    {
      "cell_type": "code",
      "metadata": {
        "id": "FFx66aZh3rvN",
        "colab_type": "code",
        "colab": {
          "base_uri": "https://localhost:8080/",
          "height": 34
        },
        "outputId": "8050f6fa-a4fa-4792-8170-75cbe341b397"
      },
      "source": [
        "valores = [1, 3, 4, 8]\n",
        "if 5 in valores:\n",
        "    print('está en valores')\n",
        "print('fin')"
      ],
      "execution_count": null,
      "outputs": [
        {
          "output_type": "stream",
          "text": [
            "fin\n"
          ],
          "name": "stdout"
        }
      ]
    },
    {
      "cell_type": "markdown",
      "metadata": {
        "id": "BmTYMkG25N2z",
        "colab_type": "text"
      },
      "source": [
        "## Sentencia if … else\n",
        "Hay ocasiones en que la sentencia if básica no es suficiente y es necesario ejecutar un conjunto de instrucciones o sentencias cuando la condición se evalúa a False.\n",
        "\n",
        "Para ello se utiliza la estructura if ... else... Esta es estructura es como sigue:\n",
        "\n",
        "```\n",
        "if condición:\n",
        "    bloque de código (cuando condición se evalúa a True)\n",
        "else:\n",
        "    bloque de código 2 (cuando condición se evalúa a False)\n",
        "```\n",
        "\n"
      ]
    },
    {
      "cell_type": "code",
      "metadata": {
        "id": "S63cmdri5F8x",
        "colab_type": "code",
        "colab": {
          "base_uri": "https://localhost:8080/",
          "height": 34
        },
        "outputId": "683c4cdb-71dc-49d1-8cd8-b325001c4da8"
      },
      "source": [
        "resultado = None\n",
        "x = 10\n",
        "y = 2\n",
        "if y > 0:\n",
        "    resultado = x / y\n",
        "else:\n",
        "    resultado = f'No se puede dividir {x} entre {y}'\n",
        "print(resultado)"
      ],
      "execution_count": null,
      "outputs": [
        {
          "output_type": "stream",
          "text": [
            "5.0\n"
          ],
          "name": "stdout"
        }
      ]
    },
    {
      "cell_type": "markdown",
      "metadata": {
        "id": "NtMuF2_G5qnQ",
        "colab_type": "text"
      },
      "source": [
        "## Sentencia if … elif … else\n",
        "\n",
        "También es posible que te encuentres situaciones en que una decisión dependa de más de una condición.\n",
        "\n",
        "En estos casos se usa una sentencia if compuesta, cuya estructura es como se indica a continuación:\n",
        "\n",
        "\n",
        "```\n",
        "if cond1:\n",
        "    bloque cond1 (sentencias si se evalúa la cond1 a True)\n",
        "elif cond2:\n",
        "    bloque cond2 (sentencias si cond1 es False pero cond2 es True)\n",
        "...\n",
        "else:\n",
        "    bloque else (sentencias si todas las condiciones se evalúan a False)\n",
        "```\n",
        "\n"
      ]
    },
    {
      "cell_type": "code",
      "metadata": {
        "id": "nVeP6QAY5hff",
        "colab_type": "code",
        "colab": {
          "base_uri": "https://localhost:8080/",
          "height": 34
        },
        "outputId": "7b621a1a-37fd-456b-8fa1-f299d1bc50ff"
      },
      "source": [
        "x = 28\n",
        "if x < 0:\n",
        "    print(f'{x} es menor que 0')\n",
        "elif x > 0:\n",
        "    print(f'{x} es mayor que 0')\n",
        "else:\n",
        "    print('x es 0')"
      ],
      "execution_count": null,
      "outputs": [
        {
          "output_type": "stream",
          "text": [
            "28 es mayor que 0\n"
          ],
          "name": "stdout"
        }
      ]
    },
    {
      "cell_type": "markdown",
      "metadata": {
        "id": "e3BeeqTf6VGb",
        "colab_type": "text"
      },
      "source": [
        "##Sentencias if anidadas\n",
        "Para terminar este tutorial, simplemente me gustaría añadir que en cualquiera de los bloques de sentencias anteriores se puede volver a incluir una sentencia if, o if … else … o if … elif … else …"
      ]
    },
    {
      "cell_type": "code",
      "metadata": {
        "id": "kaL6f_pR5-DF",
        "colab_type": "code",
        "colab": {
          "base_uri": "https://localhost:8080/",
          "height": 34
        },
        "outputId": "2e1336a9-12a4-42e1-dd95-9294fd37cb0a"
      },
      "source": [
        "x = 28\n",
        "if x < 0:\n",
        "    print(f'{x} es menor que 0')\n",
        "else:\n",
        "    if x > 0:\n",
        "        print(f'{x} es mayor que 0')\n",
        "    else:\n",
        "        print('x es 0')"
      ],
      "execution_count": null,
      "outputs": [
        {
          "output_type": "stream",
          "text": [
            "28 es mayor que 0\n"
          ],
          "name": "stdout"
        }
      ]
    },
    {
      "cell_type": "markdown",
      "metadata": {
        "id": "qc0ksLdm646e",
        "colab_type": "text"
      },
      "source": [
        "##sentencia while en Python\n",
        "\n",
        "El uso principal de la sentencia while es ejecutar repetidamente un bloque de código mientras se cumpla una condición.\n",
        "\n",
        "\n",
        "```\n",
        "while condición:\n",
        "    bloque de código\n",
        "```\n",
        "\n"
      ]
    },
    {
      "cell_type": "code",
      "metadata": {
        "id": "4lffu9Z06fAs",
        "colab_type": "code",
        "colab": {
          "base_uri": "https://localhost:8080/",
          "height": 235
        },
        "outputId": "5e5c5450-eb21-4d85-c76d-e0026016c88d"
      },
      "source": [
        "numero = 0\n",
        "print('Tabla del 3')\n",
        "while numero <= 10:\n",
        "    print(f'{numero * 3}')\n",
        "    numero += 1\n",
        "print('Fin')"
      ],
      "execution_count": null,
      "outputs": [
        {
          "output_type": "stream",
          "text": [
            "Tabla del 3\n",
            "0\n",
            "3\n",
            "6\n",
            "9\n",
            "12\n",
            "15\n",
            "18\n",
            "21\n",
            "24\n",
            "27\n",
            "30\n",
            "Fin\n"
          ],
          "name": "stdout"
        }
      ]
    },
    {
      "cell_type": "markdown",
      "metadata": {
        "id": "5qqWDcG975Pq",
        "colab_type": "text"
      },
      "source": [
        "Ejemplo: A partir de la siguiente lista de valores [5, 1, 9, 2, 7, 4] se quiere saber si el número 2 está contenido en dicha lista. La estructura típica de bucle while para ello es como sigue:"
      ]
    },
    {
      "cell_type": "code",
      "metadata": {
        "id": "-VnxkdcU7JKm",
        "colab_type": "code",
        "colab": {
          "base_uri": "https://localhost:8080/",
          "height": 34
        },
        "outputId": "cc561de3-2ac3-458a-b05c-85542291339f"
      },
      "source": [
        "valores = [5, 1, 9, 2, 7, 4]\n",
        "encontrado = False\n",
        "indice = 0\n",
        "longitud = len(valores)\n",
        "while not encontrado and indice < longitud:\n",
        "    valor = valores[indice]\n",
        "    if valor == 2:\n",
        "        encontrado = True\n",
        "    else:\n",
        "        indice += 1\n",
        "if encontrado:\n",
        "    print(f'El número 2 ha sido encontrado en el índice {indice}')\n",
        "else:\n",
        "    print('El número 2 no se encuentra en la lista de valores')"
      ],
      "execution_count": null,
      "outputs": [
        {
          "output_type": "stream",
          "text": [
            "El número 2 ha sido encontrado en el índice 3\n"
          ],
          "name": "stdout"
        }
      ]
    },
    {
      "cell_type": "markdown",
      "metadata": {
        "id": "fr0MgBoxLjUV",
        "colab_type": "text"
      },
      "source": [
        "##El bucle for en python\n",
        "El bucle for se utiliza para recorrer los elementos de un objeto iterable (lista, tupla, conjunto, diccionario, …) y ejecutar un bloque de código. En cada paso de la iteración se tiene en cuenta a un único elemento del objeto iterable, sobre el cuál se pueden aplicar una serie de operaciones.\n",
        "\n",
        "\n",
        "```\n",
        "for <elem> in <iterable>:\n",
        "    <Tu código>\n",
        "```\n",
        "\n"
      ]
    },
    {
      "cell_type": "code",
      "metadata": {
        "id": "9b44_kkW8Rq9",
        "colab_type": "code",
        "colab": {
          "base_uri": "https://localhost:8080/",
          "height": 84
        },
        "outputId": "fc969bcd-7b9c-48ac-afc7-6c0ce7d11efb"
      },
      "source": [
        "nums = [4, 78, 9, 84]\n",
        "for n in nums:\n",
        "    print(n)"
      ],
      "execution_count": null,
      "outputs": [
        {
          "output_type": "stream",
          "text": [
            "4\n",
            "78\n",
            "9\n",
            "84\n"
          ],
          "name": "stdout"
        }
      ]
    },
    {
      "cell_type": "markdown",
      "metadata": {
        "id": "CmamX8XwL7fk",
        "colab_type": "text"
      },
      "source": [
        "##Qué es un iterable\n",
        "Un iterable es un objeto que se puede iterar sobre él, es decir, que permite recorrer sus elementos uno a uno. Para ser más técnico, un objeto iterable es aquél que puede pasarse como parámetro de la función iter()."
      ]
    },
    {
      "cell_type": "code",
      "metadata": {
        "id": "4W0q5PuJL2UY",
        "colab_type": "code",
        "colab": {
          "base_uri": "https://localhost:8080/",
          "height": 34
        },
        "outputId": "057dc2f2-9aeb-447d-8db3-4f40873f3da4"
      },
      "source": [
        "nums = [4, 78, 9, 84]\n",
        "it = iter(nums)\n",
        "next(it)"
      ],
      "execution_count": null,
      "outputs": [
        {
          "output_type": "execute_result",
          "data": {
            "text/plain": [
              "4"
            ]
          },
          "metadata": {
            "tags": []
          },
          "execution_count": 3
        }
      ]
    },
    {
      "cell_type": "markdown",
      "metadata": {
        "id": "881iHPvGdIlp",
        "colab_type": "text"
      },
      "source": [
        "## Bucle for en diccionarios\n",
        "Un caso es especial de bucle for se da al recorrer los elementos de un diccionario. Dado que un diccionario está compuesto por pares clave/valor, hay distintas formas de iterar sobre ellas.\n",
        "\n",
        "1 – Recorrer las claves del diccionario."
      ]
    },
    {
      "cell_type": "code",
      "metadata": {
        "id": "syj19EyDc7D8",
        "colab_type": "code",
        "colab": {
          "base_uri": "https://localhost:8080/",
          "height": 84
        },
        "outputId": "69c16890-378f-4098-9b91-a8f7f20238bb"
      },
      "source": [
        "valores = {'A': 4, 'E': 3, 'I': 1, 'O': 0}\n",
        "for k in valores:\n",
        "    print(k)"
      ],
      "execution_count": null,
      "outputs": [
        {
          "output_type": "stream",
          "text": [
            "A\n",
            "E\n",
            "I\n",
            "O\n"
          ],
          "name": "stdout"
        }
      ]
    },
    {
      "cell_type": "markdown",
      "metadata": {
        "id": "mlqqCou7dSoH",
        "colab_type": "text"
      },
      "source": [
        "2 – Iterar sobre los valores del diccionario"
      ]
    },
    {
      "cell_type": "code",
      "metadata": {
        "id": "C4KwFDeZdRcb",
        "colab_type": "code",
        "colab": {
          "base_uri": "https://localhost:8080/",
          "height": 84
        },
        "outputId": "bcba45f0-dc40-45b5-edd7-d5009036ab2d"
      },
      "source": [
        "valores = {'A': 4, 'E': 3, 'I': 1, 'O': 0}\n",
        "for v in valores.values():\n",
        "    print(v)"
      ],
      "execution_count": null,
      "outputs": [
        {
          "output_type": "stream",
          "text": [
            "4\n",
            "3\n",
            "1\n",
            "0\n"
          ],
          "name": "stdout"
        }
      ]
    },
    {
      "cell_type": "markdown",
      "metadata": {
        "id": "p3HBXYU5dcV2",
        "colab_type": "text"
      },
      "source": [
        "3 – Iterar a la vez sobre la clave y el valor de cada uno de los elementos del diccionario.\n",
        "\n"
      ]
    },
    {
      "cell_type": "code",
      "metadata": {
        "id": "VIl4nOkjdXRm",
        "colab_type": "code",
        "colab": {
          "base_uri": "https://localhost:8080/",
          "height": 84
        },
        "outputId": "742daf61-6535-49f8-d315-a4812732b7a1"
      },
      "source": [
        "valores = {'A': 4, 'E': 3, 'I': 1, 'O': 0}\n",
        "for k, v in valores.items():\n",
        "    print('k=', k, ', v=', v)\n"
      ],
      "execution_count": null,
      "outputs": [
        {
          "output_type": "stream",
          "text": [
            "k= A , v= 4\n",
            "k= E , v= 3\n",
            "k= I , v= 1\n",
            "k= O , v= 0\n"
          ],
          "name": "stdout"
        }
      ]
    },
    {
      "cell_type": "markdown",
      "metadata": {
        "id": "7FhusBY98bAf",
        "colab_type": "text"
      },
      "source": [
        "##Python for y la clase range\n",
        "¿Cómo implementamos y/o simulamos en Python el bucle for basado en una secuencia numérica? Para estos casos, Python pone a nuestra disposición la clase range (en Python 2 era una función). El constructor de esta clase, range(max), devuelve un iterable cuyos valores van desde 0 hasta max - 1."
      ]
    },
    {
      "cell_type": "code",
      "metadata": {
        "id": "3RLzlUbPdkdj",
        "colab_type": "code",
        "colab": {}
      },
      "source": [
        "for i in range(11):\n",
        "    print(i)\n",
        "    "
      ],
      "execution_count": null,
      "outputs": []
    },
    {
      "cell_type": "markdown",
      "metadata": {
        "id": "_YR6M_9c9MLU",
        "colab_type": "text"
      },
      "source": [
        "\n",
        "El tipo de datos range se puede invocar con uno, dos e incluso tres parámetros:\n",
        "\n",
        "- range(max): Un iterable de números enteros consecutivos que empieza en 0 y acaba en max - 1\n",
        "\n",
        "- range(min, max): Un iterable de números enteros consecutivos que empieza en min y acaba en max - 1\n",
        "\n",
        "- range(min, max, step): Un iterable de números enteros consecutivos que empieza en min acaba en max - 1 y los valores se van incrementando de step en step. \n",
        "Este último caso simula el bucle for con variable de control.\n",
        "\n",
        "Por ejemplo, para mostrar por pantalla los números pares del 0 al 10 podríamos usar la función range del siguiente modo:\n",
        "\n"
      ]
    },
    {
      "cell_type": "code",
      "metadata": {
        "id": "I1CjO7_S9ux3",
        "colab_type": "code",
        "colab": {}
      },
      "source": [
        "for num in range(0, 11, 2):\n",
        "    print(num)\n"
      ],
      "execution_count": null,
      "outputs": []
    },
    {
      "cell_type": "markdown",
      "metadata": {
        "id": "NPoST90L9-FI",
        "colab_type": "text"
      },
      "source": [
        "##for _ in < iterable >\n",
        "\n",
        "En ocasiones, es posible que el elemento actual del iterable que se está recorriendo sea irrelevante. En estos casos puedes usar la variable (_) para indicar esta situación. No obstante, yo no te lo recomiendo ya que también se suele usar en librerías de traducciones de texto. Aún así, te muestro un caso de uso. Imagínate que queremos implementar una función que devuelva la longitud de una lista. El código podría ser como el que te muestro a continuación:"
      ]
    },
    {
      "cell_type": "code",
      "metadata": {
        "id": "-vwKjWZf-MI0",
        "colab_type": "code",
        "colab": {}
      },
      "source": [
        "def longitud(mi_lista):\n",
        "    cont = 0\n",
        "    for _ in mi_lista:\n",
        "        cont += 1\n",
        "    return cont"
      ],
      "execution_count": null,
      "outputs": []
    },
    {
      "cell_type": "markdown",
      "metadata": {
        "id": "wn6Pd7HB-bjf",
        "colab_type": "text"
      },
      "source": [
        "##Modificando la iteración del bucle for: break y continue\n",
        "\n",
        "Por último, vamos a ver que es posible alterar la iteración de un bucle for en Python. Para ello, nos valdremos de las sentencias (break) y (continue). Pero, ¿qué hacen estas sentencias?\n",
        "\n",
        "- (break) se utiliza para finalizar y salir el bucle, por ejemplo, si se cumple alguna condición.\n",
        "\n",
        "- Por su parte, (continue) salta al siguiente paso de la iteración, ignorando todas las sentencias que le siguen y que forman parte del bucle.\n",
        "\n",
        "Un ejemplo es la mejor manera de entenderlo."
      ]
    },
    {
      "cell_type": "markdown",
      "metadata": {
        "id": "omBbaxId-2CN",
        "colab_type": "text"
      },
      "source": [
        "##Uso de break. Encontrar un elemento en una colección"
      ]
    },
    {
      "cell_type": "code",
      "metadata": {
        "id": "Y1CWWmG6-_lP",
        "colab_type": "code",
        "colab": {}
      },
      "source": [
        "coleccion = [2, 4, 5, 7, 8, 9, 3, 4]\n",
        "for e in coleccion:\n",
        "    if e == 7:\n",
        "        break\n",
        "    print(e)"
      ],
      "execution_count": null,
      "outputs": []
    },
    {
      "cell_type": "markdown",
      "metadata": {
        "id": "KEFeNf3z_SZU",
        "colab_type": "text"
      },
      "source": [
        "El código anterior mostrará los números 2, 4 y 5.\n",
        "\n",
        "\n",
        "##Uso de continue. Imprimir solo los números pares de una colección"
      ]
    },
    {
      "cell_type": "code",
      "metadata": {
        "id": "bAphLdg6_awR",
        "colab_type": "code",
        "colab": {}
      },
      "source": [
        "coleccion = [2, 4, 5, 7, 8, 9, 3, 4]\n",
        "for e in coleccion:\n",
        "    if e % 2 != 0:\n",
        "        continue\n",
        "    print(e)"
      ],
      "execution_count": null,
      "outputs": []
    },
    {
      "cell_type": "markdown",
      "metadata": {
        "id": "s_qkLkFb_hXh",
        "colab_type": "text"
      },
      "source": [
        "En este caso, el código anterior mostrará los números 2, 4, 8 y 4.\n",
        "\n",
        "\n",
        "\n",
        "##for … else\n",
        "\n",
        "En relación al apartado anterior, Python ofrece una estructura adicional de bucle (for) cuya estructura es la siguiente:"
      ]
    },
    {
      "cell_type": "code",
      "metadata": {
        "id": "h3NChEGt_n5e",
        "colab_type": "code",
        "colab": {}
      },
      "source": [
        "for e in iterable:\n",
        "    # Tu código aquí\n",
        "else:\n",
        "    # Este código siempre se ejecuta si no\n",
        "    # se ejecutó la sentencia break en el bloque for"
      ],
      "execution_count": null,
      "outputs": []
    },
    {
      "cell_type": "markdown",
      "metadata": {
        "id": "NDEonnaU_tDM",
        "colab_type": "text"
      },
      "source": [
        "Es decir, el código del bloque (else) se ejecutará siempre y cuando no se haya ejecutado la sentencia break dentro del bloque del (for).\n",
        "\n",
        "Veamos un ejemplo:"
      ]
    },
    {
      "cell_type": "code",
      "metadata": {
        "id": "q-HCCO3T_zjv",
        "colab_type": "code",
        "colab": {}
      },
      "source": [
        "numeros = [1, 2, 4, 3, 5, 8, 6]\n",
        "\n",
        "for n in numeros:\n",
        "    if n == 3:\n",
        "        break\n",
        "else:\n",
        "    print('No se encontró el número 3')"
      ],
      "execution_count": null,
      "outputs": []
    },
    {
      "cell_type": "markdown",
      "metadata": {
        "id": "7a907k6sAsIK",
        "colab_type": "text"
      },
      "source": [
        "Como en el ejemplo anterior la secuencia (numeros) contiene al número (3), la instrucción print nunca se ejecutará.\n",
        "\n",
        "##Conclusión\n",
        "En este tutorial hemos repasado los aspectos más importantes del bucle for en Python. Esta estructura de control es clave para trabajar colecciones.\n",
        "\n",
        "También hemos visto el concepto de iterable e iterador en Python. Son los objetos en los que se basa la operativa del bucle for.\n",
        "\n",
        "Por último, se ha explicado cómo simular en Python un bucle for basado en rango numérico y variable de control y cómo alterar la iteración con las sentencias break y continue.\n",
        "\n"
      ]
    },
    {
      "cell_type": "markdown",
      "metadata": {
        "id": "-qUfVkPkBN0E",
        "colab_type": "text"
      },
      "source": [
        "##¿Qué es una lista?\n",
        "Las listas en Python son un tipo contenedor, compuesto, que se usan para almacenar conjuntos de elementos relacionados del mismo tipo o de tipos distintos.\n",
        "\n",
        "Junto a las clases tuple, range y str, son uno de los tipos de secuencia en Python, con la particularidad de que son mutables. Esto último quiere decir que su contenido se puede modificar después de haber sido creada.\n",
        "\n",
        "Para crear una lista en Python, simplemente hay que encerrar una secuencia de elementos separados por comas entre paréntesis cuadrados [].\n",
        "\n",
        "Por ejemplo, para crear una lista con los números del 1 al 10 se haría del siguiente modo:"
      ]
    },
    {
      "cell_type": "code",
      "metadata": {
        "id": "cs0U_I0rBeSY",
        "colab_type": "code",
        "colab": {}
      },
      "source": [
        "numeros = [1, 2, 3, 4, 5, 6, 7, 8, 9, 10]"
      ],
      "execution_count": null,
      "outputs": []
    },
    {
      "cell_type": "markdown",
      "metadata": {
        "id": "YeSyxZBjBgrL",
        "colab_type": "text"
      },
      "source": [
        "Como te decía, las listas pueden almacenar elementos de distinto tipo. La siguiente lista también es válida:"
      ]
    },
    {
      "cell_type": "code",
      "metadata": {
        "id": "DXtxRaCkBsNw",
        "colab_type": "code",
        "colab": {}
      },
      "source": [
        "elementos = [3, 'a', 8, 7.2, 'hola']"
      ],
      "execution_count": null,
      "outputs": []
    },
    {
      "cell_type": "markdown",
      "metadata": {
        "id": "Hvg3E8qHBur4",
        "colab_type": "text"
      },
      "source": [
        "Incluso pueden contener otros elementos compuestos, como objetos u otras listas:\n",
        "\n"
      ]
    },
    {
      "cell_type": "code",
      "metadata": {
        "id": "1SXDcKVyByhG",
        "colab_type": "code",
        "colab": {}
      },
      "source": [
        "lista = [1, ['a', 'e', 'i', 'o', 'u'], 8.9, 'hola']"
      ],
      "execution_count": null,
      "outputs": []
    },
    {
      "cell_type": "markdown",
      "metadata": {
        "id": "bTM9Z-8AB3g7",
        "colab_type": "text"
      },
      "source": [
        "Las listas también se pueden crear usando el constructor de la clase, list(iterable). En este caso, el constructor crea una lista cuyos elementos son los mismos y están en el mismo orden que los ítems del iterable. El objeto iterable puede ser o una secuencia, un contenedor que soporte la iteración o un objeto iterador.\n",
        "\n",
        "Por ejemplo, el tipo str también es un tipo secuencia. Si pasamos un string al constructor list() creará una lista cuyos elementos son cada uno de los caracteres de la cadena:"
      ]
    },
    {
      "cell_type": "code",
      "metadata": {
        "id": "OXUtUSNyB9Mc",
        "colab_type": "code",
        "colab": {}
      },
      "source": [
        "vocales = list('aeiou')\n",
        "vocales\n",
        "['a', 'e', 'i', 'o', 'u']"
      ],
      "execution_count": null,
      "outputs": []
    },
    {
      "cell_type": "markdown",
      "metadata": {
        "id": "cTZ-3rNMCDDg",
        "colab_type": "text"
      },
      "source": [
        "Termino esta sección mostrando dos alternativas de crear una lista vacía:\n",
        "\n"
      ]
    },
    {
      "cell_type": "code",
      "metadata": {
        "id": "bY9eN6e3CGKD",
        "colab_type": "code",
        "colab": {}
      },
      "source": [
        "lista_1 = []  # Opción 1\n",
        "lista_2 = list()  # Opción 2"
      ],
      "execution_count": null,
      "outputs": []
    },
    {
      "cell_type": "markdown",
      "metadata": {
        "id": "PWvKTUdnCKGP",
        "colab_type": "text"
      },
      "source": [
        "##Cómo acceder a los elementos de una lista en Python\n",
        "Para acceder a un elemento de una lista se utilizan los índices. Un índice es un número entero que indica la posición de un elemento en una lista. El primer elemento de una lista siempre comienza en el índice 0.\n",
        "\n",
        "Por ejemplo, en una lista con 4 elementos, los índices de cada uno de los ítems serían 0, 1, 2 y 3."
      ]
    },
    {
      "cell_type": "code",
      "metadata": {
        "id": "JeWI0_XfCORC",
        "colab_type": "code",
        "colab": {}
      },
      "source": [
        "lista = ['a', 'b', 'd', 'i', 'j']\n",
        "lista[0]  # Primer elemento de la lista. Índice 0\n",
        "'a'\n",
        "lista[3]  # Cuarto elemento de la lista. Índice 3\n",
        "'i'"
      ],
      "execution_count": null,
      "outputs": []
    },
    {
      "cell_type": "markdown",
      "metadata": {
        "id": "p0MJi7VsCzc0",
        "colab_type": "text"
      },
      "source": [
        "Si se intenta acceder a un índice que está fuera del rango de la lista, el intérprete lanzará la excepción IndexError. De igual modo, si se utiliza un índice que no es un número entero, se lanzará la excepción TypeError:"
      ]
    },
    {
      "cell_type": "code",
      "metadata": {
        "id": "ufkgJga7C0Z4",
        "colab_type": "code",
        "colab": {}
      },
      "source": [
        " lista = [1, 2, 3]  # Los índices válidos son 0, 1 y 2\n",
        " lista[8]\n",
        "Traceback (most recent call last):\n",
        "  File \"<input>\", line 1, in <module>\n",
        "IndexError: list index out of range\n",
        "\n",
        " lista[1.0]\n",
        "Traceback (most recent call last):\n",
        "  File \"<input>\", line 1, in <module>\n",
        "TypeError: list indices must be integers or slices, not float"
      ],
      "execution_count": null,
      "outputs": []
    },
    {
      "cell_type": "markdown",
      "metadata": {
        "id": "PtKwP23zDHAh",
        "colab_type": "text"
      },
      "source": [
        "Como hemos visto, las listas pueden contener otros elementos de tipo secuencia de forma anidada. Por ejemplo, una lista que uno de sus ítems es otra lista. Del mismo modo, se puede acceder a los elementos de estos tipos usando índices compuestos o anidados:\n",
        "\n"
      ]
    },
    {
      "cell_type": "code",
      "metadata": {
        "id": "ESChEkJgDNPk",
        "colab_type": "code",
        "colab": {}
      },
      "source": [
        " lista = ['a', ['d', 'b'], 'z']\n",
        " lista[1][1]  # lista[1] hace referencia a la lista anidada\n",
        "'b'"
      ],
      "execution_count": null,
      "outputs": []
    },
    {
      "cell_type": "markdown",
      "metadata": {
        "id": "svOG3M62DQIK",
        "colab_type": "text"
      },
      "source": [
        "##Acceso a los elementos usando un índice negativo\n",
        "En Python está permitido usar índices negativos para acceder a los elementos de una secuencia. En este caso, el índice -1 hace referencia al último elemento de la secuencia, el -2 al penúltimo y así, sucesivamente:"
      ]
    },
    {
      "cell_type": "code",
      "metadata": {
        "id": "zGcBb8erDVzC",
        "colab_type": "code",
        "colab": {}
      },
      "source": [
        " vocales = ['a', 'e', 'i', 'o', 'u']\n",
        " vocales[-1]\n",
        "'u'\n",
        " vocales[-4]\n",
        "'e'"
      ],
      "execution_count": null,
      "outputs": []
    },
    {
      "cell_type": "markdown",
      "metadata": {
        "id": "KPwMzgPHC50H",
        "colab_type": "text"
      },
      "source": [
        "##Acceso a un subconjunto de elementos\n",
        "También es posible acceder a un subconjunto de elementos de una lista utilizando rangos en los índices. Esto es usando el operador [:]:"
      ]
    },
    {
      "cell_type": "code",
      "metadata": {
        "id": "yJH_B3ZbDgwf",
        "colab_type": "code",
        "colab": {}
      },
      "source": [
        " vocales = ['a', 'e', 'i', 'o', 'u']\n",
        " vocales[2:3]  # Elementos desde el índice 2 hasta el índice 3-1\n",
        "['i']\n",
        " vocales[2:4]  # Elementos desde el 2 hasta el índice 4-1\n",
        "['i', 'o']\n",
        " vocales[:]  # Todos los elementos\n",
        "['a', 'e', 'i', 'o', 'u']\n",
        " vocales[1:]  # Elementos desde el índice 1\n",
        "['e', 'i', 'o', 'u']\n",
        " vocales[:3]  # Elementos hasta el índice 3-1\n",
        "['a', 'e', 'i']"
      ],
      "execution_count": null,
      "outputs": []
    },
    {
      "cell_type": "markdown",
      "metadata": {
        "id": "gQVAAwjHDnbv",
        "colab_type": "text"
      },
      "source": [
        "También es posible acceder a los elementos de una lista indicando un paso con el operador [::]:"
      ]
    },
    {
      "cell_type": "code",
      "metadata": {
        "id": "gfoaQRCiDrD-",
        "colab_type": "code",
        "colab": {}
      },
      "source": [
        " letras = ['a', 'b', 'c', 'd', 'e', 'f', 'g', 'h', 'i', 'j', 'k']\n",
        " letras[::2]  # Acceso a los elementos de 2 en 2\n",
        "['a', 'c', 'e', 'g', 'i', 'k']\n",
        " letras[1:5:2]  # Elementos del índice 1 al 4 de 2 en 2\n",
        "['b', 'd']\n",
        " letras[1:6:3]  # Elementos del índice 1 al 5 de 3 en 3\n",
        "['b', 'e']"
      ],
      "execution_count": null,
      "outputs": []
    },
    {
      "cell_type": "markdown",
      "metadata": {
        "id": "9rcjUnq6DulG",
        "colab_type": "text"
      },
      "source": [
        "##for list Python – Recorrer una lista\n",
        "Ya hemos visto que se puede usar el bucle for en Python para recorrer los elementos de una secuencia. En nuestro caso, para recorrer una lista en Python utilizaríamos la siguiente estructura:"
      ]
    },
    {
      "cell_type": "code",
      "metadata": {
        "id": "0qosPEHVDyGM",
        "colab_type": "code",
        "colab": {}
      },
      "source": [
        " colores = ['azul', 'blanco', 'negro']\n",
        " for color in colores:\n",
        "        print(color)\n",
        "\n",
        "azul\n",
        "blanco\n",
        "negro"
      ],
      "execution_count": null,
      "outputs": []
    },
    {
      "cell_type": "markdown",
      "metadata": {
        "id": "Wfx8plBEDzAN",
        "colab_type": "text"
      },
      "source": [
        "##Añadir elementos a una lista en Python\n",
        "Tal y como te he adelantado, las listas son secuencias mutables, es decir, sus elementos pueden ser modificados (se pueden añadir nuevos ítems, actualizar o eliminar).\n",
        "\n",
        "Para añadir un nuevo elemento a una lista se utiliza el método append() y para añadir varios elementos, el método extend():"
      ]
    },
    {
      "cell_type": "code",
      "metadata": {
        "id": "VTe1hgK5EHK7",
        "colab_type": "code",
        "colab": {}
      },
      "source": [
        " vocales = ['a']\n",
        " vocales.append('e')  # Añade un elemento\n",
        " vocales\n",
        "['a', 'e']\n",
        "\n",
        " vocales.extend(['i', 'o', 'u'])  # Añade un grupo de elementos\n",
        " vocales\n",
        "['a', 'e', 'i', 'o', 'u']"
      ],
      "execution_count": null,
      "outputs": []
    },
    {
      "cell_type": "markdown",
      "metadata": {
        "id": "FqPBTcwAEKsE",
        "colab_type": "text"
      },
      "source": [
        "También es posible utilizar el operador de concatenación + para unir dos listas en una sola. El resultado es una nueva lista con los elementos de ambas:"
      ]
    },
    {
      "cell_type": "code",
      "metadata": {
        "id": "SPCd9Br9ELi2",
        "colab_type": "code",
        "colab": {}
      },
      "source": [
        " lista_1 = [1, 2, 3]\n",
        " lista_2 = [4, 5, 6]\n",
        " nueva_lista = lista_1 + lista_2\n",
        " nueva_lista\n",
        "[1, 2, 3, 4, 5, 6]"
      ],
      "execution_count": null,
      "outputs": []
    },
    {
      "cell_type": "markdown",
      "metadata": {
        "id": "aq9ldnFJEN0z",
        "colab_type": "text"
      },
      "source": [
        "Por otro lado, el operador * repite el contenido de una lista n veces:\n",
        "\n"
      ]
    },
    {
      "cell_type": "code",
      "metadata": {
        "id": "EOREZ05JENfH",
        "colab_type": "code",
        "colab": {}
      },
      "source": [
        " numeros = [1, 2, 3]\n",
        " numeros *= 3\n",
        " numeros\n",
        "[1, 2, 3, 1, 2, 3, 1, 2, 3]"
      ],
      "execution_count": null,
      "outputs": []
    },
    {
      "cell_type": "markdown",
      "metadata": {
        "id": "H8tyBb5CES4J",
        "colab_type": "text"
      },
      "source": [
        "Y para terminar esta sección, indicarte que también es posible añadir un elemento en una posición concreta de una lista con el método insert(índice, elemento). Los elementos cuyo índice sea mayor a índice se desplazan una posición a la derecha:\n",
        "\n"
      ]
    },
    {
      "cell_type": "code",
      "metadata": {
        "id": "B_k3xt41EU3M",
        "colab_type": "code",
        "colab": {}
      },
      "source": [
        " vocales = ['a', 'e', 'u']\n",
        " vocales.insert(2, 'i')\n",
        " vocales\n",
        "['a', 'e', 'i', 'u']"
      ],
      "execution_count": null,
      "outputs": []
    },
    {
      "cell_type": "markdown",
      "metadata": {
        "id": "JueHPeB6EejY",
        "colab_type": "text"
      },
      "source": [
        "##Modificar elementos de una lista\n",
        "Es posible modificar un elemento de una lista en Python con el operador de asignación =. Para ello, lo único que necesitas conocer es el índice del elemento que quieres modificar o el rango de índices:\n",
        "\n"
      ]
    },
    {
      "cell_type": "code",
      "metadata": {
        "id": "9szlnUrKEgUi",
        "colab_type": "code",
        "colab": {}
      },
      "source": [
        " vocales = ['o', 'o', 'o', 'o', 'u']\n",
        "\n",
        "# Actualiza el elemento del índice 0\n",
        " vocales[0] = 'a'\n",
        " vocales\n",
        "['a', 'o', 'o', 'o', 'u']\n",
        "\n",
        "# Actualiza los elementos entre las posiciones 1 y 2\n",
        " vocales[1:3] = ['e', 'i']\n",
        " vocales\n",
        "['a', 'e', 'i', 'o', 'u']"
      ],
      "execution_count": null,
      "outputs": []
    },
    {
      "cell_type": "markdown",
      "metadata": {
        "id": "mFQFu3l1Ej3o",
        "colab_type": "text"
      },
      "source": [
        "##Eliminar un elemento de una lista en Python\n",
        "En Python se puede eliminar un elemento de una lista de varias formas.\n",
        "\n",
        "Con la sentencia del se puede eliminar un elemento a partir de su índice:"
      ]
    },
    {
      "cell_type": "code",
      "metadata": {
        "id": "aNs8sVfJE7Dw",
        "colab_type": "code",
        "colab": {}
      },
      "source": [
        "# Elimina el elemento del índice 1\n",
        " vocales = ['a', 'e', 'i', 'o', 'u']\n",
        " del vocales[1]\n",
        " vocales\n",
        "['a', 'i', 'o', 'u']\n",
        "\n",
        "# Elimina los elementos con índices 2 y 3\n",
        " vocales = ['a', 'e', 'i', 'o', 'u']\n",
        " del vocales[2:4]\n",
        " vocales\n",
        "['a', 'e', 'u']\n",
        "\n",
        "# Elimina todos los elementos\n",
        " del vocales[:]\n",
        " vocales\n",
        "[]"
      ],
      "execution_count": null,
      "outputs": []
    },
    {
      "cell_type": "markdown",
      "metadata": {
        "id": "y-go_hnYE_fe",
        "colab_type": "text"
      },
      "source": [
        "Además de la sentencia del, podemos usar los métodos remove() y pop([i]). remove() elimina la primera ocurrencia que se encuentre del elemento en una lista. Por su parte, pop([i]) obtiene el elemento cuyo índice sea igual a i y lo elimina de la lista. Si no se especifica ningún índice, recupera y elimina el último elemento."
      ]
    },
    {
      "cell_type": "code",
      "metadata": {
        "id": "WXBVHgdqFBX6",
        "colab_type": "code",
        "colab": {}
      },
      "source": [
        " letras = ['a', 'b', 'k', 'a', 'v']\n",
        "\n",
        "# Elimina la primera ocurrencia del carácter a\n",
        " letras.remove('a')\n",
        " letras\n",
        "['b', 'k', 'a', 'v']\n",
        "\n",
        "# Obtiene y elimina el último elemento\n",
        " letras.pop()\n",
        "'v'\n",
        " letras\n",
        "['b', 'k', 'a']"
      ],
      "execution_count": null,
      "outputs": []
    },
    {
      "cell_type": "markdown",
      "metadata": {
        "id": "YkHfzN4uFE63",
        "colab_type": "text"
      },
      "source": [
        "Finalmente, es posible eliminar todos los elementos de una lista a través del método clear():\n",
        "\n"
      ]
    },
    {
      "cell_type": "code",
      "metadata": {
        "id": "bako2SL1FHbI",
        "colab_type": "code",
        "colab": {}
      },
      "source": [
        " letras = ['a', 'b', 'c']\n",
        " letras.clear()\n",
        " letras\n",
        "[]"
      ],
      "execution_count": null,
      "outputs": []
    },
    {
      "cell_type": "markdown",
      "metadata": {
        "id": "OZryLUUwFI_C",
        "colab_type": "text"
      },
      "source": [
        "El código anterior sería equivalente a del letras[:].\n",
        "\n"
      ]
    },
    {
      "cell_type": "markdown",
      "metadata": {
        "id": "hzHO8YRdFN1-",
        "colab_type": "text"
      },
      "source": [
        "##Longitud (len) de una lista en Python\n",
        "Como cualquier tipo secuencia, para conocer la longitud de una lista en Python se hace uso de la función len(). Esta función devuelve el número de elementos de una lista:"
      ]
    },
    {
      "cell_type": "code",
      "metadata": {
        "id": "5YR_KFUnFTL3",
        "colab_type": "code",
        "colab": {}
      },
      "source": [
        " vocales = ['a', 'e', 'i', 'o', 'u']\n",
        " len(vocales)\n",
        "5"
      ],
      "execution_count": null,
      "outputs": []
    },
    {
      "cell_type": "markdown",
      "metadata": {
        "id": "ritdUhb4FVbq",
        "colab_type": "text"
      },
      "source": [
        "##Cómo saber si un elemento está en una lista en Python\n",
        "Ya adelanté en el tutorial sobre operadores en Python, que para saber si un elemento está contenido en una lista, se utiliza el operador de pertenencia in:"
      ]
    },
    {
      "cell_type": "code",
      "metadata": {
        "id": "Scf6UJniFeJF",
        "colab_type": "code",
        "colab": {}
      },
      "source": [
        " vocales = ['a', 'e', 'i', 'o', 'u']\n",
        " if 'a' in vocales:\n",
        "...     print('Sí')\n",
        "...     \n",
        "Sí\n",
        " if 'b' not in vocales:\n",
        "...     print('No')\n",
        "...     \n",
        "No"
      ],
      "execution_count": null,
      "outputs": []
    },
    {
      "cell_type": "markdown",
      "metadata": {
        "id": "3DsOrHfSFgFx",
        "colab_type": "text"
      },
      "source": [
        "##sort list Python – Ordenar una lista en Python\n",
        "Las listas son secuencias ordenadas. Esto quiere decir que sus elementos siempre se devuelven en el mismo orden en que fueron añadidos.\n",
        "\n",
        "No obstante, es posible ordenar los elementos de una lista con el método sort(). El método sort() ordena los elementos de la lista utilizando únicamente el operador < y modifica la lista actual (no se obtiene una nueva lista):"
      ]
    },
    {
      "cell_type": "code",
      "metadata": {
        "id": "UOBUvamdFmKg",
        "colab_type": "code",
        "colab": {}
      },
      "source": [
        "# Lista desordenada de números enteros\n",
        " numeros = [3, 2, 6, 1, 7, 4]\n",
        "\n",
        "# Identidad del objeto numeros\n",
        " id(numeros)\n",
        "4475439216\n",
        "\n",
        "# Se llama al método sort() para ordenar los elementos de la lista\n",
        " numeros.sort()\n",
        " numeros\n",
        "[1, 2, 3, 4, 6, 7]\n",
        "\n",
        "# Se comprueba que la identidad del objeto numeros es la misma\n",
        " id(numeros)\n",
        "4475439216"
      ],
      "execution_count": null,
      "outputs": []
    },
    {
      "cell_type": "markdown",
      "metadata": {
        "id": "yP0c3YKoFq2M",
        "colab_type": "text"
      },
      "source": [
        "##Listado de métodos de la clase list\n",
        "\n",
        "Termino este tutorial mostrando la lista completa de métodos de la clase list. Algunos de ellos ya se han mencionado en las secciones anteriores."
      ]
    },
    {
      "cell_type": "markdown",
      "metadata": {
        "id": "t9lS51CIF6V9",
        "colab_type": "text"
      },
      "source": [
        "![Captura de pantalla (132).png](data:image/png;base64,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)"
      ]
    },
    {
      "cell_type": "markdown",
      "metadata": {
        "id": "PRii1WCpHUTu",
        "colab_type": "text"
      },
      "source": [
        "##Qué es una tupla\n",
        "La clase tuple en Python es un tipo contenedor, compuesto, que en un principio se pensó para almacenar grupos de elementos heterogéneos, aunque también puede contener elementos homogéneos.\n",
        "\n",
        "Junto a las clases list y range, es uno de los tipos de secuencia en Python, con la particularidad de que son inmutables. Esto último quiere decir que su contenido NO se puede modificar después de haber sido creada.\n",
        "\n",
        "En general, para crear una tupla en Python simplemente hay que definir una secuencia de elementos separados por comas.\n",
        "\n",
        "Por ejemplo, para crear una tupla con los números del 1 al 5 se haría del siguiente modo:"
      ]
    },
    {
      "cell_type": "code",
      "metadata": {
        "id": "ONnnVxO5HrgV",
        "colab_type": "code",
        "colab": {}
      },
      "source": [
        " numeros = 1, 2, 3, 4, 5"
      ],
      "execution_count": null,
      "outputs": []
    },
    {
      "cell_type": "markdown",
      "metadata": {
        "id": "bWi7wjtEHsJT",
        "colab_type": "text"
      },
      "source": [
        "Como te indicaba, la clase tuple también puede almacenar elementos de distinto tipo:\n",
        "\n"
      ]
    },
    {
      "cell_type": "code",
      "metadata": {
        "id": "uvKhMrlxHu6X",
        "colab_type": "code",
        "colab": {}
      },
      "source": [
        " elementos = 3, 'a', 8, 7.2, 'hola'"
      ],
      "execution_count": null,
      "outputs": []
    },
    {
      "cell_type": "markdown",
      "metadata": {
        "id": "fw1YSpojHwnj",
        "colab_type": "text"
      },
      "source": [
        "Incluso pueden contener otros elementos compuestos y objetos, como listas, otras tuplas, etc.:\n",
        "\n"
      ]
    },
    {
      "cell_type": "code",
      "metadata": {
        "id": "g8qN6pRIHy0N",
        "colab_type": "code",
        "colab": {}
      },
      "source": [
        " tup = 1, ['a', 'e', 'i', 'o', 'u'], 8.9, 'hola'"
      ],
      "execution_count": null,
      "outputs": []
    },
    {
      "cell_type": "markdown",
      "metadata": {
        "id": "nCfxIFUbICQV",
        "colab_type": "text"
      },
      "source": [
        "A continuación te indico las diferentes formas que existen de crear una tupla en Python:\n",
        "\n",
        "- Para crear una tupla vacía, usa paréntesis () o el constructor de la clase tuple() sin parámetros.\n",
        "- Para crear una tupla con un único elemento: elem, o (elem, ). Observa que siempre se añade una coma.\n",
        "- Para crear una tupla de varios elementos, sepáralos con comas: a, b, c o (a, b, c).\n",
        "- Las tuplas también se pueden crear usando el constructor de la clase, tuple(iterable). En este caso, el constructor crea una tupla cuyos elementos son los mismos y están en el mismo orden que los ítems del iterable. El objeto iterable puede ser una secuencia, un contenedor que soporte la iteración o un objeto iterador."
      ]
    },
    {
      "cell_type": "markdown",
      "metadata": {
        "id": "mdZc-XYqIL6k",
        "colab_type": "text"
      },
      "source": [
        "❗️IMPORTANTE: El hecho que determina que una secuencia de elementos sea una tupla es la coma , no los paréntesis. Los paréntesis son opcionales y solo se necesitan para crear una tupla vacía o para evitar ambigüedades."
      ]
    },
    {
      "cell_type": "code",
      "metadata": {
        "id": "LsaypXB_INJ1",
        "colab_type": "code",
        "colab": {}
      },
      "source": [
        "# Aquí, a, b y c no son una tupla, sino tres argumentos con\n",
        "# los que se llama a la función \"una_funcion\"\n",
        " una_funcion(a, b, c)\n",
        "\n",
        "# Aquí, a, b y c son tres elementos de una tupla. Esta tupla,\n",
        "# es el único argumento con el que se invoca a la \n",
        "# función \"una_funcion\"\n",
        " una_funcion((a, b, c))"
      ],
      "execution_count": null,
      "outputs": []
    },
    {
      "cell_type": "markdown",
      "metadata": {
        "id": "hD3qsJi4Ie-W",
        "colab_type": "text"
      },
      "source": [
        "La forma de crear una tupla sin paréntesis es conocida como tuple packing (algo así como empaquetado de tuplas).\n",
        "\n"
      ]
    },
    {
      "cell_type": "markdown",
      "metadata": {
        "id": "K7vowNgmIh2N",
        "colab_type": "text"
      },
      "source": [
        "##Cómo acceder a los elementos de una tupla en Python\n",
        "Para acceder a un elemento de una tupla se utilizan los índices. Un índice es un número entero que indica la posición de un elemento en una tupla. El primer elemento de una tupla siempre comienza en el índice 0.\n",
        "\n",
        "Por ejemplo, en una tupla con 3 elementos, los índices de cada uno de los ítems serían 0, 1 y 2."
      ]
    },
    {
      "cell_type": "code",
      "metadata": {
        "id": "YSqVYATQIlLn",
        "colab_type": "code",
        "colab": {}
      },
      "source": [
        " tupla = ('a', 'b', 'd')\n",
        " tupla[0]  # Primer elemento de la tupla. Índice 0\n",
        "'a'\n",
        " tupla[1]  # Segundo elemento de la tupla. Índice 1\n",
        "'b'"
      ],
      "execution_count": null,
      "outputs": []
    },
    {
      "cell_type": "markdown",
      "metadata": {
        "id": "BwfKpjkHIoWW",
        "colab_type": "text"
      },
      "source": [
        "Si se intenta acceder a un índice que está fuera del rango de la tupla, el intérprete lanzará la excepción IndexError. De igual modo, si se utiliza un índice que no es un número entero, se lanzará la excepción TypeError:\n",
        "\n"
      ]
    },
    {
      "cell_type": "code",
      "metadata": {
        "id": "hf8Qf77CIqTm",
        "colab_type": "code",
        "colab": {}
      },
      "source": [
        " tupla = 1, 2, 3  # Los índices válidos son 0, 1 y 2\n",
        " tupla[8]\n",
        "Traceback (most recent call last):\n",
        "  File \"<input>\", line 1, in <module>\n",
        "IndexError: tuple index out of range\n",
        "\n",
        " tupla[1.0]\n",
        "Traceback (most recent call last):\n",
        "  File \"<input>\", line 1, in <module>\n",
        "TypeError: tuple indices must be integers or slices, not float"
      ],
      "execution_count": null,
      "outputs": []
    },
    {
      "cell_type": "markdown",
      "metadata": {
        "id": "L0Gpaq0lI0ng",
        "colab_type": "text"
      },
      "source": [
        "##Acceso a los elementos usando un índice negativo\n",
        "Al igual que ocurre con las listas (y todos los tipos secuenciales), está permitido usar índices negativos para acceder a los elementos de una tupla. En este caso, el índice -1 hace referencia al último elemento de la secuencia, el -2 al penúltimo y así, sucesivamente:"
      ]
    },
    {
      "cell_type": "code",
      "metadata": {
        "id": "wkh58F7AI4GY",
        "colab_type": "code",
        "colab": {}
      },
      "source": [
        " bebidas = ('agua', 'café', 'batido', 'sorbete')\n",
        " bebidas[-1]\n",
        "'sorbete'\n",
        " bebidas[-3]\n",
        "'café'"
      ],
      "execution_count": null,
      "outputs": []
    },
    {
      "cell_type": "markdown",
      "metadata": {
        "id": "vaQNnMLgI6zN",
        "colab_type": "text"
      },
      "source": [
        "##Acceso a un subconjunto de elementos\n",
        "También es posible acceder a un subconjunto de elementos de una tupla utilizando el operador [:]:"
      ]
    },
    {
      "cell_type": "code",
      "metadata": {
        "id": "KJnNus8RI-ot",
        "colab_type": "code",
        "colab": {}
      },
      "source": [
        " vocales = 'a', 'e', 'i', 'o', 'u'\n",
        " vocales[2:3]  # Elementos desde el índice 2 hasta el índice 3-1\n",
        "('i',)\n",
        " vocales[2:4]  # Elementos desde el 2 hasta el índice 4-1\n",
        "('i', 'o')\n",
        " vocales[:]  # Todos los elementos\n",
        "('a', 'e', 'i', 'o', 'u')\n",
        " vocales[1:]  # Elementos desde el índice 1\n",
        "('e', 'i', 'o', 'u')\n",
        " vocales[:3]  # Elementos hasta el índice 3-1\n",
        "('a', 'e', 'i')"
      ],
      "execution_count": null,
      "outputs": []
    },
    {
      "cell_type": "markdown",
      "metadata": {
        "id": "GaDbB-_OJAa_",
        "colab_type": "text"
      },
      "source": [
        "O indicando un salto entre los elementos con el operador [::]:\n",
        "\n"
      ]
    },
    {
      "cell_type": "code",
      "metadata": {
        "id": "AJ6uEohPJEVg",
        "colab_type": "code",
        "colab": {}
      },
      "source": [
        " pares = 2, 4, 6, 8, 10, 12, 14\n",
        " pares[::2]  # Acceso a los elementos de 2 en 2\n",
        "(2, 6, 10, 14)\n",
        " pares[1:5:2]  # Elementos del índice 1 al 4 de 2 en 2\n",
        "(4, 8)\n",
        ">>> pares[1:6:3]  # Elementos del índice 1 al 5 de 3 en 3\n",
        "(4, 10)"
      ],
      "execution_count": null,
      "outputs": []
    },
    {
      "cell_type": "markdown",
      "metadata": {
        "id": "342Er8TWJHp1",
        "colab_type": "text"
      },
      "source": [
        "##tuple unpacking\n",
        "En este último apartado de esta sección vamos a ver el concepto conocido como tuple unpacking (desempaquetado de una tupla). Realmente el unpacking se puede aplicar sobre cualquier objeto de tipo secuencia, aunque se usa mayoritariamente con las tuplas, y consiste en lo siguiente:"
      ]
    },
    {
      "cell_type": "code",
      "metadata": {
        "id": "VcyoPuiUJPHW",
        "colab_type": "code",
        "colab": {}
      },
      "source": [
        " bebidas = 'agua', 'café', 'batido'\n",
        " a, b, c = bebidas\n",
        " a\n",
        "'agua'\n",
        " b\n",
        "'café'\n",
        " c\n",
        "'batido'"
      ],
      "execution_count": null,
      "outputs": []
    },
    {
      "cell_type": "markdown",
      "metadata": {
        "id": "6eTyyjhoJP0a",
        "colab_type": "text"
      },
      "source": [
        "Como puedes apreciar, es un tipo de asignación múltiple. Requiere que haya tantas variables a la izquierda del operador de asignación = como elementos haya en la secuencia."
      ]
    },
    {
      "cell_type": "markdown",
      "metadata": {
        "id": "9kKrjnQxKD7n",
        "colab_type": "text"
      },
      "source": [
        "##for tuple Python – Recorrer una tupla\n",
        "El bucle for en Python es una de las estructuras ideales para iterar sobre los elementos de una secuencia. Para recorrer una tupla en Python utiliza la siguiente estructura:"
      ]
    },
    {
      "cell_type": "code",
      "metadata": {
        "id": "5vGagF1nKHme",
        "colab_type": "code",
        "colab": {}
      },
      "source": [
        " colores = 'azul', 'blanco', 'negro'\n",
        " for color in colores:\n",
        "        print(color)\n",
        "\n",
        "azul\n",
        "blanco\n",
        "negro"
      ],
      "execution_count": null,
      "outputs": []
    },
    {
      "cell_type": "markdown",
      "metadata": {
        "id": "lLjGrFY7KLdD",
        "colab_type": "text"
      },
      "source": [
        "##Modificar una tupla en Python\n",
        "Como te he indicado, las tuplas son objetos inmutables. No obstante, las tuplas pueden contener objetos u otros elementos de tipo secuencia, por ejemplo, una lista. Estos objetos, si son mutables, sí se pueden modificar:"
      ]
    },
    {
      "cell_type": "code",
      "metadata": {
        "id": "a0KuqO0DKN8-",
        "colab_type": "code",
        "colab": {}
      },
      "source": [
        " tupla = (1, ['a', 'b'], 'hola', 8.2)\n",
        " tupla[1].append('c')  # tupla[1] hace referencia a la lista\n",
        " tupla\n",
        "(1, ['a', 'b', 'c'], 'hola', 8.2)"
      ],
      "execution_count": null,
      "outputs": []
    },
    {
      "cell_type": "markdown",
      "metadata": {
        "id": "EtUiqWGKKRCu",
        "colab_type": "text"
      },
      "source": [
        "##Longitud (len) de una tupla en Python\n",
        "Como cualquier tipo secuencia, para conocer la longitud de una tupla en Python se hace uso de la función len(). Esta función devuelve el número de elementos de una tupla:"
      ]
    },
    {
      "cell_type": "code",
      "metadata": {
        "id": "xV9FuW-lKSp4",
        "colab_type": "code",
        "colab": {}
      },
      "source": [
        " vocales = ('a', 'e', 'i', 'o', 'u')\n",
        " len(vocales)\n",
        "5"
      ],
      "execution_count": null,
      "outputs": []
    },
    {
      "cell_type": "markdown",
      "metadata": {
        "id": "zrQR5XaWK6Hn",
        "colab_type": "text"
      },
      "source": [
        "##Cómo saber si un elemento está en una tupla en Python\n",
        "Ya adelanté en el tutorial sobre operadores en Python, que para saber si un elemento está contenido en una tupla, se utiliza el operador de pertenencia in:"
      ]
    },
    {
      "cell_type": "code",
      "metadata": {
        "id": "VEJu2RZOK9dP",
        "colab_type": "code",
        "colab": {}
      },
      "source": [
        " colores = 'azul', 'blanco', 'negro'\n",
        " if 'azul' in colores:\n",
        "...     print('Sí')\n",
        "...     \n",
        "Sí\n",
        " if 'verde' not in colores:\n",
        "...     print('No')\n",
        "...     \n",
        "No"
      ],
      "execution_count": null,
      "outputs": []
    },
    {
      "cell_type": "markdown",
      "metadata": {
        "id": "TQdoixgbK_63",
        "colab_type": "text"
      },
      "source": [
        "##Listado de métodos de la clase tuple en Python\n",
        "Para terminar, se muestran los métodos de la clase tuple en Python, que son los métodos definidos para cualquier tipo secuencial:"
      ]
    },
    {
      "cell_type": "markdown",
      "metadata": {
        "id": "5PBlQUQNLLTI",
        "colab_type": "text"
      },
      "source": [
        "![Captura de pantalla (134).png](data:image/png;base64,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)"
      ]
    },
    {
      "cell_type": "markdown",
      "metadata": {
        "id": "f0VlVLwiLQgp",
        "colab_type": "text"
      },
      "source": [
        "##La clase range en Python\n",
        "Como te adelantaba en la introducción, range es un tipo de dato que representa una secuencia de números inmutable.\n",
        "\n",
        "Para crear un objeto de tipo range, se pueden usar dos constructores :\n",
        "\n",
        "range(fin): Crea una secuencia numérica que va desde 0 hasta fin - 1.\n",
        "range(inicio, fin, [paso]): Crea una secuencia numérica que va desde inicio hasta fin - 1. Si además se indica el parámetro paso, la secuencia genera los números de paso en paso.\n",
        "Veámoslo con un ejemplo:"
      ]
    },
    {
      "cell_type": "code",
      "metadata": {
        "id": "_q2MiVTTL1Is",
        "colab_type": "code",
        "colab": {}
      },
      "source": [
        " list(range(10))\n",
        "[0, 1, 2, 3, 4, 5, 6, 7, 8, 9]\n",
        " list(range(5, 10))\n",
        "[5, 6, 7, 8, 9]\n",
        " list(range(0, 10, 3))\n",
        "[0, 3, 6, 9]\n",
        " list(range(0, -10, -1))\n",
        "[0, -1, -2, -3, -4, -5, -6, -7, -8, -9]\n",
        " list(range(5, -5, -2))\n",
        "[5, 3, 1, -1, -3]"
      ],
      "execution_count": null,
      "outputs": []
    },
    {
      "cell_type": "markdown",
      "metadata": {
        "id": "6O2NJuGrL4ET",
        "colab_type": "text"
      },
      "source": [
        "¿Por qué estoy utilizando en los ejemplos la clase range como argumento de list? range, además de un tipo secuencial es un tipo iterable con una particularidad: a diferencia de los tipos list o tuple, range calcula los ítems al vuelo, cuando los necesita. Como list acepta un objeto iterable como parámetro, por eso paso un objeto range al constructor de list, para que se muestre por pantalla la secuencia completa que se genera con range.\n",
        "\n",
        "\n",
        "❗️NOTA: Si se llama al constructor range() con parámetros incorrectos, se obtendrá un objeto vacío."
      ]
    },
    {
      "cell_type": "code",
      "metadata": {
        "id": "VaOBXudUL847",
        "colab_type": "code",
        "colab": {}
      },
      "source": [
        "# Nunca se puede ir de 0 a 10 de -1 en -1\n",
        "\n",
        " list(range(0, 10, -1))\n",
        "[]"
      ],
      "execution_count": null,
      "outputs": []
    },
    {
      "cell_type": "markdown",
      "metadata": {
        "id": "x8KLIzx1L_cp",
        "colab_type": "text"
      },
      "source": [
        "##Recorrer una secuencia numérica\n",
        "En la introducción te adelanté que uno de los principales usos de range() es utilizarlo en bucles for. Aquí puedes ver todos los detalles del uso de for y range en Python."
      ]
    },
    {
      "cell_type": "code",
      "metadata": {
        "id": "jWW3pgFfNa6z",
        "colab_type": "code",
        "colab": {}
      },
      "source": [
        " for i in range(1, 11):\n",
        "...     print(i)\n",
        "...     \n"
      ],
      "execution_count": null,
      "outputs": []
    },
    {
      "cell_type": "markdown",
      "metadata": {
        "id": "tptnrzDJNdvP",
        "colab_type": "text"
      },
      "source": [
        "##Ventajas de usar range en Python\n",
        "La principal ventaja de usar range sobre list o tuple es que es un iterable que genera los elementos solo en el momento en que realmente los necesita. Esto implica que usa una cantidad de memoria mínima, por muy grande que sea el rango de números que represente.\n",
        "\n",
        "Veamos una comparación de una lista que almacena los números del 0 al 100.000 y un rango del 0 al 100.000:"
      ]
    },
    {
      "cell_type": "code",
      "metadata": {
        "id": "zkQLB7uDN1mi",
        "colab_type": "code",
        "colab": {}
      },
      "source": [
        " import sys\n",
        " lista = list(range(0, 100000))\n",
        " rango = range(0, 100000)\n",
        " sys.getsizeof(lista)\n",
        "900120\n",
        " sys.getsizeof(rango)\n",
        "48"
      ],
      "execution_count": null,
      "outputs": []
    },
    {
      "cell_type": "markdown",
      "metadata": {
        "id": "45OTFR3LN20K",
        "colab_type": "text"
      },
      "source": [
        "Como puedes apreciar, la lista ocupa casi 1 MB en memoria frente a los 48 bytes que ocupa el rango."
      ]
    },
    {
      "cell_type": "markdown",
      "metadata": {
        "id": "3UHAfl9TOJL6",
        "colab_type": "text"
      },
      "source": [
        "##Operaciones de la clase range\n",
        "Al tratarse de un tipo secuencial, range implementa las operaciones básicas de ese tipo a excepción de la concatenación y la repetición:"
      ]
    },
    {
      "cell_type": "code",
      "metadata": {
        "id": "_Lfse5ZhOLFL",
        "colab_type": "code",
        "colab": {}
      },
      "source": [
        " r = range(0,30, 3)\n",
        " r[2]\n",
        "6\n",
        " r[-1]\n",
        "27\n",
        " 13 in r\n",
        "False\n",
        " 12 in r\n",
        "True\n",
        " r.index(18)\n",
        "6"
      ],
      "execution_count": null,
      "outputs": []
    },
    {
      "cell_type": "markdown",
      "metadata": {
        "id": "0BhpMYxDOOad",
        "colab_type": "text"
      },
      "source": [
        "Bueno, pues con esto, hemos llegado al final. Recuerda, usa la clase range para generar secuencias de números, especialmente si las necesitas en un bucle for."
      ]
    },
    {
      "cell_type": "markdown",
      "metadata": {
        "id": "mkKR8Al9PzOj",
        "colab_type": "text"
      },
      "source": [
        "##¿Qué es el tipo set en Python?\n",
        "Al comienzo del tutorial adelantaba que el tipo set en Python es utilizado para trabajar con conjuntos de elementos. La principal característica de este tipo de datos es que es una colección cuyos elementos no guardan ningún orden y que además son únicos.\n",
        "\n",
        "Estas características hacen que los principales usos de esta clase sean conocer si un elemento pertenece o no a una colección y eliminar duplicados de un tipo secuencial (list, tuple o str).\n",
        "\n",
        "Además, esta clase también implementa las típicas operaciones matemáticas sobre conjuntos: unión, intersección, diferencia, …\n",
        "\n",
        "Para crear un conjunto, basta con encerrar una serie de elementos entre llaves {}, o bien usar el constructor de la clase set() y pasarle como argumento un objeto iterable (como una lista, una tupla, una cadena …)."
      ]
    },
    {
      "cell_type": "code",
      "metadata": {
        "id": "4vQLfzRrQTNk",
        "colab_type": "code",
        "colab": {}
      },
      "source": [
        "# Crea un conjunto con una serie de elementos entre llaves\n",
        "# Los elementos repetidos se eliminan\n",
        " c = {1, 3, 2, 9, 3, 1}\n",
        " c\n",
        "{1, 2, 3, 9}\n",
        "\n",
        "# Crea un conjunto a partir de un string\n",
        "# Los caracteres repetidos se eliminan\n",
        " a = set('Hola Pythonista')\n",
        " a\n",
        "{'a', 'H', 'h', 'y', 'n', 's', 'P', 't', ' ', 'i', 'l', 'o'}\n",
        "\n",
        "# Crea un conjunto a partir de una lista\n",
        "# Los elementos repetidos de la lista se eliminan\n",
        " unicos = set([3, 5, 6, 1, 5])\n",
        " unicos\n",
        "{1, 3, 5, 6}"
      ],
      "execution_count": null,
      "outputs": []
    },
    {
      "cell_type": "markdown",
      "metadata": {
        "id": "vy-XUjxqQWC8",
        "colab_type": "text"
      },
      "source": [
        "Para crear un conjunto vacío, simplemente llama al constructor set() sin parámetros.\n",
        "\n",
        "❗️ IMPORTANTE: {} NO crea un conjunto vacío, sino un diccionario vacío. Usa set() si quieres crear un conjunto sin elementos.\n",
        "\n",
        "🎯 NOTA: Los elementos que se pueden añadir a un conjunto deben ser de tipo hashable. Un objeto es hashable si tiene un valor de hash que no cambia durante todo su ciclo de vida. En principio, los objetos que son instancias de clases definidas por el usuario son hashables. También lo son la mayoría de tipos inmutables definidos por Python."
      ]
    },
    {
      "cell_type": "markdown",
      "metadata": {
        "id": "IUSg7rBbQavm",
        "colab_type": "text"
      },
      "source": [
        "##set vs frozenset\n",
        "En realidad, en Python existen dos clases para representar conjuntos: set y frozenset. La principal diferencia es que set es mutable, por lo que después de ser creado, se pueden añadir y/o eliminar elementos del conjunto, como veremos en secciones posteriores. Por su parte, frozenset es inmutable y su contenido no puede ser modificado una vez que ha sido inicializado.\n",
        "\n",
        "Para crear un conjunto de tipo frozenset, se usa el constructor de la clase frozenset():"
      ]
    },
    {
      "cell_type": "code",
      "metadata": {
        "id": "YvINca-VQtIQ",
        "colab_type": "code",
        "colab": {}
      },
      "source": [
        " f = frozenset([3, 5, 6, 1, 5])\n",
        " f\n",
        "frozenset({1, 3, 5, 6})"
      ],
      "execution_count": null,
      "outputs": []
    },
    {
      "cell_type": "markdown",
      "metadata": {
        "id": "kPMCl9PPQwL8",
        "colab_type": "text"
      },
      "source": [
        "🎯 NOTA: El único modo en Python de tener un conjunto de conjuntos es utilizando objetos de tipo frozenset como elementos del propio conjunto."
      ]
    },
    {
      "cell_type": "markdown",
      "metadata": {
        "id": "5aic93IMQx1F",
        "colab_type": "text"
      },
      "source": [
        "##Cómo acceder a los elementos de un conjunto en Python\n",
        "Dado que los conjuntos son colecciones desordenadas, en ellos no se guarda la posición en la que son insertados los elementos como ocurre en los tipos list o tuple. Es por ello que no se puede acceder a los elementos a través de un índice.\n",
        "\n",
        "Sin embargo, sí se puede acceder y/o recorrer todos los elementos de un conjunto usando un bucle for:"
      ]
    },
    {
      "cell_type": "code",
      "metadata": {
        "id": "w7SXXir2RFY8",
        "colab_type": "code",
        "colab": {}
      },
      "source": [
        " mi_conjunto = {1, 3, 2, 9, 3, 1}\n",
        " for e in mi_conjunto:\n",
        "...     print(e)\n",
        "...     \n",
        "1\n",
        "2\n",
        "3\n",
        "9"
      ],
      "execution_count": null,
      "outputs": []
    },
    {
      "cell_type": "markdown",
      "metadata": {
        "id": "o_tc6qDpRISy",
        "colab_type": "text"
      },
      "source": [
        "##Añadir elementos a un conjunto (set) en Python\n",
        "Para añadir un elemento a un conjunto se utiliza el método add(). También existe el método update(), que puede tomar como argumento una lista, tupla, string, conjunto o cualquier objeto de tipo iterable."
      ]
    },
    {
      "cell_type": "code",
      "metadata": {
        "id": "scCj29BnRK7y",
        "colab_type": "code",
        "colab": {}
      },
      "source": [
        " mi_conjunto = {1, 3, 2, 9, 3, 1}\n",
        " mi_conjunto\n",
        "{1, 2, 3, 9}\n",
        "\n",
        "# Añade el elemento 7 al conjunto\n",
        " mi_conjunto.add(7)\n",
        " mi_conjunto\n",
        "{1, 2, 3, 7, 9}\n",
        "\n",
        "# Añade los elementos 5, 3, 4 y 6 al conjunto\n",
        "# Los elementos repetidos no se añaden al conjunto\n",
        " mi_conjunto.update([5, 3, 4, 6])\n",
        " mi_conjunto\n",
        "{1, 2, 3, 4, 5, 6, 7, 9}"
      ],
      "execution_count": null,
      "outputs": []
    },
    {
      "cell_type": "markdown",
      "metadata": {
        "id": "tgROIJfDRMq1",
        "colab_type": "text"
      },
      "source": [
        " 🎯 NOTA: add() y update() no añaden elementos que ya existen al conjunto."
      ]
    },
    {
      "cell_type": "markdown",
      "metadata": {
        "id": "5X_XO95LRWCu",
        "colab_type": "text"
      },
      "source": [
        "##Python\n",
        "La clase set ofrece cuatro métodos para eliminar elementos de un conjunto. Son: discard(), remove(), pop() y clear(). A continuación te explico qué hace cada uno de ellos.\n",
        "\n",
        "discard(elemento) y remove(elemento) eliminan elemento del conjunto. La única diferencia es que si elemento no existe, discard() no hace nada mientras que remove() lanza la excepción KeyError.\n",
        "\n",
        "pop() es un tanto peculiar. Este método devuelve un elemento aleatorio del conjunto y lo elimina del mismo. Si el conjunto está vacío, lanza la excepción KeyError.\n",
        "\n",
        "Finalmente, clear() elimina todos los elementos contenidos en el conjunto."
      ]
    },
    {
      "cell_type": "code",
      "metadata": {
        "id": "uCGTtY_URe3l",
        "colab_type": "code",
        "colab": {}
      },
      "source": [
        " mi_conjunto = {1, 3, 2, 9, 3, 1, 6, 4, 5}\n",
        " mi_conjunto\n",
        "{1, 2, 3, 4, 5, 6, 9}\n",
        "\n",
        "# Elimina el elemento 1 con remove()\n",
        " mi_conjunto.remove(1)\n",
        " mi_conjunto\n",
        "{2, 3, 4, 5, 6, 9}\n",
        "\n",
        "# Elimina el elemento 4 con discard()\n",
        " mi_conjunto.discard(4)\n",
        " mi_conjunto\n",
        "{2, 3, 5, 6, 9}\n",
        "\n",
        "# Trata de eliminar el elemento 7 (no existe) con remove()\n",
        "# Lanza la excepción KeyError\n",
        " mi_conjunto.remove(7)\n",
        "Traceback (most recent call last):\n",
        "  File \"<input>\", line 1, in <module>\n",
        "KeyError: 7\n",
        "\n",
        "# Trata de eliminar el elemento 7 (no existe) con discard()\n",
        "# No hace nada\n",
        " mi_conjunto.discard(7)\n",
        " mi_conjunto\n",
        "{2, 3, 5, 6, 9}\n",
        "\n",
        "# Obtiene y elimina un elemento aleatorio con pop()\n",
        " mi_conjunto.pop()\n",
        "2\n",
        " mi_conjunto\n",
        "{3, 5, 6, 9}\n",
        "\n",
        "# Elimina todos los elementos del conjunto\n",
        " mi_conjunto.clear()\n",
        " mi_conjunto\n",
        "set()"
      ],
      "execution_count": null,
      "outputs": []
    },
    {
      "cell_type": "markdown",
      "metadata": {
        "id": "-B0NSns2Rsl6",
        "colab_type": "text"
      },
      "source": [
        "##Número de elementos (len) de un conjunto\n",
        "Como con cualquier otra colección, puedes usar la función len() para obtener el número de elementos contenidos en un conjunto:"
      ]
    },
    {
      "cell_type": "code",
      "metadata": {
        "id": "rKm8S9IPRuqE",
        "colab_type": "code",
        "colab": {}
      },
      "source": [
        " mi_conjunto = set([1, 2, 5, 3, 1, 5])\n",
        " len(mi_conjunto)\n",
        "4"
      ],
      "execution_count": null,
      "outputs": []
    },
    {
      "cell_type": "markdown",
      "metadata": {
        "id": "U_EcAJyoRx8N",
        "colab_type": "text"
      },
      "source": [
        "##Cómo saber si un elemento está en un conjunto\n",
        "Con los conjuntos también se puede usar el operador de pertenencia in para comprobar si un elemento está contenido, o no, en un conjunto:"
      ]
    },
    {
      "cell_type": "code",
      "metadata": {
        "id": "t6iXW_jOR0LG",
        "colab_type": "code",
        "colab": {}
      },
      "source": [
        " mi_conjunto = set([1, 2, 5, 3, 1, 5])\n",
        " print(1 in mi_conjunto)\n",
        "True\n",
        " print(6 in mi_conjunto)\n",
        "False\n",
        " print(2 not in mi_conjunto)\n",
        "False"
      ],
      "execution_count": null,
      "outputs": []
    },
    {
      "cell_type": "markdown",
      "metadata": {
        "id": "pziHbGBeR4IP",
        "colab_type": "text"
      },
      "source": [
        "##Operaciones sobre conjuntos en Python (set operations)\n",
        "Tal y como te adelanté al comienzo de este tutorial, uno de los principales usos del tipo set es utilizarlo en operaciones del álgebra de conjuntos: unión, intersección, diferencia, diferencia simétrica, …\n",
        "\n",
        "A continuación veremos cómo llevar a cabo estas operaciones en Python.\n",
        "\n",
        "##Unión de conjuntos en Python\n",
        "La unión de dos conjuntos A y B es el conjunto A ∪ B que contiene todos los elementos de A y de B.\n",
        "\n",
        "En Python se utiliza el operador | para realizar la unión de dos o más conjuntos."
      ]
    },
    {
      "cell_type": "code",
      "metadata": {
        "id": "RWQ74xRUR6w1",
        "colab_type": "code",
        "colab": {}
      },
      "source": [
        " a = {1, 2, 3, 4}\n",
        " b = {2, 4, 6, 8}\n",
        " a | b\n",
        "{1, 2, 3, 4, 6, 8}"
      ],
      "execution_count": null,
      "outputs": []
    },
    {
      "cell_type": "markdown",
      "metadata": {
        "id": "6Z4FX9bqR9nG",
        "colab_type": "text"
      },
      "source": [
        "##Intersección de conjuntos en Python\n",
        "La intersección de dos conjuntos A y B es el conjunto A ∩ B que contiene todos los elementos comunes de A y B.\n",
        "\n",
        "En Python se utiliza el operador & para realizar la intersección de dos o más conjuntos."
      ]
    },
    {
      "cell_type": "code",
      "metadata": {
        "id": "s7MwR4oYSAcW",
        "colab_type": "code",
        "colab": {}
      },
      "source": [
        " a = {1, 2, 3, 4}\n",
        " b = {2, 4, 6, 8}\n",
        " a & b\n",
        "{2, 4}"
      ],
      "execution_count": null,
      "outputs": []
    },
    {
      "cell_type": "markdown",
      "metadata": {
        "id": "FAnL0ygHSFvW",
        "colab_type": "text"
      },
      "source": [
        "##Diferencia de conjuntos en Python\n",
        "La diferencia entre dos conjuntos A y B es el conjunto A \\ B que contiene todos los elementos de A que no pertenecen a B.\n",
        "\n",
        "En Python se utiliza el operador - para realizar la diferencia de dos o más conjuntos."
      ]
    },
    {
      "cell_type": "code",
      "metadata": {
        "id": "07y4Qn3SSbtX",
        "colab_type": "code",
        "colab": {}
      },
      "source": [
        " a = {1, 2, 3, 4}\n",
        " b = {2, 4, 6, 8}\n",
        " a - b\n",
        "{1, 3}"
      ],
      "execution_count": null,
      "outputs": []
    },
    {
      "cell_type": "markdown",
      "metadata": {
        "id": "hGM7YkxfSuO3",
        "colab_type": "text"
      },
      "source": [
        "##Diferencia simétrica de conjuntos en Python\n",
        "La diferencia simétrica entre dos conjuntos A y B es el conjunto que contiene los elementos de A y B que no son comunes.\n",
        "\n",
        "En Python se utiliza el operador ^ para realizar la diferencia simétrica de dos o más conjuntos."
      ]
    },
    {
      "cell_type": "code",
      "metadata": {
        "id": "cAOGKlGFSw-m",
        "colab_type": "code",
        "colab": {}
      },
      "source": [
        " a = {1, 2, 3, 4}\n",
        " b = {2, 4, 6, 8}\n",
        "a ^ b\n",
        "{1, 3, 6, 8}"
      ],
      "execution_count": null,
      "outputs": []
    },
    {
      "cell_type": "markdown",
      "metadata": {
        "id": "d9-dm6hfSzJQ",
        "colab_type": "text"
      },
      "source": [
        "##Inclusión de conjuntos en Python\n",
        "Dado un conjunto A, subcolección del conjunto B o igual a este, sus elementos son un subconjunto de B. Es decir, A es un subconjunto de B y B es un superconjunto de A.\n",
        "\n",
        "En Python se utiliza el operador <= para comprobar si un conjunto A es subconjunto de B y el operador >= para comprobar si un conjunto A es superconjunto de B."
      ]
    },
    {
      "cell_type": "code",
      "metadata": {
        "id": "5xTqCtDmS2nn",
        "colab_type": "code",
        "colab": {}
      },
      "source": [
        " a = {1, 2}\n",
        " b = {1, 2, 3, 4}\n",
        " a <= b\n",
        "True\n",
        " a >= b\n",
        "False\n",
        " b >= a\n",
        "True\n",
        "\n",
        " a = {1, 2}\n",
        " b = {1, 2}\n",
        " a < b  # Ojo al operador < sin el =\n",
        "False\n",
        " a <= b\n",
        "True"
      ],
      "execution_count": null,
      "outputs": []
    },
    {
      "cell_type": "markdown",
      "metadata": {
        "id": "Ik3mBYenTHfI",
        "colab_type": "text"
      },
      "source": [
        "##Conjuntos disjuntos en Python\n",
        "Dos conjuntos A y B son disjuntos si no tienen elementos en común, es decir, la intersección de A y B es el conjunto vacío.\n",
        "\n",
        "En Python se utiliza el método isdisjoint() de la clase set para comprobar si un conjunto es disjunto de otro."
      ]
    },
    {
      "cell_type": "code",
      "metadata": {
        "id": "7vNODaHzTKXg",
        "colab_type": "code",
        "colab": {}
      },
      "source": [
        " a = {1, 2}\n",
        " b = {1, 2, 3, 4}\n",
        " a.isdisjoint(b)\n",
        "False\n",
        "\n",
        " a = {1, 2}\n",
        " b = {3, 4}\n",
        " a.isdisjoint(b)\n",
        "True"
      ],
      "execution_count": null,
      "outputs": []
    },
    {
      "cell_type": "markdown",
      "metadata": {
        "id": "F2F_FT0WTOf6",
        "colab_type": "text"
      },
      "source": [
        "##Igualdad de conjuntos en Python\n",
        "En Python dos conjuntos son iguales si y solo si todos los elementos de un conjunto están contenidos en el otro. Esto quiere decir que cada uno es un subconjunto del otro."
      ]
    },
    {
      "cell_type": "code",
      "metadata": {
        "id": "UTSbK7R5TQvg",
        "colab_type": "code",
        "colab": {}
      },
      "source": [
        " a = {1, 2}\n",
        " b = {1, 2}\n",
        " id(a)\n",
        "4475070656\n",
        " id(b)\n",
        "4475072096\n",
        " a == b\n",
        "True"
      ],
      "execution_count": null,
      "outputs": []
    },
    {
      "cell_type": "markdown",
      "metadata": {
        "id": "vn70rF2BTV0V",
        "colab_type": "text"
      },
      "source": [
        "##Métodos de la clase set en Python\n",
        "Termino este tutorial listando los métodos principales de la clase set en Python:"
      ]
    },
    {
      "cell_type": "markdown",
      "metadata": {
        "id": "8x-NmxUNTb8n",
        "colab_type": "text"
      },
      "source": [
        "![Captura de pantalla (137).png](data:image/png;base64,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)![Captura de pantalla (138).png](data:image/png;base64,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)"
      ]
    },
    {
      "cell_type": "markdown",
      "metadata": {
        "id": "xFOK-o_-TbKh",
        "colab_type": "text"
      },
      "source": [
        "❗️ NOTA: Los operadores |, &, … toman siempre como operandos objetos de tipo set. Sin embargo, sus respectivas versiones como métodos union(), intersection(), … toman como argumentos un iterable (lista, tupla, conjunto, etc.)."
      ]
    },
    {
      "cell_type": "markdown",
      "metadata": {
        "id": "gZKeOa7TT5bv",
        "colab_type": "text"
      },
      "source": [
        "##Qué es el tipo dict en Python\n",
        "La clase dict de Python es un tipo mapa que asocia claves a valores. A diferencia de los tipos secuenciales (list, tuple, range o str), que son indexados por un índice numérico, los diccionarios son indexados por claves. Estas claves siempre deben ser de un tipo inmutable, concretamente un tipo hashable.\n",
        "\n",
        "🎯 NOTA: Un objeto es hashable si tiene un valor de hash que no cambia durante todo su ciclo de vida. En principio, los objetos que son instancias de clases definidas por el usuario son hashables. También lo son la mayoría de tipos inmutables definidos por Python (int, float o str).\n",
        "\n",
        "Piensa siempre en un diccionario como un contenedor de pares clave: valor, en el que la clave puede ser de cualquier tipo hashable y es única en el diccionario que la contiene. Generalmente, se suelen usar como claves los tipos int y str aunque, como te he dicho, cualquier tipo hashable puede ser una clave.\n",
        "\n",
        "Las principales operaciones que se suelen realizar con diccionarios son almacenar un valor asociado a una clave y recuperar un valor a partir de una clave. Esta es la esencia de los diccionarios y es aquí donde son realmente importantes. En un diccionario, el acceso a un elemento a partir de una clave es una operación realmente rápida, eficaz y que consume pocos recursos si lo comparamos con cómo lo haríamos con otros tipos de datos.\n",
        "\n",
        "Otras características a resaltar de los diccionarios:\n",
        "\n",
        "- Es un tipo mutable, es decir, su contenido se puede modificar después de haber sido creado.\n",
        "- Es un tipo ordenado. Preserva el orden en que se insertan los pares clave: valor.\n",
        "##Cómo crear un diccionario\n",
        "En Python hay varias formas de crear un diccionario. Las veremos todas a continuación.\n",
        "\n",
        "La más simple es encerrar una secuencia de pares clave: valor separados por comas entre llaves {}"
      ]
    },
    {
      "cell_type": "code",
      "metadata": {
        "id": "zADaWCUMWLbr",
        "colab_type": "code",
        "colab": {}
      },
      "source": [
        " d = {1: 'hola', 89: 'Pythonista', 'a': 'b', 'c': 27}"
      ],
      "execution_count": null,
      "outputs": []
    },
    {
      "cell_type": "markdown",
      "metadata": {
        "id": "O_7_agzSWNua",
        "colab_type": "text"
      },
      "source": [
        "En el diccionario anterior, los enteros 1 y 89 y las cadenas 'a' y 'c' son las claves. Como ves, se pueden mezclar claves y valores de distinto tipo sin problema.\n",
        "\n",
        "Para crear un diccionario vacío, simplemente asigna a una variable el valor {}.\n",
        "\n",
        "También se puede usar el constructor de la clase dict() de varias maneras:\n",
        "\n",
        "- Sin parámetros. Esto creará un diccionario vacío.\n",
        "- Con pares clave: valor encerrados entre llaves.\n",
        "- Con argumentos con nombre. El nombre del argumento será la clave en el diccionario. En este caso, las claves solo pueden ser identificadores válidos y mantienen el orden en el que se indican. No se podría, por ejemplo, tener números enteros como claves.\n",
        "- Pasando un iterable. En este caso, cada elemento del iterable debe ser también un iterable con solo dos elementos. El primero se toma como clave del diccionario y el segundo como valor. Si la clave aparece varias veces, el valor que prevalece es el último.\n",
        "\n",
        "Veamos un ejemplo con todo lo anterior. Vamos a crear el mismo diccionario de todos los modos que te he explicado:"
      ]
    },
    {
      "cell_type": "code",
      "metadata": {
        "id": "wdM6GrrNWZ7n",
        "colab_type": "code",
        "colab": {}
      },
      "source": [
        "# 1. Pares clave: valor encerrados entre llaves\n",
        " d = {'uno': 1, 'dos': 2, 'tres': 3}\n",
        " d\n",
        "{'uno': 1, 'dos': 2, 'tres': 3}\n",
        "\n",
        "# 2. Argumentos con nombre\n",
        " d2 = dict(uno=1, dos=2, tres=3)\n",
        " d2\n",
        "{'uno': 1, 'dos': 2, 'tres': 3}\n",
        "\n",
        "# 3. Pares clave: valor encerrados entre llaves\n",
        " d3 = dict({'uno': 1, 'dos': 2, 'tres': 3})\n",
        " d3\n",
        "{'uno': 1, 'dos': 2, 'tres': 3}\n",
        "\n",
        "# 4. Iterable que contiene iterables con dos elementos\n",
        " d4 = dict([('uno', 1), ('dos', 2), ('tres', 3)])\n",
        " d4\n",
        "{'uno': 1, 'dos': 2, 'tres': 3}\n",
        "\n",
        "# 5. Diccionario vacío\n",
        " d5 = {}\n",
        " d5\n",
        "{}\n",
        "\n",
        "# 6. Diccionario vacío usando el constructor\n",
        " d6 = dict()\n",
        " d6\n",
        "{}"
      ],
      "execution_count": null,
      "outputs": []
    },
    {
      "cell_type": "markdown",
      "metadata": {
        "id": "2N8TgEZTWg99",
        "colab_type": "text"
      },
      "source": [
        "##Cómo acceder a los elementos de un diccionario en Python\n",
        "Acceder a un elemento de un diccionario es una de las principales operaciones por las que existe este tipo de dato. El acceso a un valor se realiza mediante indexación de la clave. Para ello, simplemente encierra entre corchetes la clave del elemento d[clave]. En caso de que la clave no exista, se lanzará la excepción KeyError."
      ]
    },
    {
      "cell_type": "code",
      "metadata": {
        "id": "yVk65rTvWina",
        "colab_type": "code",
        "colab": {}
      },
      "source": [
        " d = {'uno': 1, 'dos': 2, 'tres': 3}\n",
        " d['dos']\n",
        "2\n",
        " d[4]\n",
        "Traceback (most recent call last):\n",
        "  File \"<input>\", line 1, in <module>\n",
        "KeyError: 4"
      ],
      "execution_count": null,
      "outputs": []
    },
    {
      "cell_type": "markdown",
      "metadata": {
        "id": "EIfKxEmAWkLF",
        "colab_type": "text"
      },
      "source": [
        "La clase dict también ofrece el método get(clave[, valor por defecto]). Este método devuelve el valor correspondiente a la clave clave. En caso de que la clave no exista no lanza ningún error, sino que devuelve el segundo argumento valor por defecto. Si no se proporciona este argumento, se devuelve el valor None."
      ]
    },
    {
      "cell_type": "code",
      "metadata": {
        "id": "5eGPlhLjWpaY",
        "colab_type": "code",
        "colab": {}
      },
      "source": [
        " d = {'uno': 1, 'dos': 2, 'tres': 3}\n",
        " d.get('uno')\n",
        "1\n",
        "\n",
        "# Devuelve 4 como valor por defecto si no encuentra la clave\n",
        " d.get('cuatro', 4)\n",
        "4\n",
        "\n",
        "# Devuelve None como valor por defecto si no encuentra la clave\n",
        " a = d.get('cuatro')\n",
        " a\n",
        " type(a)\n",
        "<class 'NoneType'>"
      ],
      "execution_count": null,
      "outputs": []
    },
    {
      "cell_type": "markdown",
      "metadata": {
        "id": "cd_zqahdWrSS",
        "colab_type": "text"
      },
      "source": [
        "##for dict Python – Recorrer un diccionario\n",
        "Hay varias formas de recorrer los elementos de un diccionario: recorrer solo las claves, solo los valores o recorrer a la vez las claves y los valores. Puedes ver aquí cómo usar el bucle for para recorrer un diccionario."
      ]
    },
    {
      "cell_type": "code",
      "metadata": {
        "id": "sNr_W8HRW5PT",
        "colab_type": "code",
        "colab": {}
      },
      "source": [
        " d = {'uno': 1, 'dos': 2, 'tres': 3}\n",
        " for e in d:\n",
        "...     print(e)\n",
        "... \n",
        "uno\n",
        "dos\n",
        "tres\n",
        "\n",
        "# Recorrer las claves del diccionario\n",
        " for k in d.keys():\n",
        "...     print(k)\n",
        "...     \n",
        "uno\n",
        "dos\n",
        "tres\n",
        "\n",
        "# Recorrer los valores del diccionario\n",
        " for v in d.values():\n",
        "...     print(v)\n",
        "...     \n",
        "1\n",
        "2\n",
        "3\n",
        "\n",
        "# Recorrer los pares clave valor\n",
        " for i in d.items():\n",
        "...     print(i)\n",
        "...     \n",
        "('uno', 1)\n",
        "('dos', 2)\n",
        "('tres', 3)"
      ],
      "execution_count": null,
      "outputs": []
    },
    {
      "cell_type": "markdown",
      "metadata": {
        "id": "y9zEwZLSW_yT",
        "colab_type": "text"
      },
      "source": [
        "##Añadir elementos a un diccionario en Python\n",
        "Como te decía, la clase dict es mutable, por lo que se pueden añadir, modificar y/o eliminar elementos después de haber creado un objeto de este tipo.\n",
        "\n",
        "Para añadir un nuevo elemento a un diccionario existente, se usa el operador de asignación =. A la izquierda del operador aparece el objeto diccionario con la nueva clave entre corchetes [] y a la derecha el valor que se asocia a dicha clave."
      ]
    },
    {
      "cell_type": "code",
      "metadata": {
        "id": "VIBjxZGBXEHb",
        "colab_type": "code",
        "colab": {}
      },
      "source": [
        " d = {'uno': 1, 'dos': 2}\n",
        " d\n",
        "{'uno': 1, 'dos': 2}\n",
        "\n",
        "# Añade un nuevo elemento al diccionario\n",
        " d['tres'] = 3\n",
        " d\n",
        "{'uno': 1, 'dos': 2, 'tres': 3}"
      ],
      "execution_count": null,
      "outputs": []
    },
    {
      "cell_type": "markdown",
      "metadata": {
        "id": "nPEFxtY6XJT6",
        "colab_type": "text"
      },
      "source": [
        "🎯 NOTA: Si la clave ya existe en el diccionario, se actualiza su valor.\n",
        "\n",
        "También existe el método setdefault(clave[, valor]). Este método devuelve el valor de la clave si ya existe y, en caso contrario, le asigna el valor que se pasa como segundo argumento. Si no se especifica este segundo argumento, por defecto es None."
      ]
    },
    {
      "cell_type": "code",
      "metadata": {
        "id": "7Uch4yJDXKR4",
        "colab_type": "code",
        "colab": {}
      },
      "source": [
        " d = {'uno': 1, 'dos': 2}\n",
        " d.setdefault('uno', 1.0)\n",
        "1\n",
        " d.setdefault('tres', 3)\n",
        "3\n",
        " d.setdefault('cuatro')\n",
        " d\n",
        "{'uno': 1, 'dos': 2, 'tres': 3, 'cuatro': None}"
      ],
      "execution_count": null,
      "outputs": []
    },
    {
      "cell_type": "markdown",
      "metadata": {
        "id": "begCOnd_XL2Z",
        "colab_type": "text"
      },
      "source": [
        "##Modificar elementos de un diccionario\n",
        "En el apartado anterior hemos visto que para actualizar el valor asociado a una clave, simplemente se asigna un nuevo valor a dicha clave del diccionario."
      ]
    },
    {
      "cell_type": "code",
      "metadata": {
        "id": "wBn3koIxXSgL",
        "colab_type": "code",
        "colab": {}
      },
      "source": [
        " d = {'uno': 1, 'dos': 2}\n",
        " d\n",
        "{'uno': 1, 'dos': 2}\n",
        " d['uno'] = 1.0\n",
        " d\n",
        "{'uno': 1.0, 'dos': 2}"
      ],
      "execution_count": null,
      "outputs": []
    },
    {
      "cell_type": "markdown",
      "metadata": {
        "id": "6_QY5_nRXWyL",
        "colab_type": "text"
      },
      "source": [
        "##Eliminar un elemento de un diccionario en Python\n",
        "En Python existen diversos modos de eliminar un elemento de un diccionario. Son los siguientes:\n",
        "\n",
        "- pop(clave [, valor por defecto]): Si la clave está en el diccionario, elimina el elemento y devuelve su valor; si no, devuelve el valor por defecto. Si no se proporciona el valor por defecto y la clave no está en el diccionario, se lanza la excepción KeyError.\n",
        "- popitem(): Elimina el último par clave: valor del diccionario y lo devuelve. Si el diccionario está vacío se lanza la excepción KeyError. (NOTA: En versiones anteriores a Python 3.7, se elimina/devuelve un par aleatorio, no se garantiza que sea el último).\n",
        "- del d[clave]: Elimina el par clave: valor. Si no existe la clave, se lanza la excepción KeyError.\n",
        "- clear(): Borra todos los pares clave: valor del diccionario."
      ]
    },
    {
      "cell_type": "code",
      "metadata": {
        "id": "8Unb2RJ3XiJj",
        "colab_type": "code",
        "colab": {}
      },
      "source": [
        " d = {'uno': 1, 'dos': 2, 'tres': 3, 'cuatro': 4, 'cinco': 5}\n",
        "\n",
        "# Elimina un elemento con pop()\n",
        " d.pop('uno')\n",
        "1\n",
        " d\n",
        "{'dos': 2, 'tres': 3, 'cuatro': 4, 'cinco': 5}\n",
        "\n",
        "# Trata de eliminar una clave con pop() que no existe\n",
        " d.pop(6)\n",
        "Traceback (most recent call last):\n",
        "  File \"<input>\", line 1, in <module>\n",
        "KeyError: 6\n",
        "\n",
        "# Elimina un elemento con popitem()\n",
        " d.popitem()\n",
        "('cinco', 5)\n",
        " d\n",
        "{'dos': 2, 'tres': 3, 'cuatro': 4}\n",
        "\n",
        "# Elimina un elemento con del\n",
        " del d['tres']\n",
        " d\n",
        "{'dos': 2, 'cuatro': 4}\n",
        "\n",
        "# Trata de eliminar una clave con del que no existe\n",
        " del d['seis']\n",
        "Traceback (most recent call last):\n",
        "  File \"<input>\", line 1, in <module>\n",
        "KeyError: 'seis'\n",
        "\n",
        "# Borra todos los elementos del diccionario\n",
        " d.clear()\n",
        " d\n",
        "{}"
      ],
      "execution_count": null,
      "outputs": []
    },
    {
      "cell_type": "markdown",
      "metadata": {
        "id": "nxFMCT4qXpQG",
        "colab_type": "text"
      },
      "source": [
        "##Número de elementos (len) de un diccionario en Python\n",
        "Al igual que sucede con otros tipos contenedores, se puede usar la función de Python len() para obtener el número de elementos de un diccionario."
      ]
    },
    {
      "cell_type": "code",
      "metadata": {
        "id": "zvD69pyhXtX3",
        "colab_type": "code",
        "colab": {}
      },
      "source": [
        " d = {'uno': 1, 'dos': 2, 'tres': 3}\n",
        " len(d)\n",
        "3"
      ],
      "execution_count": null,
      "outputs": []
    },
    {
      "cell_type": "markdown",
      "metadata": {
        "id": "JZvs3e8GXu2P",
        "colab_type": "text"
      },
      "source": [
        "##Comprobar si un elemento está en un diccionario en Python\n",
        "Al operar con diccionarios, se puede usar el operador de pertenencia in para comprobar si una clave está contenida, o no, en un diccionario. Esto resulta útil, por ejemplo, para asegurarnos de que una clave existe antes de intentar eliminarla."
      ]
    },
    {
      "cell_type": "code",
      "metadata": {
        "id": "6xZrRGiaXzcj",
        "colab_type": "code",
        "colab": {}
      },
      "source": [
        " print('uno' in d)\n",
        "True\n",
        " print(1 in d)\n",
        "False\n",
        " print(1 not in d)\n",
        "True\n",
        "\n",
        "# Intenta eliminar la clave 1 si existe\n",
        " if 1 in d:\n",
        "...     del d[1]\n",
        "...     \n",
        " d\n",
        "{'uno': 1, 'dos': 2, 'tres': 3}"
      ],
      "execution_count": null,
      "outputs": []
    },
    {
      "cell_type": "markdown",
      "metadata": {
        "id": "pW06nif8X4bZ",
        "colab_type": "text"
      },
      "source": [
        "##Comparar si dos diccionarios son iguales\n",
        "En Python se puede utilizar el operador de igualdad == para comparar si dos diccionarios son iguales. Dos diccionarios son iguales si contienen el mismo conjunto de pares clave: valor, independientemente del orden que tengan.\n",
        "\n",
        "Otro tipo de comparaciones entre diccionarios no están permitidas. Si se intenta, el intérprete lanzará la excepción TypeError."
      ]
    },
    {
      "cell_type": "code",
      "metadata": {
        "id": "Jr6wpRNgX65F",
        "colab_type": "code",
        "colab": {}
      },
      "source": [
        " d1 = {'uno': 1, 'dos': 2}\n",
        " d2 = {'dos': 2, 'uno': 1}\n",
        " d3 = {'uno': 1}\n",
        " print(d1 == d2)\n",
        "True\n",
        " print(d1 == d3)\n",
        "False\n",
        " print(d1 > d2)\n",
        "Traceback (most recent call last):\n",
        "  File \"<input>\", line 1, in <module>\n",
        "TypeError: '>' not supported between instances of 'dict' and 'dict'"
      ],
      "execution_count": null,
      "outputs": []
    },
    {
      "cell_type": "markdown",
      "metadata": {
        "id": "BHzM4099X-rQ",
        "colab_type": "text"
      },
      "source": [
        "##Diccionarios anidados en Python\n",
        "Un diccionario puede contener un valor de cualquier tipo, entre ellos, otro diccionario. Este hecho se conoce como diccionarios anidados.\n",
        "\n",
        "Para acceder al valor de una de las claves de un diccionario interno, se usa el operador de indexación anidada [clave1][clave2]...\n",
        "\n",
        "Veámoslo con un ejemplo:"
      ]
    },
    {
      "cell_type": "code",
      "metadata": {
        "id": "xys8dPI2YBDG",
        "colab_type": "code",
        "colab": {}
      },
      "source": [
        " d = {'d1': {'k1': 1, 'k2': 2}, 'd2': {'k1': 3, 'k4': 4}}\n",
        " d['d1']['k1']\n",
        "1\n",
        " d['d2']['k1']\n",
        "3\n",
        " d['d2']['k4']\n",
        "4\n",
        " d['d3']['k4']\n",
        "Traceback (most recent call last):\n",
        "  File \"<input>\", line 1, in <module>\n",
        "KeyError: 'd3'"
      ],
      "execution_count": null,
      "outputs": []
    },
    {
      "cell_type": "markdown",
      "metadata": {
        "id": "cU0qlTQpYDFk",
        "colab_type": "text"
      },
      "source": [
        "##Obtener una lista con las claves de un diccionario\n",
        "En ocasiones, es necesario tener almacenado en una lista las claves de un diccionario. Para ello, simplemente pasa el diccionario como argumento del constructor list(). Esto devolverá las claves del diccionario en una lista."
      ]
    },
    {
      "cell_type": "code",
      "metadata": {
        "id": "158iOpMNYF--",
        "colab_type": "code",
        "colab": {}
      },
      "source": [
        " d = {'uno': 1, 'dos': 2, 'tres': 3}\n",
        " list(d)\n",
        "['uno', 'dos', 'tres']"
      ],
      "execution_count": null,
      "outputs": []
    },
    {
      "cell_type": "markdown",
      "metadata": {
        "id": "hf26ZhM-YKXb",
        "colab_type": "text"
      },
      "source": [
        "##Objetos vista de un diccionario\n",
        "La clase dict implementa tres métodos muy particulares, dado que devuelven un tipo de dato, iterable, conocido como objetos vista. Estos objetos ofrecen una vista de las claves y valores contenidos en el diccionario y si el diccionario se modifica, dichos objetos se actualizan al instante.\n",
        "\n",
        "Los métodos son los siguientes:\n",
        "\n",
        "keys(): Devuelve una vista de las claves del diccionario.\n",
        "values(): Devuelve una vista de los valores del diccionario.\n",
        "items(): Devuelve una vista de pares (clave, valor) del diccionario."
      ]
    },
    {
      "cell_type": "code",
      "metadata": {
        "id": "y-IQPf3UYNNv",
        "colab_type": "code",
        "colab": {}
      },
      "source": [
        " d = {'uno': 1, 'dos': 2, 'tres': 3}\n",
        "\n",
        "# d.keys() es diferente a list(d), aunque ambos\n",
        "# contengan las claves del diccionario\n",
        "# d.keys() es de tipo dict_keys y list(d) es de tipo list\n",
        " v = d.keys()\n",
        " type(v)\n",
        "<class 'dict_keys'>\n",
        " v\n",
        "dict_keys(['uno', 'dos', 'tres'])\n",
        "\n",
        " l = list(d)\n",
        " type(l)\n",
        "<class 'list'>\n",
        " l\n",
        "['uno', 'dos', 'tres']\n",
        "\n",
        " v = d.values()\n",
        " type(v)\n",
        "<class 'dict_values'>\n",
        " v\n",
        "dict_values([1, 2, 3])\n",
        "\n",
        " v = d.items()\n",
        " type(v)\n",
        "<class 'dict_items'>\n",
        " v\n",
        "dict_items([('uno', 1), ('dos', 2), ('tres', 3)])"
      ],
      "execution_count": null,
      "outputs": []
    },
    {
      "cell_type": "markdown",
      "metadata": {
        "id": "S9PHeFbNZCGc",
        "colab_type": "text"
      },
      "source": [
        "##Listado de métodos de la clase dict\n",
        "Termino este tutorial mostrándote el listado de los principales métodos de la clase dict. Algunos de ellos ya los hemos visto en las secciones anteriores:"
      ]
    },
    {
      "cell_type": "markdown",
      "metadata": {
        "id": "4aW_zG5xZRVl",
        "colab_type": "text"
      },
      "source": [
        "![Captura de pantalla (142).png](data:image/png;base64,iVBORw0KGgoAAAANSUhEUgAAAjUAAAH7CAYAAAA0H27BAAAAAXNSR0IArs4c6QAAAARnQU1BAACxjwv8YQUAAAAJcEhZcwAADsMAAA7DAcdvqGQAAAAhdEVYdENyZWF0aW9uIFRpbWUAMjAyMDowODoxNCAwMDoxNDo1MtYCrdwAANA3SURBVHhe7P0PfFXVne8Pf1qNYigDWHeCaa9QJfY2JzXxVrwKfZUw5nBH+1SdO/p6rsmr0qfaOxfaSizKxaSiYIOMQnN0OjpWvb+Cr3PwebAzYi12OCkJfSE6A70mNSedMahgbSBnqySDBCRDz/Nda/85a++z9zn7JCF/Tr5vXofsvdba6893/fuuP3uvT6UIMAzDMAzDTHI+bf5lGIZhGIaZ1HyqsbGRZ2oKkObmZjQ1NZl3DMMwDFP48EwNwzAMwzAFASs1DMMwDMMUBKzUMAzDMAxTELBSwzAMwzBMQcBKDcMwDMMwBQErNQzDMAzDFASs1DAMwzAMUxCwUsMwDMMwTEHASg3DMAzDMAUBKzUMwzAMwxQErNQwDMMwDFMQjLJS85doaG5Gw383b0eJv2wYfT+ZKcKiO3B/8/24Y5F5zzAMwxQs3kqN7Aia0dzwl6aByldxx/1k19xAKoyKML8K+G0TIv9gGgmEX57+MOOOlc+Onztfzz5fveN+NN9/B5Wg4ePtBynZN5Shd+dDePZV04hhGIYpWPxnanQdujY3s4Nb9EWU4RT9c7MXzz7kUmgEpTMwzbxkJiCn3sErTU3yRG/5+y1wFSk3YzkztvfZh9D00LNUgoaPtx//iEgTKzQMwzBThU81NjamzOs0YgT/50Dv8Usx4z2noiKWgua+dwD4ylwcbopQtyFN0dB8FTR5LfrJV/DQs3vl6Pn6SxWVRj+Apgg9Ify/4dK0smOZmzieo073HVc8RByusgIj9eodHolnIGZdhJKSFTOf29zKwH9vQHPoOF6xzF35pSuzcc68SOe9u0xYeSzy9qpjbTgeuh4ii6VfoPAuOWyWAXru/gtxuLcMVyllwI4L4SxXZv6Xqn4Q2coYpe/+2YfRW3aVjIPEVQYZhmGYyUfWPTX/9p4OLaRO6f8l5mo6DvddiBmmibXsNIM6M2O0fwDHL10i9zCI0fMr75wyOgxhZ3Va1Nkcp87McP8K3plxFe6/wwyFOpzrLz2OA9KOfruBMqXTlJ3iDGV24bfHcekNY79kUtD8w2Ho08rwRbkPxZVfO9/BjK+Y8qa8ugpm3po/Q6Fxlwn6KQqD9pXrMSNhmGfM7AmmXYpKtNnPHiCl9nprCdNdPjxnYnKUMWLapZXAbsv+AHTtKt63xTAMM8nJvlH4Hw7gHVidm1AoKqmjOmDOzpiI5ahpOrpkZyb4Rxx4hxSR/+yzQ+K/z4VGI+8Ddme2F8/uFg98USpPf3mJRgNzJYxX/w299lrXV/HFsmnQE8rMwj9EcEDXMJc7pLODO79efRZdlrz7juOUVpm5CTejTLggJddTmbFxPvuP+9+hcIyl0Izy4UWOMiY51Yt/s5Whf8RhHZgx26fMMgzDMJOCHG8/7cW/9QKXLhDdiVAogN5/dXVUcs+MJvdhWJtNxdLAtBnK9IrCV2fPAI5/lFZKLKbNIF++iguF9THVdi8+Om5ekosZ007heJ95q8Ad0tlB5te0S3G9kr9iuUnKmxSch5ragD83zO2ZEFEmTh0n1cSbU8f9bHx49SMcxwxcuMirfGSSvYyZeNkzDMMwk5ocSg2pFP/aa4yS5QZhdXRrIkbrYs+DvRxg/nz2J+w9RhrKjAvTI2YL2QkaCoy/gqLj+KlpmFFq3irk6uiY4IgZOc2cyZD5ZS0fKj9jmUlgbBAXZl0zrjcUG1EmVAUib4QCY14KFonlzuP46NVc5cMgexljGIZhCpWcSo213HCV2KOgLvtYiOUhXIolyn6FDNQORu7XuBRX2ctFX8Udf34p0Ptv0u9/fE/HtEuvSu+RWXQHKu3eUcwcnXLu8xH7OsQ+n6zLGUxQjE24wDu7zbwW+RVwv4l+3FwnlEuGGiqzlYmsTHMsX/7lgksxTT8sl5wyyocXOcoYwzAMU5hkffvJfiuGFIfmrwAHrLed5JslM9Blv/0kNoYab7NYpN+QUd6Csd8wUcwErjdP3G8/Hegtw9xjD9n7MDzffnnVvGUkYjlIzJ5kxf2GkERP57ONK7/UN46+oszHiBk7+y0l7zwWebcEbcpMDyHKl/r2U/NcHH9nBi5VykDebz9lK2OO8AzEW1yVx603txiGYZjJiLdSw0x6Aik1ExJDqUl/LoBhGIZhgpF7+YlhGIZhGGYSwEoNwzAMwzAFASs1zARDHG3AS08MwzBM/rBSwzAMwzBMQcBKDcMwDMMwBQErNQzDMAzDFASs1DAMwzAMUxCwUsMwDMMwTEHASg3DMAzDMAUBKzUMwzAMwxQErNQwDMMwDFMQsFLDMAzDMExB8KkUYV4zBcSrr76KRYsWmXcMwzAMU/jwTA3DMAzDMAUBKzUMwzAMwxQErNQwDMMwDFMQsFLDMAzDMExBwEoNwzAMwzAFASs1DMMwDMMUBKzUMAzDMAxTELBSwzAMwzBMQcBKDcMwDMMwBYHnF4VPnTqNY8eOY2joP0yTiUtR0bmYPXsGpk07zzRhBPxFYYZhGGaq4anUHDnyIS644PxJoSgIBezkyU9w8cWfNU0YwYiVmu4Ymjqr0HxbyDQoQEY9jQnEmjpR1VyHsZCa3hZBFPVoWKKZJlOLxLYmdFY1o67CNPAjn3zW2xGJAvUNNZiaUmWYyY3n8pOYoZksMx8inpNhRmlCIhrwpiY0OX4x6ppdSHcRtOvmfV6Ijr4JsW7zdtQgfyPtGFaUmLNKYttwy8oEY0Tl3lC6mrZl1KYxQSi8TVw/mCkI76mZ6mhhNDQ3o9n+ecwyaDXkpgE1wxq6hlBH/uYcTeeLriNpXjITCR16n3k52RlRuaeSfxvVp3Ga6dSWNKCZZ5uYKYjn8tN77/WhpGS2eTdOnKHfOcalxH2vkEwewyWXlJp3jCDQ8lO2qXbHlL26rKKjPRKHthSIRa1RqFBcqtCpzPKE6i1FRriXgcjOQYwg46VhIJp2q9U22Esowj7Smh5fqnY2Im522IRQzGQaRDyVmSbb3ESkl+Ju+K4hXFuC+FFlWcJhT1TWpe18w1RxLz9li4+QC8lCGUqnZeZEjPhjXeaN4od7+ckpO5EnSjwiOqqqOhCz7IU/9ZQNqjwalA7cJQtnfrrz33rWlV7FT0caXGE57cjWK88JR/oo/uHSOHqV5Sc/OWVffnLGOVQbRrLTqhM58lMpH840GLIvyZo/zvwWdsOtF8az9SjbZZQn6S9cac5WthmmkBBKjZvDh4+mTp78JMevK/Xc91akVny7LvXUfi/7Efw+fCP11Oqfpn57zLz/w8upB9a9nHrvY8WN8hPxZZzs3bvXvMpCsi3V0tKWSpq3DhLRVGOsy7zpSkUbo/S/IJlqa2lU7Mg2RveNLak2yyPxrMN92i65u0WxI0Qc1GeTyXR83HYqIgxH3I14texOm8h4OdLQmIomzNuMdHjbG/6p6c9Gppz84iPkoNr5IeWlpFP4YT3n8MMhc/M5V9rS4Zlpd7u3w3HJQuaDM11q/mc+68wzdxoccXWUsyy40mfEKR1HdxiqnPzD8MkjR1qc6VbdWmSkz0SY++WPu2xLP7LYZ6sXxrNq2SUcaXblZ5a0MMxkZwTLT+W45dEWrLl5nnk/WgziwJbt0FYsQ8U00+iiMO6q6cHjL/eaBsyooced+2oC7gEIVaVHeSVzaMRYGU6P8iuqzJGtD5WKvRZCtaaj1xpCapoxuhZIO/M6F3oCHXoIYWWEH7qNRthdncbIt5v+itG9PROiURoUzz3sa+pp5NyZoNFtCcq0BOJt6ZFyTnLERystgd4aT4/6PdGR6NQRWpqeERIzCUacnCTITCM7S67aErq20i7RUF1p+UIyLqX/VfeV1XYYGbLQahCuTKBT2Rel5r98Vu/1WQ7MTAMq6lBn+aeVQeuK59y34k6fs2wEl5MDrzxS0uXAw62BR/o8yIx/DeprgY4uJYYjqReVJFO77LrIWrYZprAIrNTorz6B+++9G6saV+PJ3wyYppkMvrsTj69/DJsfvhsbd/RgSJj9yzNY00jP0vP3P7nPqEgfxLH+se145SerseYHd2Oz1aodaceOT9+AWtdqUvHVN2PhgRdx4JRpwIwOYppe3VMTaEpao07evBwG2pwS88oDsVRgK1nO5ZmsUKeqUweZ6XNSbL+B3kddbqnSMRBCsbDwspfIzpo6gYZm1CNqxCvIBswc8REde7NcsjPS6r2ROik7tUTUkocIO07PuxUIYx+L3hpJu5PLJGZYkhLRLwZCysKl7IqllWSf5Vk++S/S4O1e+if3rYh1MCOciKfiaKSvhPInjaGYGQSVkwuvPBJKlnnpIEt++qUvjVf8DfSj6RiOpF5kezZ72WaYwiKYUnNkJza/Wo57NrZg84ZHsPxrM00LN73YE+3HDU0rseq+Ziw+FMOej4RCcic2bqBnH23BLUVxdH5gOn93EHO//Qg2ProMs37TITuKge79KLuyGkWGC4UylIcS6H7XvGUKD7lvBXJjsaFkNSCctbNQEJ2RZyNtdOZSgaFO1KvLFPjaKx2Z3Hwp4rW0F5Fcik2O+BgYm6hFOst2eSk2YoZI7D+x5GH9rD0eFkYHL/ZSON0pe2TyQMpC7Llw+NXsuc8lNyINyoyDQrqTN5RGEUb4aMRDsTHSl1aq3ASVkwvfPPIgS376pS+Nf/yzKjIWI6kXRJCyzTCFQjCl5kMdxaRozPTZqGszeAg97+1HrGUTNm96AvEPhjA4IGZv4nj2kYfJbBNe6DTdCq5cgIpi+ntONe5YG5YjidN/AqYXZ6o0gpmfpSooNgwzhYva0HbHs8/UqJ2MnJJ3LhEltsWQsKb0xZKYTv7ZioOO9l3K4o+XfTQOVIVkuXQgOjjz0pdc8XGgzjqoaAhVAfFo7pkhsWySUDaZjgghi67YCF7DVzt5kQYNiV1KGqiTjnWFUOWxXCKXMj0Q6XMs1+ntiCsbj4PKyYFXHlEYnn54uDXwSJ8HXvGPtkJZEsxBPvXCTY6yLTYa8+vfTKFwrvk3O9OKoB88hEEaHggdxJfiWZh10ULcdPetmGsrQANo/VE3Kn5wH66lhzufWpe18kwvng59YJCuMkMa+BCY9SXzhhkd5DIDNXA26lszY0xFGOFdNFK34iP2CVT6dDLCrRaB+AaO9aZLTUMDEKEGmjoLiTS3UkLpagiTdRPoCYJG9vWkSNtKtpFu4Z9hT4jZCjk74f1WT/buSMw++MfH/TaLDMujkxezQw1QZCIQbt3LhGI5q95YorAx5RKw21TwkIWZ5twzPyGEazVExFKQ9UxGGgxzmQI5C6GoYjLOHoFQ+hpqhR9mjMhdHYVjZV9gOTkQeVSH3qZ0HoXqqezv8ipxmW4t/0XYdUeblLAN+TlmQTzyR8ysBZpJy6deeJKtbDNMYRHwle5BansexLPvzEPVZwdw4ooVWP6lN/D4wztweLAf/Z8mZeaLN2Ht92pw+tXHsPmXQyj/kobTR2YhvPom4Oer8cy7l2PuUD+GiqiOfuse1CKO9b/8HNYuc7XkA+3Y+BSwfHUNHItcZ3qwrXE/Fmyow3zXjBG/0p0JH5PAMAzDTDUm5HdqDj7/Q+ypaMQdV6Rna/RfrcMLF96L5VdnzuCwUpMJKzUMwzDMVGNCflF4/q0rMXfXdnSKV6cEfXFs7bsVyzwUGoZhGIZhGAEfaFmg8EwNwzAMM9XwVGqEonDs2PFJcVBkUdG5mD17xqQ5gHOsYKWGYRiGmWp4KjXM5IeVGoZhGGaqMSH31DAMwzAMw+QLKzUMwzAMwxQErNQwDMMwDFMQsFLDMAzDMExBwEoNwzAMwzAFASs1DMMwDMMUBKzUMAzDMAxTEHxq7969/J0ahmEYhmEmPfzxvQKFP77HMAzDTDV4+YlhGIZhmIKAlRqGYRiGYQoCVmoYhmEYhikIWKlhGIZhGKYgYKWGYRiGYZiCgJUahmEYhmEKAlZqGIZhGIYpCFipYRiGYRimIGClhmEYhmGYgsDzi8KnTp3GsWPHMTT0H6bJxKCo6FzMnj0D06adZ5owfvAXhRmGYZiphqdSc+TIh7jggvMnnPIglK2TJz/BxRd/1jRh/JjUSk13DE2dVWi+LWQaMIxKArGmGP1PVNaNfjkZrfKntyMSBeobaqCZRt7oaDccoia7Q0liWxM6q5pRV2EaMAxj47n8JGZoJuJsiIjTRJs9mtSIRrepCU2On9lZMBMGvS2Cpkg7dX2MILEthmRtA5qbm6e84juisiHrfwTt41KwhGLahFi3ecswowTvqZnqaGE0iM7B+tWDG5sJhraEOvCco/2pRUkpS0MworKh1VDdDzY7NPqEUEftDc82MaON5/LTe+/1oaRktnk3Bpyh3znGpePag2TyGC65pNS8Y/wItPzkNz0upt93laHBMhfuInF7NBiqF42RmDKPoHep2jClzcJ9EUSOhh0jafe0ubiPdRnXUrmywrOn/4WCFUdZg9rwihGeZaYsQxAajd4blmS20GI0mzUuFF6krwrVnTHErUSqyxqu9Dvi6sbl1o6T2w/Vf4/wHWlxLYc45EYY+WHe2Ii8iENbSjKMWhISHUkd/W/hlF9GuoaTFgfkf0RHVVUHYq1WwtQwDPvw0l4qhxQL284vXi5zMgk3hNFLcXGUERE/u1x7xMEtB0d6yM/aEsSPWvJ2h+mWoYrTbag2jGSnUr9cckvnW/blJ1l+FfmFS+PoVcquY6ksYJ4Z5kmKbyeq7PT4yV2QW47+5dJ41pnPISRcaXY+L/LWWx4MkxWh1Lg5fPho6uTJT8bmd+jl1APrXk69Z96/9/KDqQdeej/TnfkTcWNys3fvXvMqC8m2VEtLWypp3qbpSkUbW1Jt0kJcN6aiCWlhPNMYJVO63N2SaoyJK5NsdkRXLO2PtFfCFnYtu827RNR+1mEuEHbyuWSqrUW1U+PsJFdcpJ+OZ11pFqHZdu5wVdzPWWT65/AjV/iKPATJdGTMZw2ZOzHCcDznkHlmOoRM0u6HmRYHhttcYajlIHe8jPt0+MIPV747ynWwOLjTk7ZX8979rIpPvF3xsMNR6orxrHfZzchf+Zzij6NsuNNikc1cjUNuOWXLF/9yaTybmc/pNLvbA/9yzTDZGd/lpzO9eOnpw7j+e2FzNED6+XUrUXvwMbz0vmnAjC/dnUiI0aE1E6DVIFyZQGc3XS4JI9RF9qaV3tUB0OjUexSroiPRqSO01BoFGqNadCbskaSF2zxB1/I5PYEOPYSwPTND17VAR5fbh4Bo1QjZo8IQqiqBZJ89roVm22kIVdk3Ttyyssgw11BT70pvZVgZlYq0aDKtXmjpyAAVVVnkLWYd0rYyv/QOJESgGfKjUG+jUbeVnyNJiwNXGJSfmlJmZBzr0+UgZ7yGhYbqSsW/KpIJ5a2Mr0d6nPmr5r35rBde8VbdusNR6lE2RBnQ1DqlhVCtRk8lcJ55EEjuWeRIZC+Xrnx2kNkeoKIOdQHkwzBuAis1+qtP4P5778aqxtV48jcDZDKIgz9/GGsayezeh/HCW4PCFVqf2Y5Xnl+HNT/4LtY8143BU/vxZEMMB8Wyknjq1U3YKJ8HhjpexP7/cgOqiuWtSTGuunkh9v9yP4ZME2b80PuS9F/csaFYTBEbHb7o/K2GRzRMcDR6/iTRS48nosoGZTE1rveSjQvRiMPsiKl57eyiMEXjTG4pRIj9P5YfYopeP5rhQzBKqfMyLzPJDMcLKSsPf/zMRRr8YquVljg6DBW5OdSOj7o0kosSlGm6lL2Un1ZGJm6SlA+jmxYH1PGVmGEYlDiUhlzxGh6uMBS80iNlbyOWhtJ532Qv5bnwijfdW/7KcHzrkR+U/33u/UMUV5/V97zzTCWQ3P3lKMheLrM9K9oDjcqmeauQXT4Mk0kwpebITmx+tRz3bGzB5g2PYPnXZmLotz/DlnOXYeMGMltXC/1ncfQKt73Uwy1+ABt/HMEtH8ewZ2ABwle/in2/F5YD2P/qEK6tmilu0NN9CAuuKJPXDi4uR8Xvu9Fj3jJji94Wp5GdMXMhG3ixZ0LdTEw/a7+HGK3JGQUx0iP1Iz3b4cZooA1E5yrWzJ1+NnvuVdAoDHMGRow4K80RoOgwaPTp2OQsfp57O9yoccmFsc8A9ekwGmq9E+mniPgqKGon4rL37aCo44h0Vivp9pKZhanA2Cidh5CfpyJidD4jSosDlzJCN8lsHVyOeAVCdNDmZS580yMx9oh1VJlvWolfvY+0feNtIMPJUo+8MRSYoB173nmmMkK551cu3SjKtgveEM7kSzCl5kMdxVdWY6aygbf/Ix3ll5kKSfE8lE/rR7+8mYe5F4u/RZg7v0g2aPOXfB09r+7H0MAbODCzFgsNnQb403QUTzOvHcyCdqF5yYwpxqZEpKeKxTRyV8z/bShp34l2sfRECo7VBMmGVJ267o6nN+Gaiko8GuxVVK2yWi5vtNPPntKXMzhxRNty+5A9LkFQR5EJxH1maqQsaDQed8sqw5w6y2jcIS9Yy0ISIwzfpQ5F2ZEKqHnthbqEpSqrxjIGhaPIT7wqbSuNI0mLA92xJJhojUO3wvAiV7wyMDrEdBgUn13ZJOLCKz2u59Mdaxa/veIt0mpey3Cy1SMfRBnQyR87VL0dcWUzroPAeeZB3nL3II9y6US0BxoSu5T2oJtkZc3Kkk/8RiYTlHMeJMxrm4GBE5g+/QLzjvj3brxw4BzULPgcqSoGnzp6AK2DIXx1LmklZ3rxz6+ewn/+2ueg7+nBjMXVVEwH8buX92HawhpcSp3KObv/Af+s9+DMl2/Ffy0ztKOBf92JngvD+HKGAkP+7TmO/7z4P2OGaWJx4sQpzJz5GfOO8eMPf/gDLrnkEvPOh8FDeH13HLt377Z/r7/zBdQ1fwdXTzfdUKfx5evm4M3IY3jedvcmzrniGsyTbkow59O/Rqy1BDffcQ3dmWhfxpzk84g9bz5ztBp1C4+j7zPX4MvU8k3/wjW44uSLiDzzCzvs3ck5uO7L5IP+Jnb3mdeC6fMw492nsaMvjPpvzIMRtemYd80VOLUjgqd/YT5Pv76Lr5P+O8gRl4zwCL1rN94h+2u+MI/S9zpiMSuefyKFrwTvnLiM7GwhmZCsrjgHv376afzCjM+bn75C+uGU4et459I6NFFaJCL8VDkue+1pMy1vArUN+I6VCUr8pn9hBvqej9l58falN2PR8T5Mv+bLadlLBnHo9bdx2fyP8fQzz0u3Mm+bvkHDDkGm/N5MhdHwnatN+Q4zLQ50vEnyKr/0dYqDIT9nGMK+D3OuU+OeK15G3vTNsfKZ3F92Dl6Pxcx4vo4L/rIOJW8P4rJrRFnxCEPI8+0ZuEbau9NJMvvLRTjeNx3XfHke5v1ZH56PGvJz2jmlbcR7Dt555mk7b/4UVuORrR6JvKI8t+uUApXdK6h+WfLb/fZluNm37GbJM0/zE4pscsk9uxy1rOXSK5+dac5oD8gq3GC1Q+J54dajbjOMi4CvdA+S4vwgnn1nHqo+O4ATV6zA8mtOo7VlA/ZND2H6UR1z61filstPoHX9auzRajDvVA/6r1iJVdcZpVDspflfsTKsfbwO860Zn7diWHNgATbWlZsGJn7mBL/SHQw+JmES4X4td1TQs74mPDaIEbb6yjDDMMzZJeBG4WJU1D2CzT9cgduX34fli2YC52iovacFa5ffiVXr7iOFxtrtW4Pbli/DHXf/yFZoBCeOn8D8m8NphUZw+ddxU28Mr6j7G87oeOX/149bbs5UaBiGYRiGYfw4+690f9SOx++9G4/33oCVf+4eMs7EtStuhR5Lrz3ru7dAv/lbuMrxRhTDMAzDMEx2+EDLAoWXnxiGYZiphqdSI5SHY8eOT7jDI4uKzsXs2TMm5GGbEw1WahiGYZiphqdSw0x+WKlhGIZhphpnf08NwzAMwzDMGMBKDcMwDMMwBQErNQzDMAzDFASs1DAMwzAMUxCwUsMwDMMwTEHASg3DMAzDMAUBKzUMwzAMwxQEn9q7dy9/p4ZhGIZhmEkPf3yvQOGP7zEMwzBTDV5+YhiGYRimIGClhmEYhmGYgoCVGoZhGIZhCgJWahiGYRiGKQhYqWEYhmEYpiBgpYZhGIZhmIKAlRqGYRiGYQoCVmoYhmEYhikIWKlhGIZhGKYg8Pyi8MmTp9HffxxDQ/9hmkxdLrmk1LyaXPAXhZmRcurUaRw7Nr7tQFHRuZg9ewamTTvPNGGYwoPr2ujhqdQcOfIhpk+/AOedd65pMnWZrBk8qZWa7hiaOqvQfFvINDibJBBr6kRVcx1GJzQd7ZEoUN+AGs00GmUS25rQWdWMugrTIBD5p1O0AxdccP641gHR2J88+QkuvvizpgkzqoxpXctEb4sgino0LDlLlcXBaNf10fOP69ro4bn8JLRFVmimAHo7Ik1NaHL8YlRVGcZoB8ZbqRfhBxq9is7ZUY4jaNeFheh4mhDrlq4mHEJBbdqWu8YltlnpYQqRSVXXTIRC2hRpp2HcxIL31Ex1tDAampvRbP3qMaE7AYbJQCjn0STCDUo5brZmykKoo/v8ZrXGjtBtFNecsyQ69D7zkmEmCNqSBjQ31GAs5tjy4ZwHCfPaZmDghFx+Oiucod8kUqXOPfcc82py8Yc//AGXXHKJeefD4CG8/iZwxTXzMN00gvZlXHdxH57f9WHaXHQaG57GL3bvxm769V18Hb6siWWWDdj3Z+JaPkmkzeZ0RbDh9Rm47sslpp0xKm09J+1e3D/2vOHn7jfPUcJ7E7v75tCzOilYMXx4xTWYZ0dQjLwtM3H9GJ434/Xmp6/ANV+wHToQo4oNz/zCCGt3H+Zc92UYMdPxpuPeQLp3xV81c8SdfoZMhKtBHDKEasfZ6fZNnGPbUfwj3ZjzZ/uwIfK8UwYKjriTmzmfeQfH5wSQowNnOp3y8JbdWW0H8uDEiVOYOfMz5p0Hohy/TeXlOu90t0eexqHL1DJk0h1DpOvTOLXjMTz9C1N+SVHuXHmuyCmdz5k43aZlLfPn10q+iFmlyK9lOZj+LxE8fegyQ/auemb48Wm0Nj2N1wcH8c7rwixdfoLluwtHGORX6XS887GSZs+6rtY5w5ksu6bZiZdoEPSBWn4yZe4X18FDr+NN0LMnd6ApqrQ5AiEn22wi1nW3f844OvMke12f0HVNlleKsztdwrz10w65WbhlpubXsMptPog9NW4OHz6aOnnyk2H+jqXe7n4/9e8edu+99GDqgZffzzBP/7pSz31vRWrFt+tST+33sh/u743UU99uTP3kpz9N/cP/PeZh7/+brOzdu9e8ykKyLdXS0pZKmrdpulLRxpZUm7QQ142paEJaGM80RsmULne3pBpj4sokmx3RFUv7I+2VsIVdy27zLhG1n3WYC4SdfC6ZamtR7dQ4uxDPmPESOOMmnkvb2ShpMTDCs+OfdMXJdivcpePhTqfTrSFbh70bV9yNeAWUowNXOin+tivpZ6bsgrcDZ6veGj8Rj+wYeeMubwbO/HAgZavaucq6p+yHU8bUfHGWU+HOMM8ST9czguD5ruJKX4bcXPZKHfCvh15hZ68Dqvt0+jPTmHZnxDMdRqZbm6z5IJ5T8tNi2HVd9c8dRyP+btn61fWR9bmjV/8y65qPzARCFl51zs+cGF65zY+zMGdyCK3PdaDfvLN5fweePHw97rrOZ5gjKcctj7Zgzc3zzPtRpHQhbvzmMlz/pWLTgAlEdycSWhhha/peq0G4MoHObjH9GEaoi+xNK72rA6glM/PeHx2JTh2hpempyxA9h84E2ThxmyfoWj6nJ9ChhxC2NxjSdS3Q0ZW5wiue0ZR4uePtiZJOiQgPaTlomlKOK6p80pyZTlTUoU71l2zC9f5TuO64Qwuh2nYcXI4ZUPxtbxx+DoezWG8DoaGmoRkNc+Ku/TQB0KoRstMeQlUlkOwzHs6UfQ3qh1nGQrfVoaQ1ikgkhmRtvccmcsqPUh3x1iA72oaZ7+66TE+HqpSIZKnrvvXQvPcnaFzd9ZfC7TLr92So6xlxpFhSnjvDzl7Xh8/ZrH8lKNMSiLdlLVlOtDJoXXGPOjiC9ioPgu0GPqOj9fHH0DltFnoPJHBi5g2458dfR9HOp7GlZwjnvT+Eir++Bzf+6UWserod/R8NofPenfTgQix/9FbMxxAO/HI/Ftx4E1SVQn/1CTz+Yg8Gi4ow/y+asPxrM00bJ4d/sQ5PvtaPoSGS11dXYNVN89D5VAN6lvwdbrucHAy0Y+NTwPLVV6PfHaf5RYYnzLDQ+5Kywkaa4qaJgTaHimGF6ARiRqNXIQosUF0fpMom0UuPJ6LUAZkmBiGyEVVfQXS4iCKh11BHYDR0VbeReXevqCIQ+38cVLp9MPYj6F0RNLWaRhINZaImZYluqCqEGFU4kU6psFXV287F9HSkVa2KFC/zKo1IJ4XjEYbsOGWjWSL0Cx+MuJeoHQ/FQCsFeuV1HnJ0I6f21aaeGlzzKhfDrrf/rR/PrOlBeHMd5p9D1fY3D+NJrMCaRcCBWAStH0zHif5i3PD9Fbj2ItOTPJBr/EvoQiyhRJrQWx9gL02potw58JK9gX50OGVMdMRxRDrDvm/6yP01Il+aYuIOdb5v1Qwv32VdLq1y2GulJcBR4zpXXfeshznJHld14UKrrAaoTOpLqNMTClZlFeqEhT4J6rqII3XmmQsxSeh22NnquotT+/GkV1258i08+/B2dItKVUzKTJa6MvjWdjz+s/3Qya12zQrc9VflOBFfh23/vgD4bTsOnyrBjY33YHHWumYMGEIkg6YmSojYg5lrHw0piQ3NIbRTHZSP1DaYZX4E7VUeBFNqfr8Te760Eg/9hQb9Vz/Etplfx/wj7VjffwPWriwn6e3D4z9ux8APb8XmR0PYuv6PuH5tWIlkD7oPL0Dtxeat4MhObH61HPdtXIGZObatzP3GA9j4DXGl45X7d6LnpnJctWQRXjjQQ0pNOQY6X0PRopWYSXF6LCNOYXg3uYwfelucRmzVCFMGykavMuy7mdFuDDSdRjfV8NdpjAbHQGj/1NAEeu1ZjCapraNRWU2p0tCJ0QD96nNuVDOUgNDSYWwWFaOyqBhplUBXFDbZyHVWU8W1whYNLjnIQKRTlxXZHckS6kxFJc+OEfcOqQB5pTIfOSpIhQZyA62Rq+Zr6EEYUb1dhvDV27H/bWqoLx9Ax+tFWLx8JoY6nsCeuQ1Y802qqe9ux5pXunHtN/PNLAU58o4jbiuOw8Ff9tocd9cVoIyRohVtLSHFpgORbZr/5uCKOlC2SPcRodx4KjbDy3dZl2mk7FEcJbnrukc99MTovMrkdfa4irjYKAMYjdqUUJUZwmSo6yKOpNhkds55KDIq0xZ41hXMWIA7NpBSIvjdM1j/ho5rRUPthpSiLc+dh9sfegRl5wziwJMPovX9R3AtWfV8PA9/s+ERFJvPL/Z63oU9YJD7a9pzKzZkK5ShGroSe2gibUKxGWZ7lSfBlp8oIkUH9uHgkR68dgAon1eMwUM9OPxGDJs3bcLmJ+KkDQ5mLjmpTCuGY87kQx3FV1bnbBgFA7+jcH5E4Wx6Aq1Wx3h5DRb/fh+6z/RiX3wmFn9lGHFiMjBGJUhPk4rK3hXzfxtK2neiXY5uQnZBlw2kOvXaTZ2M3YIZiko8Gux1QDmCo0auXTZ0ZoMrG8A4ogGmRcUziehwXlUXM1E0Km0T09HqMgWhjPClEmheOzGm9xO7lHRSoxATo9yAja6Iu96q+E+dXbzLvM5Tjg6oEba7Zkfe5GCE9XY+jcK7X6PCdORVtM5cjKtmAL2HEjgUf9qot9vJ7pMTGDScOxCNY5DXn0XH00kyMhTH4eMl+yjVjerKTH+zlzFSGqNxlNTXoWZJPcJ9WeqTBbW5TtXJVI4l2fNd1GFPOYm6qlNe22FTvHYp7nLUdc96SJTMocEumVlxcdaHfMqo4bajq92YCbLqyGSo63IJ17lMk9hG8SDlz0d9zYlXXcHgYbQ+8zA2yrryhuHQi4/7oc8vJ4VG3BRj7vzp6Dc7wwVfqTBWTK64E2sDKDQOhPJmXgZFlA+DEbRXeRBopmbwYDdmXXsTTh8dQtX3f4S5Yuqjfxa0a27Gqr+aazhSEVNjDopQdELHAF3ZAplWBP3gIQySULPvcunGjueKcMuj92AuKTCvPGhNjZah6toe7HixGPqXwlg7jYxmZYmTF3378dLBz+H6RWVOhWsqQY2cc7rZPe1t3Iup3/SUoYZwg6Vtm9PqNAqta1aKu9w70pSeMtbCqKtNwhrjCM2/AaRAqWFX0ijVa5QoRt6l5FdfGA22MiBGAg1AxDnVHPJachCj33oxra9MegaZRiXEmm88IjqkZtutXKenUbSdtNo6hDWvmRrh1p1OQ3aBGzqKe0OteF6VozY8OVpUhBHepTxD7usqaRBg3GVnpPX24mosPPgiXijWUbHkAVnvZs0qQfkNK3DXtcPc75axlOZTDvLFo9wIfz1Hmb5ljDpZKqPxUrKX8aFyWx+mYhtBu6MciNkycqdkggjLsBd1TENETtubdS9LvieP6g6lIw3V5QYRtlWXxR6PMNJFN0dd96yHZCwUtU7/8pRPGRV1q4TqVrJWlc1kqOsecTTzf9h41JWB136G7tC9WCPqyhtPYP0HhtMMzp+O6X1J6nMr5ErFAGWGVkkXR6RtHoiZKVVJNMpDVlm666OUg/HEsNqrPPH8ovB77/WhpGS2eUe8ux3f/3En5v0natD081B+65244yvAa08+ih1Dl6PiotPo/bMw1txUTo6HKE1N2Np7OcrP0bD47pswn0wPxlZj/1WPGHtgJIPk7kE8+848VH12ACeuWIHlX3oDjz+8A4cH+9H/6VmY9cWbsPZ7V6L7sUbsPO9KzOo/jaKh6ahdu8yYVR5ox+Yf7ET5ukdw4+fp/ozuE6dujyUximnXFnz/EeCuraZ/Hoz3B5GGCx+TwIyUjHZAMvJ6O/CbTfjBr8rx0IabjCWKwR688OMn0P3Zasw7X8fQF7+DOxalF42TyWOT9riSscdYHhm9r+YyY4F3XfOoKwe3Y83Th1E+bwj9Z0jN+eIyrPpKwqP+1eD0rzdh42vFqJjeC/2SZfaemlcufgC3CwXHg0Koa4GUmu7nVqP7q4/gli/QzZkOPNms4xaXgpCTgX3Y/Lf9uP2+G6AFmLoeXbyVGrE/YH10Flbes9B33w0rNcxUxa+hHWtYqWEKHa5ro0egPTXa/Hno/NkmPPvcM9i8/gWc9/Wr81NoBDMXYvnNOrbuPpuraVno24eXntuCV35vrta/vw9bD8zCnSv8FRqGYRiGYSYPfKBlDnimhpmq8CF7DDM2cF0bPTyVmpMnT6O/f3yPQZ8oTNapOFZqmJEiGrljx8a3HSgqOhezZ8+YtIMLhgkC17XRw1OpYSY/rNQwDMMwUw0+pZthGIZhmILA9+2niYqYIps1awYuuICno7PBMzVjy1hOH/OSDMMwjDeeSo1ooCcqp0//B06cOMkbB3MwFkqN+MJrZ9UofOSsABjLjX6FsqGPYRhmtJl0y0/ijSzewDw6yM+pR0bnk9Wj6dfIMQ6/y/kp+lFElMmxmjkR4XAdYBiGyWTSzdQI+GNcueGZmrFlrD+exXWAYRgmk4mr1Jyhn8+Xh7lBz00gpUac0dFZZZ67kUAsoqOqqgMx+5h95zlQxmGXpp0WRrg0jl5LqXH4RYhThiPK+S/m8fNCEYrZBzJ6n98iwznqPC3Yy0zg9s8IB8ap056nweaZTiLIOUKs1DAMw4w/I1x+6sEL996NVd/9/2Cr0rHkQ++rW7D1uU1Ys145UO+DODZupnuh2DBjhzjBF/Vobm6Wv7pKUgCs035JaTEOrTTsmuvFabqGVSZCcTAOhrP8EgqNoISUDsusud77RF15iJx6wjeVjESnxyF9FKcY6tL+KeFkJZ90NoSRjEbQntZxAjHU143Od8URrvIO+u8PywNdGYZhmLPHCJWactzyaAvW3DzPvM+fskXLcPs3b3AeKHlRGHfV9ODxl3tNA2Zs0FBdmVYKpBLRp0tlM9GZgFZLyoZhRU7FUfvmtZtuUkjETI7H7IamKQ9V+B3LH0IVKRr2Mf56Ah06mbn9E8fgd8XzVjjyS2cN6muFApdfIP2/247Hf/Q09khNph+d29vxR2nDMAzDnC0ylZpT/4wnG2I4aM6SDPzmYWz8DbXMx/fj2cbVWCVmZh54Aq/5HXlODL61HRtNtxt/3gNx2pIeX4fHf74TjwvzH2zCnizPC4qvvhkLD7yIA6dMA2YMKCGlw7x0QB1+H9mWqpYaNJ/VD70vCZBbL6/khuKmJvOXOUtjESLFAqRgCFVC7+oAVEXDghSOBjFlFDX8i1hKUE7ySaeBfpTSlCcLryvDnnanYu5VN7q3PIYXdj6GNY3fxfcfMWcozwzgwHPrsLFlE+7PUd8YhmEYg0ylZtp/RfjqDux/W9wMoOP1Iiy+ciYwYwHu2PAINj/ags1/dR7ib/h0IKf2Y8tz5+H2h4TbZtQmn0br+4ZVz8fzcKfw41uzsMfveZsylIcS6H7XvGXGEUOBSfYFUxq00hJ75kNF7lXprCZFxFouSu9jyUDMBKEDCV0sPcExs+JEQ02D4V/4KPkfWLHxwj+d2hxKU54UXVGDBapi7ls3Ehj4/HewccPf4c4L96HzGDDUEcWeuQ1Yc/c9eOhbGna8MoavcjEMw0xSPJef5i+pQfdr1IgeeRWtMxfjqhlkOHgYrc88jI2bNmHz9jcMh1583A99fjnK5CbfYsydPx39/dIGC75SQSbEFXdibdivk0oz87PUkfC+mgmBWKLRW+PpmRW9HXG/PTViWUnsW/Hqh5UZHL1N8S8DUlaWlqCDwuwg9SaUu7igZE4ARznwSme0Na1UiY3JwRWnMtTeDOzYfci49a0bn8PcMlkzUFQk/6D3UAKH4k9js6xvJMhPTshZHTciPk3WfiCGYZgpjveemoursfBgO17Yux8VSxZAtLMDr/0M3aGVWHPPPVj1333H18D50zG9L2lvihyg9l8b5jfCBj4EZs0yb5jxpaIODbVJ+f0XuXQUBcK1fkpECHVyg63p1lwaMjYAx2yzKMLIqtuSclTSlUDJ0hpbEXIg3rgy/ZJhdFajPshG4WxQOsWKlp1OueHZeotKLE859+Pkoqj6Ziz4v604MEQ3edSNWbNKUH7DCqwS9W31A9h45wJjQMAwDMP44vtK98BvNuEHvyrHQxtuovEmcXA71jx9GOXzhtB/htScLy7Dqq8k8PjDO3B4sB/9n56FWV+8CWu/V4PTv96Eja8Vo2J6L/RLluGuvyrHifg6vHLxA7i9Ugbhohtb1/8R168NpzuvMz3Y1rgfCzbUYb7r1W5+nTU3BXFMgnwtvBfhbMtUY4mIj3xTPFPJcr/SLfaQWeVd7Ev7/jNlWLN1GTSPunFoyzr0fv0B1F4k9teY18U9eOHHT6D7s9WYd76OoS9+B3csmmn6znWAYRjGiwnynZpMpUb/1Tq8cOG9WH515viUG/TcFIJSI79BI17Zdn2bZiLC36lhGIYZf0b4SvfIMb5Ts5PUGoW+OLb23YplHgoNU/hYb0jF+sJomAQKDcMwDDMxmHTHJPCBlsEoiOWnSQQfaMkwDDP+eCo1Yip9olJUdC5mzZpBHcjYHB44WWGlZmwRisaxY8fH5KBJUQdmz54xZgdoMgzDTBY8lRpm8sNKDcMwDDPVGPc9NQzDMAzDMKMBKzUMwzAMwxQErNQwDMMwDFMQsFLDMAzDMExBwEoNwzAMwzAFASs1DMMwDMMUBKzUMAzDMAxTEHxq7969/J0ahmEYhmEmPfzxvQKFP77HMAzDTDV4+YlhGIZhmIKAlRqGYRiGYQoCVmoYhmEYhikIWKlhGIZhGKYgYKWGYRiGYZiCgJUahmEYhmEKAlZqGIZhGIYpCFipYRiGYRimIGClhmEYhmGYgsDzi8KnTp3GsWPHMTT0H6bJxKWo6FzMnj0D06adZ5owAv6iMMMwDDPV8FRqjhz5EBdccP6kUBSEAnby5Ce4+OLPmiaMYFIrNd0xNHVWofm2kGnADIfEtiZ0VjWjrsI0CEQCsaZOVDXXYWpKX0d7JILepfnKbRwQ9WRXGRoaaqCZRqOC3o5IFKjP6a+QlXSImiAR4HrNjAGey09ihmayzHyIeE6GGaUJiWi8mprQ5PjFqFtjRhuhYDRtyyVZUigi7dRVMONHEr16CFUTXaEh9L4ktKrQ6Co0Y4TeFkHTsMu6ULybEOs2b8eU8QybCQLvqZnqaGE0NDej2frVgyvtWSB0G8k21whV16lLZcYVkQdaGUrM24lM8qiOktLJqNJQs7OkAc3DnmEKoY7aqvGZSRvPsJkgeC4/vfdeH0pKZpt348QZ+p1jXErc9wrJ5DFcckmpeccIAi0/+U0zu6e1hbtI3B5VhepFpfaapk+bhfsiiBwNOzpy93KIuI91GddSubLCs6ephYIVR1mDOr0tRkqWmbhOzyxptQ1oWJLZTIpRYda4UHiRvipUd8YQtxJZWZd270q/I642arxMI8Us1BVBFPVG/Nz+iYZSKJNRZSbHDAMi7q1pl35pFMh0Wm7p+XBpHL1B5O1AxFldfnLK2Pmckd+2zAijbJg3JiJe8dIwEE37o7pzxJtQ02g8W4+yXUY41nPOZ0RHY8bXS7Y+S2luednyVsqK6iZU30DxiENrqEKna4lOuuusNmTjiIMVviFHuOWTsSRjyLSjypCBd/iWf0p586yj5o0s31QejkZk/mfmkTOPQ7VhJDvVdsFpn86fHMtPjjhpCNeWIH7UTKs73a7422F4miMjXEfZFmHZ9VDEkWS2VK1fqr37WVU+lO6IjvDSXmon6VlZRkjygcNmxgWh1Lg5fPho6uTJT5y/f//n1E++fW/qF4cUsw/fTf3roY+d7kbj9+EbqadW/zT122Pm/R9eTj2w7uXUex8rbpSfiC/jZO/eveZVFpJtqZaWtlTSvE3TlYo2tqTapIW4bkxFE9LCeKYxSqZ0ubsl1RgTVybZ7IiuWNofaa+ELexadpt3iaj9rMNcIOzkc8lUW4tqp8bZSa64SD8dz7rSLEKz7dzhpvGPqxEHw0487x1P1b0NBWzfS/lmedaUvUS6DShvByLtlj+ZaRXPWbJMpyk7MuyMuCnpyJJG41k1LwhXWqUbGacssnXhloeFWi6c8TZkkS57ajhK2XPF3/bPL++EuRoPV5nxDl/cqs+5yqtLPjLP3DK08clj22+3vVrP3HJQyaxDMv5WPRRxtOuk262Fn7kz3Iy8dKTfFS7hdp9MV27Xs0b4Dr/zCpsZD4IvPxVV48bVK7DwIvNe8E4cW37Xb96MFoM4sGU7tBXLUDHNNLoojLtqevD4y72mATNmdHciIUb91shOq0G4MoHObrpcEkaoi+xNK72rA6BRnjXm9EdHolNHaGl6pkCMDtGZsEdkFm7zBF3L5/QEOvQQwvasBV3XAh1dbh8ColUjZI+uQqiqBJJ99vgQmm2nIVTlPQzzjat5b0B+leqIt1pSywEFnA46hGrvoGVYmip7h9vg8naQIWN67rY6O8+10hLorXE7/7PhjJsoQ3o6r3KlsbIO6syCO63pchhUtglyA4Tr3XmjQ+/TUCYNTTdyVkRg5Ht6D4uOXjP6ehvJoDIsR+cJkgdq642Rut6OeJfpH6W5odlnBK/3msuOOtp3WWUmR/j0jF5qyE2En6xtSMuoooqeSYqVNEKkiZ5W7VW88pjCsBluPXO3G2b8Pclwa+Jn7iCzbKOCyovZRlmoadIqq6n9sGRO9+nKbcpORfMoJxbBwmbGlmBKzUftePzeu7G++WnsO2YYHdx+N1Y91Y7DL27AKrJbtb1Hmg++uxOPr38Mmx++Gxt39GAI3dj6yGN49t7v4vGf78Dm738Xz74xBJzR8doz67BGPNv4BF4bkI8DR9qx49M3oNa1mlR89c1YeOBFHDhlGjBjgtiMCD3u2FAsplqNDl90/lYFFhUcqK70abgciM2Y1AFE0342iSlmpaGxEZ0cOpCQbSiF1WVu4hSNOt2L/T+WH2KaXj86zF0pZgfhTWY4nvjF1YXcX1PVafqnLO14Iabp7bCdSz1pjI7Lub9CdPDmZT7yVhEy9txfYnaY1IA3N4ulGMPPfPZhlczR0nmVI43aHDUGRlr11ojyjJChEadAspWdparEWgg5lRgKrIeb9B4WVbZC+ShBnVxGEXmuxC3Si7CfImNBgdmp644jXmoqcFnDpzDEJmEpF6Nj9d9bY2x8VpUWB155TPe262HWM9luuOqUUIK98HIr8DN3ItJnKaJO1EGJl72FWOKz0pZZZszy4EmQsJmxJphSc2EN7nq0BcuVLRrzb23B5r+uwdybG7GZ7DbfWk6mvdgT7ccNTSux6r5mLD4Uw56PyLh/Hq6/52b0vz0Tdz5wM4o+6AeOdSB+Ioy1G+nZDStw7UzpLQa696PsymoUGbcKZSgPJdD9rnnLnDXkyNNsUGVDJPaXqJuJ6WfteRAjIDFyliM66tIzOwoLozMyKKGGQKw9O/1s9tz7IEZ45shQNPSV5khKNLxijdvxPP3svQnZUOOSC2M/gdgLYYXRUOuXSJ+4eiEVAvKvoQxx386XOvso5MZEI+wGhD2DNjpZ/4Y0H3krCBl7Kj5qQ29snBRxK9vlr9i4O0HRQctOOXAaLYy0in0PzrQoykMQ2Xp1llKRUDp41Y0660IIpUzI25glUWcnLXmIXw75SkTeCIVMzNIkEa5VnvAN363IuDpWVSFyp8mNbx6bDLOeyXZDyMe8z4af22B+CPmlZ81U/BW9NPZeKDttQfLMYmRhM2eH0X37afAQet7bj1jLJmze9ATiHwxhUMzAfLEcZWKTLxVSU3cBLlqEZRUdeHjND7H55x3QxUZg4vSfgOnFmSqNYOZnqZCb7pizg7ExUZmaF9OxXTH/Ubi070S7WHqyp+bNBklZmpKjULvyG51/PBrslU4xXSyWStrpZ08jy1mROKJtuX3IHpcgqJ2GGJn7P+wZ12yoI3WBu4NRO6Qs8RZhOZaCZCdoXucpbxu5FETpVWSc2EZKgqeyZigbvqjyNztoe1YvYBotpCKtbDr2xS1bC9FRq/ExkbMfShlOd6hiw6jYrJpW5mSZInMxS5OeBRGdnNfSgzHT4V2HTLl1iVkaYwnLxjd8Y/bFmAUUzytLecJtNL3smXO2wyuPqRzZd3nUMweiXdApTXaajaU1TzLcmviZOxBlW0Nil1K2SVGO+cySeqLIRw7ozOvc5Ao7W74zZ4tzzb/DZkhVMopnYdZFC3HT3bdirv2mUje2/sa8dFCMueEVeCgM9O5chyfbv4C1180khWY69IFBae9m4ENg1pfMG2Z0kEtLcfNG4H5bxLgXlbPJNBGVOb3DX6yxkx9iCr5ZaTrl2jJVaHpOQqO9utokOo07+UpnA0iBUsNW3zhSEXswSsmvPhox2g2VhhqKAyIRNJESZpH5ZgeRIy7ZMdMXaaKm3bivqw8h7jfT4xlXFfE2hnOJRcRZproijLAWMeIpRscNdL9LkZHYW1KpdDgqlMaGWuFWTaM2PHnbeMhYxst4Rn0zRyL88+lItNoyuUwVM+9FmmX5If8Cp9FCzMTUG0tWNma8En6yVaE8qldlJfKUyjjE8o6170PkhR0vsqe8SLZSJ2bYSoQSidoGxYzkVR+WZcXyWb6tUyle1SclTqkeTsQ+ILF/RvE9W/iu187FPqfOpnQeqXVAzIhlV65FHteh1/E81f9dlhDzqGcOjDinZSH2poSheVY6t1tTbkv8zM0bk8yybbRP2VJtIfdjNYmyZN7X1lEdDNYyCEYSNnN2CPZK91vbserpfTg90I+hz8zC9GtXGMtNp7qx7YGfofeLl1NeLsaqb5RDf/UxbP7lEMq/pOH0kVkIry7Hvi3A7V//I9b/8nNYS3+3vlGN2+e24/5fDqD8Iqqj75/Gwu+swLViE/JAOzY+BSxfXZOe1RGc6cG2xv1YsKEO812vdvMr3ZnwMQnMREEoP/br7AzDMGeRCfmdmoPP/xB7KhpxxxXp2Rr9V+vwwoX3YvnVmTM4rNRkwkoNM1FgpYZhmLFiQn5ReP6tKzF313Z0DpkGfXFs7bsVyzwUGoZhGIZhGAEfaFmg8EwNwzAMM9XwVGqEonDs2PFJcVBkUdG5mD17xqQ5gHOsYKWGYRiGmWp4KjXM5IeVGoZhGGaqMSH31DAMwzAMw+QLKzUMwzAMwxQErNQwDMMwDFMQsFLDMAzDMExBwEoNwzAMwzAFASs1DMMwDMMUBKzUMAzDMAxTEHxq7969/J0ahmEYhmEmPfzxvQKFP77HMAzDTDV4+YlhGIZhmIKAlRqGYRiGYQoCVmoYhmEYhikIWKlhGIZhGKYgYKWGYRiGYZiCgJUahmEYhmEKAlZqGIZhGIYpCFipYRiGYRimIGClhmEYhmGYgsDzi8KnTp3GsWPHMTT0H6bJxKCo6FzMnj0D06adZ5owfvAXhRmGYZiphqdSc+TIh7jggvMnnPIglK2TJz/BxRd/1jRh/JjUSk13DE2dVWi+LWQaMMMhsa0JnVXNqKswDQKRQKypE1XNdTi70h+rcPJEb0ckCtQ31EAzjfzQ2yKIoh4NS3K5JLhMM8yY4Ln8JGZoJuJsiIjTRJs9mtSIBrypCU2OX4y6G2a0EQpG07ZckqWOPtIO3bxjChOhDDUNO5+FMtiEWLd5O8YEK8cMM37wnpqpjhZGQ3Mzmq1fPca10SxUQreRbHON0nUdSfOSKVy0JQ1oDjAT5E0IdVRP85t9Gz0ClWOGGUc8l5/ee68PJSWzzbsx4Az9zjEuHdceJJPHcMklpeYd40eg5Se/qXYxVb6rDA2WuXAXidsjy1C9aFR1tEci6F2qNrBps3BfBJGjYUcD6F4OEfexLuNaKldWePZUvVCw4ihraECNHUExUrXMxHV6ZkmrbfBcChAj46xxofAifVWo7owhbiWysi7t3pV+R1xt1HiZRopZqEtZqnD7JzoqoUxGlRGwGQZE3FvTLv3SKJDptNzS8+HSOHqDyNuBiHN6WcjhJ+EIX+STR5wz/HSl1/AjGSAcZC1jwsz5nOjwreUsw52dn4RRbs0bG2cZCtWGkexU64R/GRNh+y4/OdKsIVxbgvhRc/nJvRTlKR/y09NcyERWWrucOfJVhGWXQSGDOLSlatlS7d3PqjIyn60vQ1zGwZBtiSvN/mEzzDghlBo3hw8fTZ08+Un6t/+nqfteet9pNlq/Qy+nHlj3cuo98/69lx9MPZAlLBE3Jjd79+41r7KQbEu1tLSlkuZtmq5UtLEl1SYtxHVjKpqQFsYzjVEypcvdLanGmLgyyWZHdMXS/kh7JWxh17LbvEtE7Wcd5gJhJ59LptpaVDs1zk5yxUX66XjWlWYRmm3nDjeNf1yNOBh24nnveKrubShg+17KN8uzpuwl0m1AeTsQaVf98Qvf5c4XtywtgoWTkXdKGXOnWXWblnc2MvNSyCUtp+xlzD8Md5oNf+x0iHjbacomHy9zZ/lx56tTJq5wCbf7ZLpgez+r5hGhpjl72AwzPozv8tOZXrz09GFc/72wOSoiXf+6lag9+Bheet80YMaX7k4kxKjfGuFqNQhXJtDZTZdLwgh1kb1ppXd1ADTSNcefWdCR6KSx39L0qF6MkNGZsEelFm7zBF3L5/QEOvQQwvYoma5rgY4utw8B0aoRskeYIVRVAsk+e4wMzbbTEKqybxz4xtW8NyC/SnXEW5UZjmxQwOmgQ6j2DlqGpamyd7gNLu8MfMMvQZmWQLwthw/u8uOHTzjZypg7zapbrbQEemvcfs6TjDJEcqlSSu9wy1hGmv3LjK98AsktM19RUYc6s35aqGnSKqup7vTay5xaumDTs1Xp8mMSqvfbyB0sbIYZa/JUagbR/dxqbP61qNSDOLzzMax/bBM23vswXjo4BBzZiTWPtGPAcIyDz6/Gtrfoom8fnl2/GqvuvRtrntpn2w91vIj9/+UGVBWbBpJiXHXzQuz/5X6Qj8w4o/dR86fHHRuKxXSz0eGLzt9qxEQjB1RX+jTeDpLopccT0bSfTWKKW2lsbUQHhw4kZD9CYXVRmKKhJ7cUIsT+H8sPsQyhHx3mrpRSpVPNIDMcT/zi6kLuS6jqNP3LsTFbLFXYYTuXU9JQuvtIzaA0pBHKk3mZj7zd+IavoaahGfWImv55b3yV5SerbE18w/ErY0aa9daI8pyQZVJsTZIdbHNzFTpNO889YqIMaWWkninQvR3XYZYxrzQLJcsLP/kEk5vIV42US/NWQVXIvewtxBKaU34q2Z4NEjbDjD15KDWDpKQ8ilfK7sWq66gkH2nHlv4bsHblPVizbjEOPU/KzMWLcD32YP8H5PxMD/a/UY0Fl1HF+V0cJ657EJsfbcHGv16ImYaH6Ok+hAVXlJl3CheXo+L33egxb5mxRW+jEa45cyEbY7G/RN1MTD9rTV2MAsWIWY5qqUtPz3a4MTohAzHKF+vvTj+bPV/vFaNcc3QsRq+V5mhSdD40knVschY/Zd+MP2pccmHsqUB9OoyGWr9E+sTVC9npkn8NZYj7KTZyzwrkxlAj7AaEPYM2FBj/ziQfeSsECF9uehV2S3sR8VBsZPmheGXt5nKE413GjDSLPSDp9BjPpvd0GJtqhVnZLg/FRpShbIrdMMtYoDSb+LkN5ofIV10qrG6cCq43cj9SZ7WSvhzlwcHIwmaYs0VgpWawczuePLIYd5otxuChHhx+I4bNmzZh8xM06hsaRD+pKwtJ4dnzL73A2/vRs7gG88+hCrroW6j43QasemATXnhDqQV/mo7iaea1g1nQLjQvmTHF2HgJhOvNaWUxJd0V838bStp3ol0sC1DnYzVnslFWlg3QHXeM8kXnH48Ge61VTJmLpZJ2+tlT6XJWJI5oruUPIntcgqCOSBOI+83UEJ5xzQYpGxS7NO5OVp1JyBJvEZZjuUVvR1zZwJmPvB0EDF8qAOalA1E+dHrOr/xYZAvHp4xJZSeaY6ZLYihAGchlLucSWoJkaN/lUcYcZKRZR/sun1j6ySeQ3ES+akjsUvKVFMSYzwyhJ8pskBzMmNe5yRW2McPFb1EyY02wt5+6tmD9kRuwHE9gY++teGhZBYp/vwVrumuw8a/mmo5MzvRgW+N+qpTdmLX0R7j+YtNccKYXrzQ/jaLvPYBaUlrE8tT+qx7BbfNNexvyY303Fq+9Ce55HH77KRiB336SbzaoqG+QWBizFekGz/mWg6EIlWQ8537bpq6qA52lDbDeQDGeU0K33jgSI3fXh8qkX33ut2uCvuGSIy4+4cXnGG+hOONpvKkUF3FR9mKoeMVV+GG8NWK80eMdZyU9YoaggTpt1S3Jp446Wb3W+w0TRzzzkbcDkdfWW0ku+TrCz14mHHi+xaO+/ZQtHMPIiHtmGTNmeZSuWMot860x77QKnOkQe0iwS6e0WHnnX8bSeeqVGa63n+qr0dGpocGrfHvKh/z0NM98+8mZr2o+iLg73Rp+9iIs5ehMu1Zbh+rOTmgNVp64niXcafYP2/BbzHB61UeGOVvkpdSsDWvo/dXD2IplWBMuwmtPPoodQ5ej4qLT6P2zMNbcVC6dH3z+f2L9e3X429U1cqnp4PYfYsfxciryOno/WYg7li80Goy3YlhzYAE21hnP2fiZE6zUBIOPSWAYhmGmGmfhOzWD6HzmQXRe04zbK4tMMz8G8NqmCPq/+QCut/SUMzpeeXg7tB+swFWODcQGrNQEg5UahmEYZqoxuq90v7Udq+5tQmvZd3FLToVGMBPXrrgVeiw9xarv3gL95m95KjQMwzAMwzB+8IGWBQrP1DAMwzBTDU+lRigPx44dn3CHRxYVnYvZs2dMyMM2Jxqs1DAMwzBTDU+lhpn8sFLDMAzDTDXG95gEhmEYhmGYUYKVGoZhGIZhCgJWahiGYRiGKQhYqWEYhmEYpiBgpYZhGIZhmIKAlRqGYRiGYQoCVmoYhmEYhikIPrV3717+Tg3DMAzDMJMe/vhegcIf32MYhmGmGrz8xDAMwzBMQcBKDcMwDMMwBQErNQzDMAzDFASs1DAMwzAMUxCwUsMwDMMwTEHASg3DMAzDMAUBKzUMwzAMwxQErNQwDMMwDFMQsFLDMAzDMExB4PlF4ZMnT6O//ziGhv7DNJm6XHJJqXk1ueAvCjMMM1qcOnUax46Nb59QVHQuZs+egWnTzjNNGCYTT6XmyJEPMX36BTjvvHNNk6nLZK1Ak1qp6Y6hqbMKzbeFTIOzSQKxpk5UNddhdELT0R6JAvUNqNFMo1Emsa0JnVXNqKswDfwYphz1tgiiqEfDkrOUAIY4++VkNBF9wgUXnD+u7aFQrE6e/AQXX/xZ02S0mFx54WQyx/3s4Ln8JLRxVmimAHo7Ik1NaHL8YtTNM8xEg5TPSDs14cx4IPqE8R7gifDHYqZIDBqatg2vFRQDgiYup+MK76mZ6mhhNDQ3o9n61QMxUm5i3aY9w0wEdB1J85Jhziah26gdHOYssbakAc0NNeBJk/HDc/npvff6UFIy27wbZc7Q7xzjcjJQ0MtPYqZGzly6KqFYtthVhgbLXLiLxO3RR6heLH2Iac8IepeqyyBps3BfBJGjYUfj4F42EfexLuNaKldWePayiVCw4ihrUKdWxXKRZSau0zNLWm2D75KJGEFFWu0UoM5ebvJefpLuXfFXzRxxJwyZiKvM6WCnWw1hOz1i9kFHeGkv5QOlQpWBgiPu5CZcGkdvXnL0aqD9ZSfCU5effGVH/kf6qlDdGUPcih75U09Pq/FV0+TrlymLqqoOxNz2Ih1CPha2n840+MnPwOW2ss7Ox/gctdxY+UfafdS/fNdVuPxzpMWNV9glznLiqmN2Wtx1UaCaedZN88aFbzlxh+2RlrPaJ+RBMnlM2eeYvQ3KkIOvrJx11lH+8y3jIm+sOufxrFXuDIZfhtL11Rl3hhBKjZvDh4+mTp78ZNR/7730YOqBl9/3tDN+XannvrciteLbdamn9nvZD/f3RuqpbzemfvLTn6b+4f8e87D3/01W9u7da15lIdmWamlpSyXN2zRdqWhjS6pNWojrxlQ0IS2MZxqjZEqXu1tSjTFxZZLNjuiKpf2R9krYwq5lt3mXiNrPOswFwk4+l0y1tah2apxdiGfMeAmccRPPpe1slLQYGOHZ8U+64mS7Fe7S8XCn0+nWkK3D3o0r7ka88pejk+yyE346/FDCd8hO2ikyN+OWDtMVTja/TFmk42SkxRGWQ07uNLjcO8h0a5FRvqRbM01u+TnKBJVA5bH8w1bCkaj+qc9klut0nA2ZedVNN/7lxB0Pb4L2CUf/6ZHUiu/dmaq77+XUex72I/2JeDjImkcq2WTllEFm+VfkE6SMW3buZ91xoGeHV4bUMhEs/6YSY7f89P4OPHn4etx1XTZ1shy3PNqCNTfPM+9HkdKFuPGby3D9l4pNAyYQ3Z1I0EgkbI16tBqEKxPo7KbLJWGEusjetNK7OoBaMjPv/dGR6NQRWpoefYboOXQm7FGUhds8QdfyOT2BDj2EsD3CputaoKPL7YPxjKbEyx1vT5R0SkR4SMtB05RyXFHlk+bMdKKiDnWqv2QTrlfsXbjjDi2EattxcDk6GE3ZadUIWd6QTEpEempt1whVpVOWOx80VFem3YeqyGWf7p2WjDSQ+9tolOuVrx5uAyHytSuOdjMConzrlVZeayK5NjKuXgQOW/VPlZs7b6jsdJn+ZambTrKVEwq3VEe8NWttCMzMr63E5ke/i8Xm/Vknax4pBJaVB3mU8QzUZylWVZVAksq0wXDLkLtMMCrBdgN3bcGT75VhaG8cPcdn46Yf3ofa0kEc/PljeOa3SQwNleDa76zELZefQOsz7Rj6TDf2/EsSuPK7WPvNChRjCAd+uR8LbryJrtPorz6Bx1/swWBREeb/RROWf22maePk8C/W4cnX+ikcKgZfXYFVN81D51MN6Fnyd7jtcnIw0I6NTwHLV1+N/p1PY0vPEM57fwgVf30PbpxfZHjCDAu9j/KRKlWkKW6aGGhzqEJViEoakw1DqEI0nEB1fZYKbpNELz2eiDahyTQxCMl9Ew4fRCeOKBJ6DcRyk2jQq24j8+5e0VRD7P9xUOn2gTrFPvq/K4KmVtNIoqFMtAlZoisamRg1/CKdUmGrqredO5dRBBQv8yqNSCeF4xGGbNhkA0tNpG8cjLiXOBpN0QkBvfI6Dzmq6KMkO0Epxce8zE6QfMgmCxciDVoZPeEmKbbfuJLh5zYXovOII0qdR80SoZSBFFCr4zGWOexlBQF1phkEDtu9FEFJoI5L/q2sBqKkgCwhpUR0zhROHZlnr5uqALKXE7mHRCybUPjCzH8JxMVgD1547Am89pF43boGd264CfNNKwfH9+PZh7ejWzTgxTRw/f4KzP2X1dj6mSasEW3+mR5sa6T+YUMdyt7biWee68FQ0SEMVYi2vhzZW/BseZQmu6zMGz8Cl3EPsj6bRxnyra/5l+pCJ/ArTp29Gn780CMoPrIDq37RgcVX7sOWc5dh44YyKtz78eSP4ujdsJBaW+rhvvMANv4PUmSeXIc9fT/C9aU96D68ALUXm54JjuzE5lfLcd/GFZiZY4/N3G+Qf98QVzpeuX8neqigX7VkEV440ENKTTkGOl9D0aKVmHmkHY/134C1K8spTvvw+I/bMfDDMLxVJcYPvS1Oo5pqhKk2aqVUaSqde0tU7I5f09FB6oe/TmN0agYl1NFTZxZoHViMhKhNF41WabpBB3UUGv0y9gNlYCgBIa819lyIUWBUjPxLoCsKm1RoOqvR0GyFLRoccpCBSKcuOxR3JEuosROdTXaMuHdIBcgrlfnIUWG0ZKc2xjkZQT54IdJAjb2QoDMNHoqRr1svDAWAWjWJrVDQCDtdvo3OqKOqAc3W6FnupTAuHQQK21BoUE/KhSkbY1+HiaLYa1TXQlWyBuSsm2kClJOKOjQ301+x70TEJadiQ+37cxEM3vx32Pwl08iPGQtwx4YFxvXvnsH6N3SsXXQD8NQbGPhaDWa+vR+dVy7Abef04pVoP25oWon55wzitccexZ6PHkDthcajfnjnkZPsssqrII8SeZYh3/o6HnGf2ARefiqb+zkUC+Xj8+Woolr/zkc6yi8zq37xPJRP60e/vJmHuVJ5KcLc+UXGqEkwrdipcX+oo/jK6pwKjWDgdzFs/tEmbN70BFqtjvHyGiz+/T50n+nFvvhMLP5KMQYP9eDwG+R2E7l9Ig59aNCMExMUYwZCjHbMCiSnd2P+b0NJ+060y5mMkF3pZCOiLgV0x5URiaGoxKPBXn2UjRY15u2yQTcbJdnQ0witLbcP4plE1DkKDoaYiUqgsy0hG8v0NDKhjMCkEmheOzGmphO7lHRSwxUTs00BO3YRd71V8Z86nbiy6TgfOdqMiewyGbFfpnIgkctwCcSVNCS2kd9eSw8ebi1K5miksKaX6zLyUixTlHYg3uos3wJDMRVQB7XLJ1VZwnZCSoftObl3zAIa+dzR1W7MVFplJ1fdtMmjnJDyE2zsT+1939W4KpdCIxg8jNZnHsZG0S5vf8Mwm7kItTP3YP8HpBy1dWPxYjEQPYSe9/Yj1mK09XGyGxwwnGclSx7ZBJbV2BK4DAWsr0weMzU27ybQPTeEW4qn4x8/EiVOTB/2Q/+0JmfxjGlxwSAOUgEqu1JcF6HohA7h2i5w00jhOXgIg2HNsSSVSTd2PFeEWx69B3NJgXnlQWv6sAxV1/Zgx4vF0L8UxtppZDRrFrRrbsaqv5prOMlF3368dPBzuH5RWY4pzgJGj7umZN3Tz8a9mPpMT36qb/AY07+R1hJypzQncu9IU3rKVAujrjYJayAiXn1sAClQatiONwMUZKNFfvWF0WArAxpqKA6g0Y66nOH59ocYhdaL6XVl+lZ9YyELYu9BPBJHCflruZV7QWg0ayettg5hzWuIJdy602nIzmu86AnFvaFWPK/KURueHG3GRnYZjMSvijDJOGKUJ/OZjDRIc690i/TWobdJcWvKSFtSj3CnIj8yr6tU3wQiuVSVIBYF6m6zSwBqlobQZC/niH1RYXgXAb+wVdXBrEORJuq6jPu6+hDi9swm+UJlroTKXLJWLTu56mYa/3Ii3sJyLoGIcpC7fE7H9OIEDr5PWfN508iHgdd+hu7QvVhzLbX0bzyB9R8I0yJUXaVhfduLKDteizo5EJ6FWRctxE1334q5eb4hm5lHboLLamzItwwFrK9MwFe6u7bgjv+jY+GVpEAcnIUb/3cdKs7X0dqyAfumhzD9qI659eaemvWrsYc6oXmnetB/xUqsMjcGH4ytxv6rHjH2wEgGadD6IJ59Zx6qPjuAE1eswPIvvYHHH96Bw4M0Cvg0FfAv3oS137sS3Y81Yud5V2JW/2kUDU1H7dplxjLoQDs2/2Anytc9ghtFxTqj47UnH8WOoctRcdFp9P5ZGGtuohEAKUZb1/8R16+lQiOeMxmidH3/EeCuraZ/HvAXhRlmaiNnL12v9081PF/p7otj89+QklRJjfr7Gm5aexOw/W48+S+n0f/REGZdOB3XfqcFt3x6O9Y8fRjl84bQf4aGj19chlVibVvspVm1Af11P8Xyq41hpf7qY9j8yyGUf0nD6SOzEF7t3KfjfKU7DecRYxFYqVl/5AasFQUxK6TorN+JMkvpUBnYh81/24/b77sB2ph/p8ZbqRH7etZHZ2HlPQt9992wUsMwU5n0fpepPCqemN+pseA8YtKM3SvdMxdi+c06tu4ep3XBvn146bkteOX3g8b9+/uw9cAs3LnCX6FhGGaqIjZyNsk3gsSSD3eWExHOIyYTPtAyBzxTwzDMVKewD7RkCglPpebkydPo7x/fY+YnCl7rt5MBVmoYhhkthEJx7Nj49glFRedi9uwZk3agyYwNnkoNM/lhpYZhGIaZavAp3QzDMAzDFAS+bz9NVMQU5KxZM3DBBTwFmQ2eqWEYhpl6jPdS4XgvE3oqNUIoE5XTp/8DJ06c5M1iORi5UmN8+r8q5+fSJzeJbU3orAryKmg+8hBvZUSBfI8vYBRGW4ZTozwzw0AeT1A1bt+4MY7EqEdDzkNPgzHem7rHe0P3pFt+Em9k8QbmqYtoACbap86zIzrTpmHHWaS3KZLnMQijhTwHKGKfgDx8DBmILwlbv4j5yXehVDZtG41DGJjCgcrLeJX5AkD0j+O5mVqEnVcfPWrtjAHvqWEmFcmjk62pE59nH/5HwcTn7ZuHcyTBaKDVoKF5pDMlYsbF+I5IM8nB+lmjUnlCNH8FllHR9fQZX0zhMyrtTJqJu/x0hn4+Xx72+1Q2kybo8pP8vLh9eJ5xPorRxbin68V9+jBCjTopo2MSnVYc2lIgFrVshT9V6FTcO88p8fPLiE+8NAwoBx8a9qBwMs+oEX460+AOy4nDrRZGuDSOXmX5Kbg8nIgZh5h10GQl+dvXYS6dZC6jONwqYTjDNs+l0V1T42JUQ/K2U6ue89QdQ6SvCtWdsbScVHv3s+q5S/JZivfRiIybIfNk1jIQ7Nym7MtIIs3eU++u57LF3YWnHDVn/jndWOk1yliv4yRxEY+0mX/5UPGqE65zhrLlowtnebHiKjzyr0du/ONNfkR0VFV1IOaTLk95QsS/F2E1/a5lnGGFKfywZUaY53klhDzry+Q5bLrlNo8y4cDxHKWntgTxo/51zGhPnOXAIG1W1dmE+BxV/q7ySzjyUYmrkJOsA9QWNe0qc6ZByMM2C5bfE+Hrz559tDu/7DLhrJsjRig1bk6e/CTgryv13PdWpFZ8uy711H4v+9y/t1t/mnrqp82plfe9nHrPMv/Dy6kH1tH9x0631u/w4aNmTBk/9u7da15lIRFNNTZGU13mbXJ3S6oxZt11paK2XTLV1tKYatmdlHeGXUuqTd4adunnyDZG97Y94Qgnm19mHJQ4pZJtqRZXWNGEtDFwpcHp3oWnW8W/wPJwIt21tFHsTKQ/apxd6VPdWrjjZiHMHXFQ0++SpSNcQab7pG3n9ayaLwI1ze58I1uRz0q++5GRpwrCzhmmhVNu4t437ip+cnSkhSDP0t6ly4wzzwlpZz7n8jvDrY0RP9XOme858lHFkf8q7meEn6q8FLLG24iLb776yVOVi4Ua15GG6agjpjwz4hGwTDjwlr07bra9ks5sZUPE3xm28Ne/3qvuhZ1xnZmHaXfB81v0j179ZpDfm1upP1++LFX392942gf9ZfbRTnk4EWlx5+3wGeHyUzluebQFa26eZ97nT9miZbj9mzc4z4q6KIy7anrw+MvpM7+Z0SfRmSBtP2xrx/L06a5OeyRgoyfQoYcQtkcF4lRhoKNL0bmr0jp2yRxyVxlOj0rFsf/mZRC/UKm4F8fuazp6FWsVdxrEVGa92z+TTLfCb/OaCCwPBzo9R2PHpcroSk2vAw+3Jhlx86Kb4kIjvLBdWTTU1IcBetZOrVaNkO15CFWVNGrqs2w1aLadRnnmigX5Xe8z0s/MN/L9NhpZ5ZQPeSuX0GiU7dpPkx854m4SSI4C8iztXbocuPNc7+oATP/yLR9qndAqq6HpvcaySpB8tNDKoHXFM/cbBKlHJrnjraG6Mi1PGW8qM8KnwPJ0MZIw/QjVu0fywcqEAw/ZO55z21N7Eq5MoLObLrOUjexk1ntx+n9mfrvzkMLtMvM4j/weCfNvbcHmxlsx17wfPSivSnXEW/1qy+iReQ7CqX/Gkw2/R3hzHeafAwz85mE8iRVYc+VbePbh7egeGgKKSZn5/gpce5H5jIvBt7bj8Z/th05utWtW4K6/KseJ+Dps+/cFwG/bcfhUCW5svAeLfZ4XFF99Mxbe/yIO/LcVuGqaaciMItSA9ImK6TzOXhS+MlFP1PaBGmOqlhCbPR1Uiia6hH70jOo+G1n9MjzR5gg/g2CkocSjMdOPpv0z8HIrKhpgqM55yMNBkhQud/pLfOTh5Vbgnw4VvY/SVFqVGRWzs5TmpUpnnYFz+lqgUcNok+1ZkW/UwWbmTFJsgcgiHxO5bl5DF8aUfdNR/+UWb3LEXRJMjhL3MgclgLoZQiiCMdmJhSpEZwRU1wv/8i0f/nUiUD5aSLmFSGakEFI49pJDgHpkECTeJYpyoJKHPB2MJEw/vOQZpEw48ZK9Vkql+qhxLe1JgYg0xQ0DE20ORbzCr2zkQtR7im2U8tA0MQjJ/FbrlFB+QeVSX0IKkFCwaIBXJywC57ebIRx4qgE9S/4Ot11OtwPt2PgUsHz1F7Bn/d9h3/EhclGCxX99D26cb5yUnkHfPjz71IvoJrfFl96Ku/7nQmjH4lgf7ceCc/ZjzzvUz9/YiFVe68sKcv+cqHeUZyLt6hLnaJKp1Ez7rwhfvQ373yal5vIBdLxehMXLZwIzFuCODaSUCH73DNa/oeNar1O7T+3HlufOw+0PPYKycwZx4MkH0fr+I7iWrHo+noe/2fAIis3nF2c99bsM5aEE9r0LXPUl04gZRYwOPeRYI/ZBjBbpV++5Xi1aqTzI6le+GGnoEDMRFU7fMhUjf7cGecjDgVBgzJmknAnyc5srbgay8aURX+bjXsqGG6MDECcZN5vpM9byAyLyzavTpZDz7ZxqloYQ32WkIxhB4x5MjoZCA2pUm81G1dz/YCJmDWI0iqYEowPVMPqt4ZaPTPLPR5JZQzOESij2ZUTaSLGpDFqPRhLvgPI0kQqBZPRk5c/wyrOv7E2kfWXYV+H2LhteGIpMmbwW9Z6UMr99ZeZfiZg1pFQkdMpXCidUJVUaMh9uu1mEq5YswgsHekipKcdA52soWrQSM1GMG9c+ghuFk76duP9XPaTUeGVWL175SQeq7nsEdxTT3Y7VeOG3C7D8UrJ6dxBzqT/feH4Hnm3ugF4Tzh23ChrMNNNfsb9G5N9ZUGw8l5/mk5bY/Rqpo0deRevMxbhqBhkOHkbrMw9j46ZN2Lz9DcOhFx/3Q59fTgqNuCnG3PnT0d8vbbDgKxVkQlxxJ9ZmVWgMZn6WCpjYMMycFUQFTSgbcn2RFS2O6LCWDVyMgl/p5RQjDXprPJ0GqixRGh2qU9sWXm7jygbMwPJwYExfJ3Ypr6B2xx0bmtN4uDXJiJsXYllLJ7/t18OpM47SiJKeDdbQqaPdBOL2Js0AyCUaekbJt8Q2kpW5VCg6lKCvnouliewzSl4Ei3sgOQpUBcKdX0LOXZ1oF8sLimyHVz48GEE+yqVdQR71aCTx9pUnddIlZCpmLQyceTJiWZkKdHb8y4Qsj16fCvCS/S7Fncz7mP8nGHzKhsgXXVlO0ttUmYl6D8SjQeqH4bajq10uPVVZesZI2s3La7D49/vQfaYX++Izsfgr1AufGUBnbBPWi/786bg5W+0F9edF5ZgrO25S0i6j8jBgduhXLkCFMD+nGnesDaDQqMjyc3bwPob74mosPPgiXijWUbHkAdL1gIHXfobu0L1Ycy2l4o0nsP4Dw2kG50/HdNLYB1BB2iA9R3mgVdLFEWmbFwMfArN4lubsIbTmejEdqExpal5vEIiRYgMglg2U6eRsbxn5MxK/zFF+1HjWeCYzDcLccyaU3DbURmiEYLqltNbVaug07vKQhxOxZ6TuKI2grSnryjrUVaq7/NNkuLWmYd1xoxCNt0xUDLfymy+miXxrRtnn4o9Yg4+T2JuoaTTu6+pJln3yJgAe+SZlk2uclblEkO1NH2/yiLufHFURVYQR3iXc+OWXGV5rCclbeXCY5SOTPPLR820gw13gejSSePvK08iDJntJhczrw0halWlEYVL+aBEpH/8ylr1MiE8/CMUqE3LXEJbPqfHW7EbAI2/sNItr77KhLalHuNO/TIl63wDFXuBTD8TenRKqM+IzCGnbkbSbZai6tgc7XiyG/qUw1ortHL9/EVvPvxWb75lLffNO3L/LcJlJEYpO6Bg4QzEQ21E+0qFdOMu0ywdj2dn99mo+rUBQfF/pHvjNJvzgV+V4aMNNxhTawe1Y8/RhlM8bQv8ZUnO+uAyrvpLA4w/vwOHBfvR/ehZmffEmrP1eDU7/ehM2vlaMium90C9ZZu+peeXiB3C7UHAy6MbW9X/E9aq2d6YH2xr3Y8EGY2+PCr/SnRs+JoFhmKmJUKRH8RXhSYbnK90D7dj8g50oX/cIbvy8uN+Hx3+4E0VXzsLAJ0U4XUzKzrLPYc9PHsRL75xA/8dFmDXzctx430os6N2C9TEd5f9pCIewOL2n5pefo2e8Narx7KMnyHdqMpUa/Vfr8MKF92L51ea8lwIrNblhpYZhGGbqMWG/UzNGjPsXhXtf3YKtz+0ktUahL46tfbdimYdCwzAMwzAM4wUfaFmg8EwNwzDM1GOqH2jpqdSI6auJijjWfNasGZRp43dg12SAlRqGYZiph1Aqjh07Pm4HP4s+evbsGeOmVHkqNczkh5UahmEYZqrBp3QzDMMwDFMQ8ExNgcIzNQzDMGPLeC/9CMZ7+We8YaWmQGGlppAxP+vv89n1/Jna3/VgphqjXX/SjPcmXUHujbpnL/35M/ptDy8/MVMXef5IJPME5DFFNDBN8sur9s/8vHs+Rw8wU4fEtvEus+OPOAPL8xiEvBGdapP/sQh5ImZoxnuGRIQ/njNF4w0rNczURZ6APL6jFdFBxUvr0NzcnP6Zn04Xn1ZvzvsT/ExhY5yAPdWRJz7nddSGH+JYhOEc98JMVHj5qUAJtPwkZioizjNvrOPgxSxBxD4gLm3uRMwyxKEtBWL2+TSqW9O+vgxxGU7aToy0YvZhkurZKrn8JNzxVs9Q6Y4h0hdG+GhE+q/VNqBBnKnjesYwT7qmPl3nFDnOqiG7iI6qqg7EfOTiTBPZBjiXRTzTWeXjTpz701nl0Xi7po/d8sh2xk4AOTjzPi1DaX7UeYKxajb8MqPmvyBbPjhxy9zOb8Jhl4dM0vmWO8895VmZILNehFV37rwcVpguuZhyC3UJxbgeZbuMs3UMv9xuvfJDuImjLEP2bjNBtngZuMuNb/l3l1fVH1+5OBFhRVFv5LWs81Wo7oylzxZynavkKAuV1D70dZj1x1WXCGeZ8pO9lzwnxtd8Bdm/6JtH+5FVtm6ZENaz2fx0IPzI3fbkhVBqmMJj79695pUfyVRbS0uqLWneqiSiqcbGaKrLvE3ubkk1xqw7FeFHo8NOum1pIxt5Z9grfgmcbghHeLn87EpFGxtT0YS8IQz3LbtN36Rfyr3E/YyFMHeGqz7XFVPjYfjhb08+JJUwXTL0RbrLkg++clefSVLY5qVHOtIEkQNBnqW9a0u1WPGT12qajLCkf670jrTMZJOzja983H4afgSSiSONufLcR54ZciIccR1pmM7yItOaEQ+1TLj9SCOedchFxFOtmzY54uXKf0e5ceAuuyrZ5OLEEW8Ztuqn0x93WXC6d8Ynw61NMHkePnw0dfLkJ8P6Hf2nR1Irvndnqu6+l1Pvedjn8xPx8MedB1najxyyVREySZvn0yap5can7ckDXn6asmjQSnXEWx16tiTRmSANOWyPQsSpseK4/UyXAhot1qbHK9Kt3oFEWtmm0ZY6otHJfx2hpYrWXiFOtE2g017XzuJnN8WDtP6wPXrTUFMfBpRj/8WooF7V7jOe8UBPoEMPIaw8F7qN4u1It4bqSsVenALcp9vhapoSZkVVxijOE3GacXMYvda+mmHtE6C8tIPWKF5KPFSCyEFAnqW9C6HautFqEFbzScgMhn/5lRlTdiZaZTWN7HqRFDeB8sFEK4PWFffYX5JZxkIUN0cZsXDLxJ3GbHkeVJ5uRhKmH+JUaEc81DLhlLeKkD1a47ZsZT6SW+VRBf94ufNfpKm+Fujocsfav93JLZcsaNUI2VELoaoSSFLcvNsbv7rp4dYmmDxHwsyvrcTmR7+Lxeb92JGj/fCVbRoxwxKf06CUwRx++uHX9uQBKzVTGLkuXdVpblC1phGNNXu9NZLeuCrtktCztqoWJSjTdPTabjW6Ny8lSbJzmxm4K0qatJ96H3V9pUrBt7A6RYHL3vcZFXpep06yxLxNo6a7xNGwuREV2ymzoIipbGM/TR1iw9gcLKZwrXCbHNO3KoHkIBBLJbZ/xpKGhWjMRQcm0Ls6ANkB5ltmvPNfEigfTKjTa2iuB6JmutssB6KMkVRMc/kTU+FqGTGRMtHjiNjxNpYe0mXRP88Dy9PFSML0Q5vjlphYYkj732Qv9blwKA70t8upUDrxi5eR/yUkCzf6UbfE/dqdIHLJgm8+eLU3oj0xLx34t02B5emid+dqbPzNgHFzpgfb/ncMB88Ah3+xDmsa78aqe+/Gxh09GDJceDCIgz9/2HT7MF54a1Cadm/5Ibbu2IL1wrwxhu5T0niY5Gg/crad7Yh2VjsHkgHbpAyytD1BYaVmqiNnCqiRaShDXDYwVIBLqeGpNzrZ9M+9xm6hKjCCbA2DwK30pEk3iv5+aqXUeFMjl/G4Z0do4PuMihj1e3R6/g25E7kWTBW7wZZX5np7EMSMgnc8/DDWtaHkV0Otd4QDyUE0KlHYSpbI97DqnRjlylkTMaqFOXLPt8xkIe980FDTYIQn9lEZio0oY2K/iTs+mXkiZSL2CDjckQx9O/Y0geRpIjtsk5GEGQzRAUfQUdWQ9r/evzTaiqqYKakMOMPowMh/L+UjU9kyyWh3zpZc/NubTPzc5idPlbJFNwCvvwGp1ry9H51XLsD8c4C533gAGze0YPOjjag6sA890nUmQ7/9Gbacu8xwu64W+s/i6JU2f8Sh4huwlszXfK0bBw5Kw2EQvP3whmQT7UB1vTq7NUw/c7U9AWGlhjGgTsBqfmQjFw0+02CN3AV6WxwJx3SlG01ORSZ2KbMRVJhjNEKsUqbPff0UnSqN5uL2lLSoVHFzxsCHjGc8kFOdCcTt0T7FYRvJIJ9GXhnRyDib13IjXsBXx8Xsh/dMRTZUJZLS4DcqCiIHgRp+N7l3eCemn2lE3yaWntL5nG+Z8WUE+VAyxxKCKGNAPBpgxksqaVT+gixxuPGTp6xL6rKJK09GEqYkWCetDhLad2XJmYowwn2diFGdG+6yinhOV5ax5Oi91VJ6s6C0OyOXixde7Y27TFt4uFUILE+VmYtQO3MP9n8whANt3Vi8uFwaD/wuhs0/2oTNm55Aa5a32fo/0lF+WZlxUzwP5dP60S9v5mHhlUZ8tL/4EW6vlJdOZLsTpE4GbD880NuipOzVewxehuln1rYnGOeaf5kphzH6cCwtkGYtmzQxiqo3pgFtNL/d6zQiniOmkkkzl4ilFC93acSryg2gUXUTKSOGifEWh3mX3U/jrQM5tSnvCTG6yzqao2cawoiI6WPTxNhVb95IxIi/AeQITdQYG0YizcEaebmHhOJriUyrraNRRqdx40tmHvjL2Y8QwrVxmTZDmpRWGkXGPRvKAHIQHdwuJW/EXo1K9U0V8qU2LN9mK6HyYsczrzKTjTzyQY7slCZbujNCyyxjhCgnyhsxBh7lieLgfBvLDz95GnnQJJa/DFOE68NI2sVhZGGGadQbkX67640FyXBpZvj+xVF05knEO0l+jn05eeCR/6I9yUxPlnZnRHLxR5SFuqNNWcu0RYZbM075yVOlCFVXaVjf9iLKjtei7mJh1o0dzxXhlkfvwdwzvXjlQaWMuphePB29H4l5npnAmX7on9YgsshQbHIglnJzDgbyaT9cSMVVzFS662rN8PwM0PYEgV/pLlDG5ovCooFyvg45cs6GnwzDZEO8xiw2eo7eEtjUxPOVbrGXZtUG9Nf9FMuvLiKDAbz2WCN2nnclZvWfRtHQdNSuXYbztt+NJ//lNPo/GsKsC6fj2u+04JbLdLS2bMC+6SFMP6pjbv1K3HJ5Mbq3rEPv1x9A7UVGEG7EK93HX33c/3MRBQwrNQUKKzUMwwRCLFNEOlA9whkRZrJ8p6aw4T01DMMwUxLzDRW5lMgKDVMY8ExNgcIHWjIMw4wtk+NAy8KGlZoChZUahmGYsUUoFMeOHR/XAyWLis7F7Nkzxv1gzfGClZoChZUahmEYZqrBe2oYhmEYhikIeKamQOGZmuxMhGnikTDVp5gZhmG8YKWmQCl4pWaEr6FOhA19I2GqbwZkGIbxgpefmAmNPCQy44DHBGIj/K6GmKGZzLMcIu6TdZaJYRjmbMEzNQUKLz9lZ6J8JGskTOUPbDEMw3jBSk2BElSpkadL24eNGeeciLNCxGfTY33K2T3ynJ2kfQ6L87n0+Sx+/hmzKzqqqjoQs+xdZwN5+qlTuJ1V6TN75LKTch6Iep4PxTHSV4Xqzlj6bBnP835YqWEYhilEWKkpUAIpNfZR74biIZWKo2FbCUifB5NErCmOMmu5x/WcTVb/jOPok/LAP0ONkYoTTKUjm5+2UpM+0t44z8Q4HK+jyvRT+pFWvDLdp8lQak7p6O47DxVzZxrXbw1h3hVlKDatcyKe+f0fMWTeFpWFUFEqznk5e7BSwzAM44T31ExhEp0JaLVhW4mQJ013dZIqYBC6rQ4lrVFEIkIZSR8v737OIpd/YuYmrByYJ0571kx7Pz8ddJNbLYywraBoqKkPA/SsPXOjVSNkBxFCVSV1/n22rT8fd+CF9j/SxSC6/7+P4cCnZwVXaATi+fhh84ZhGIYZD1ipmbLo0Pvo/9YImsT5L/IXIwUjCd3WAcSx9MJlGPW2MmI8V1KaVk4MgvjnQtNQIu39/HSi9yUBcpPhSu8lX0y87ANzGnr8MbxUthK3VxoqzeC7O/H4+sew+eG7sXFHD4ZO7ceTDTEcPCOtMfjqJmz8zYBxU1qOqiur5c+YpenG1vu34KXn1mHND+7Gmue75UxO95YfYuuOLVjfeDdWNcbQfYoM+/bh2fWrsereu3H/k/ugS/+9n2cYhmG8YaVmykKdfympLfXNaG5Wf9bSDaG3I9pagnBVByLbrPkW47nM2Y8A/rkVHLpJklqjkXLj7acTrbSEOn9SgMx7G62MfBkF3ngam9+5HneFrQj3Yk+0Hzc0rcSq+5qx+FAMewYXIHz1q9j3e2E/gP2vDuHaqpnSNbp3YutzW+TvtfcNI/QeQvHSB7Dxx41YnNiPHmn4RxwqvgFrN7Rgzde6ceBgL175SQeq7nkEmx9twfKyF/HCb031xfN5hmEYxgtWaqYwoaoQElExm+KFjvaoOL23DjVL6hHuiyHWbdiI5/TWeMZz2f0T6OjoSqskCfJDr6ySS05+fjqoILd6HHEzHlYcQc8Of3ZGofLrWKzvwL4+837wEHre249YyyZs3vQE4h8MYXAAmL/k6+h5dT+GBt7AgZm1WGjqNKi4Abd/c5n8Xft502zuQlSRwiaUvusfWgZj5WweFl5pxFj7ix/h9sp+6EXlmGuud5VdRrIY6DduPJ93IvYmNdlKJ8MwzNSFlZqpTEUdmuuBmL1cRD/5TRhjA268tM7cYGvsXUlGI2gXOgk911ArNg9bz6XNvf2zCKEaUdtOvl1lvZnk56cD420qRNNuRBytjccjpmgerv/OQuz7my3GklDxLMy6aCGW3X0PVt1zD9Y+9CPc+AUyv3gRagf24IVX9qD4qmqMfDtwEYpO6Bgwl7QGPtKhXTjLuGEYhmECw28/FSgT7zs14k2kTlS5324aJzLefvogjvW//BzWLqvAYNcWPPzbBbiPrk+8+hg2/3II5V/ScPrILIRX34T55FzspflfsTKsfbwO888xn298EQMzjQ/6zf3Gg7jra3/E1vV/xPVrw46ZpO4t69D79QdQe5FpQIgw18d0lP+nIRzCYtz1PxdCO6fb83kLfvuJYRjGCSs1BQorNdkZ6Xdq9F+tw5PnrMBae//N2MNKDcMwjBNefmKYfPioHY/fezce770BK/98/BQahmEYJhOeqSlQ+JiE7PCBlgzDMIUHKzUFCis12RFKwbFjxyftoZBFRedi9uwZk/pQToZhmNGGlZoChZUahmEYZqrBe2oYhmEYhikIWKlhGIZhGKYgYKWGYRiGYZiCgJUahmEYhmEKAlZqGIZhGIYpCFipYRiGYRimIGClhmEYhmGYguBTe/fu5e/UMAzDMAwz6eGP7xUo/PE9hmEYZqrBy08MwzAMwxQErNQwDMMwDFMQsFLDMAzDMExBwEoNwzAMwzAFASs1DMMwDMMUBKzUMAzDMAxTELBSwzAMwzBMQcBKDcMwDMMwBQErNQzDMAzDFASeXxQ+deo0jh07jqGh/zBNJj9FRedi9uwZmDbtPNOksOEvCjMMwzBTDU+l5siRD3HBBecXlAIgFLWTJz/BxRd/1jQpbCa1UtMdQ1NnFZpvC5kGTAZ6OyKRXoSb6zCxpaSjPRJB79Jm1FWYRmebQi0/gdOVQKypE1WByobInyhQ34AazTRiRhW9LYIo6tGwJICAue0bMZ7LT2KGptBmNER6CmnmaVQQHWNTE5ocvxg1icx4IxrCpkg7dTk+6L3QK6smuEIjSKJXD6FqWAoNdc7ZZHCWEXkQ6zZvhknOfJxgJLZRG7BteC3AuKZVtmURtI84cKHkudpEUx5jnr4RpUkotk0jLr/DZSTlaKTwnpqpjhZGQ3Mzmq1fPca1MjAENWbRzmo0NNTAb2yn9yWhzSkx7yYwuo6kVobhxZSUodIOJMZJI0geHXnA2pIGNGfJx4lG6DZqA4Y5SzCuadVqqB0b+WxTYlsE8dK6dHsofqY8xjx9I0pTCHUU9zGbHXUxknI0UjyXn957rw8lJbPNu0nAGfqdY1w6rl0kk8dwySWl5l1hE2j5SYwE5Myzq6KKKdBdZelOVbiLxO0RSqheVBavZYW0WbgvgsjRsKNgC+29syrtXtzHuoxrqVxZ4dlTsELBiqOsQa3YYgRimYnr9MySVtvgOcUrRlhZ40LhRfqqUN0ZQ9xKZCU1bJ6VUswe6Kiq6kCs1XSsxl3GT53tEo2LuQwgwwkjfDQi0+0d38zlAIecZLxKMmSfdqMh3BBGb1RHeGkvIo6pbCN/OqqMcKVcrDT4ptdAuHVOoRvphCwLSpqFLCjcKKXTDkORvW+ey7jFodWXIS7KmmmXJPfxOR5ycpVJ7/Jjpsez/BrXjvgQatm2ywJhPeOQGaH6JezipfUo22U8K+2QPS5Z5e5wS/laW4L40bRfzrgo5Uzmjf/yk7M8UXns67DLmzufnWGIspV2l2Gu55HWnHUu33qUdKXZ9byjrPkjZKO2UQ7c5cqBMzy1brtl6iBrHrvy0SXPdBiutNptRJZ2RMlL8tioe0upvY3aKVDsjTSo5T4dtqvemvlUkrUcOevNqCOUGjeHDx9NnTz5yaj+/v2f/y61bPXLqfdU8z++lfrXo8r9cH6HXk49sC7t73svP5h64KX3M93RT6RrqrB3717zKgvJtlRLS1sqad6m6UpFG1tSbdJCXDemoglpYTzTGCVTutzdkmqMiSuTbHZEVyztj7RXwhZ2LbvNu0TUftZhLhB28rlkqq1FtVPj7CRXXKSfjmddaXZg2KlxEn6l/aeYKXFw2MlwXOlxo6Rd4PTbQsTBkLO8E25sWRrxk8+489eWnVv+Tv88ccUrLVOXPMw0WrJT5ewM05V/suyo6TAQz3jLS5Wzyy9HXI342XmplFF5q2aWjLtlZ/jpKAMOe0L6lS43Mn1qWIJscXHH24G3W9svV1zS+SHwz09nHhDSH2canHnp4U8286BpdYXr5T6/eqSmOVOu3vXIg4x4KTjSp+IOT8TFR6YOvGXknY9utxaZaTUQ5q6ymZHvTnmpactwT5mRvlbLvfmsqzxkLUeuejPajNnyU1HoJtz3nUUOTVn/7c+w5w/mzXA404uXnj6M678Xtv3VrluJ2oOP4aX3TQNmZHR3IkGjnLClVWs1CFcm0NlNl0vCCHWRvWmld9GIr5bMzHt/dCQ6Sadfmh45heg5dCbsUYiF2zxB1/I5PYEOPYSwPfqh61qgo8vtQ0C0aoTswhlCVSWQ7PPzSw3XiKNmy0GDlrZCqMolDZJlvfKsExr17KL0Wc/QyCzeRSMf98hQXdKx3NijUCPuaT96kTQuDL+lzBOItwLheuMZvS1OeRxgiYjkYUjEfL42ZDxLI0N7FFoh9vlYe2jIfZ+GMmklnilR4qlRHDXoR43YyT1C9FzaPheqnA2/PMlSfuWtmlky7v6Isqep5Zv8qneXOZKF7wjUHReKd029d7n3cqum0R0Xd130JrPeZUtzRnpN/MwdBElr1jo3gnqU0TbQ87fVBZAPUVGH5uYweq19NUH2hQy3LcqRxw4y3Jp4pDUTr3yncqrUA4EqY62ymtpYq+0gKDPsZ7UQql3Bheq9ZwUFgerNKBJMqenagid3xvF442p8//sPo7VPGA7i4M8fxprGu7Hq3ofxwluDZKaj9ZnteOX5dVjzg+9izXPd5AoY+M1jWLXmQaz/P6+aBXoAe35yNza+eAh7nhLP343HfzNA5oM4vPMxrH9sEzaSny8dHAI+iOPZTU9g/Q9WY+uOGNZ8/4d45Yj0BEMdL2L/f7kBVcXGvUExrrp5Ifb/cj/oaWaEiL0b0OOODcViCtNofERDZFUMUXGA6spslctCbB6lwh5N+9kkpi7VSmQhKhCsfRUUFnXgssOUnaCYdk37IaY37U4yX0qVSpsvVOFLKOakaxBiOlZJlz2da5I1HOemWqEkem4GFmk3/cl0oygSMl4m3XG5V0B2uKKBJHdxM55yeSiXMkFKj2UvFJlkbT1qNLOxVDscxx4akZ4So3OSjbK/4iT3CHl0lGJfSwmlNZPMvPcie/kVaYnY5tk3yQu5wjMuapnLts9JxsUr/z3KvZdbrdTy24iL3uqOu1UG/RD5YSmZFiWuewu/9PrLQSVQWr3sbUZQj0T98CxrueRjIZZQjP00cvkw1+bgYbZF2fPYSTZ5eqdVxSvfDVQl0rscmIilNzt9zqXZ7M8GqzejSeCZms5eDXc+9Aj+9n9X4JVfdGDotz/DlnOXYeOGFmxeVwv9Z3H0Coe91MMtfgAbfxzBLR/HsIcSNPNrK7H50e9isfRJMBOLv9eCNTfPw+K/pucfbcFdX5sJHGnHlv4bsHblPVizbjEOPd9O6g/wx+kLcM+3Q9h3YgE2/nU59A8NX3q6D2HBFWXGjcrF5aj4fTd6zFsmP4yRuzGKkpVMrNFam+bMnzUyFx2a0MTliIHUj/TIy41RuA1EQyrWbJ1+NnvuAdAoDFOrFx2j1YGLTpZGLo5NzuLnud7tRo3LcHA1jqIjpzRp1Mlbe1bs+NQHiY+J9MeJVycpRz6KucONUF4sRULKWcRVzNIk5cyKjZqnQWQmFCTZIRkzLumRobNBS7SScmo1vm5FxtEoqwqRcZ3Z8Akl1qvBNPYQiP08VhoaajMcSbKVX7nOLzZk2+b+o02RTq1U7QTSBN2wLeNCz2f44NEp+bqVGHER+xKc6UrvgfBGlAddDihy45defzmo5JPWTEZYj0TboCpPNla9CI6chfX0S2GYbVH2PHaSTZ4545cl33MppxKh0ERhK3qinIUDy3Hk9SZfAis1ZXM/h2KxAffz5agi6bzzkY7yy0yFongeyqf1o1/ezMPci8XfIsydX+Rs/HMweKgHh9+IYfOmTdj8BDWOQ4PSz3nz50FMxpRps6Q7mz9NR/E089rBLGgXmpdMXhgbutJLE3J6uivm/zaUtO9Eu1h6og7KKuuyEqrTvbKzNa/JlVBU4tFgr0eKqVAxbd1OP3tWQM7gxBFty+1D9rgMB90xdSo7cmW2JN1QCGXCf+zvidLoi3jrlGZnVKlh69McM2LpJZx2RMSI1vbDaFDQJWZpwukOTzSEXlPx4nnf2QpjRG/M0qgzKunGUpQduXHTbKzE6FKzyoQrTL0tSrlnTaf7jCSlUuSnKKvuhaLlk6G5yq+iaEll3ry2UBtjUfZ0ymvbDckrSnUl2OwkIeKiU17YcaHyEY076o2Nl1ulLMnBRDTbzJIXot5pSOxS6l2WupCRXhM/cwf5pNWHYdcjuTxCZUJpGxLbSFZWHZXlPNir0nImVKmTnuTRFjnIkccOMtyaeKQ1E698pzphzXoHQZVBnu3niOtNnpxr/g3Ouwl0zw3hluLp+MePxDzKTOBMP/RPaxDykbM1kkEcpAwou9K89WHoT+YFUTyLlJFrbsaqv5prmhAfUEXw4bzzT0AXWs9Fxn0aig8pNkHza0pDFSXSpMrY2L2e7rSMezm1apqISpLeGS/Wj8kPsV+iWSmkcs22ST4noZFMXW0SncadfD2yAaRAqWGLEbXX6Ebsgyglv8QbNXamaqihOIBGdE1UQSw8d9XniEv+iEYsiqYms2aLUVqDEe+apSEa1ViyIjnV00gvaEByNqRTjrqkJEW8O5vSMpLhaKQAlMBaepd7KUgRkUkT9jSijfapHYdu7H8x4yeRa9pC9laOGvmpUcOD2gYl790I5UGUB8t3ygMlveKNiLrKKCl4hr1cOrIj6gpTpsVUnMUMFSkvztGf0cCHltYpabEwy1ykiboS476O0h33nH3LUn5V2QnT2jqKg11CZdriUaN8GeWKyme9MQ1vIcyzz46oeMRFlHnP/RDktiEs02i4dZUlj7g4ZOqDqHd1R5UyReHXVYq3VjygMBo8ykmNn7l5Z5BPWt04y5X0P596JJ53tw1KHfWHypzrrbcgMvUMj8j9hk+OPHbgdkuuzTeQahrq0EtKmh22bEedalhme2vkWS6JSCpo8LFLeTZbmfFixPUmP4K90t21BXf8Hx0LryyGfnAWbvzfdag4X0drywbsmx7CdGq85tavxC2Xn0Dr+tXYQw3YvFM96L9iJVZdp+Hg9rvx5L+cRv9HQ5h14XRc+50Wckv+ftCOjetaMfPqMkyfW4/bF53Ga08+ih1Dl6PiotPo/bMw1iw6hK1vVOP2i3di/ZEbsJb+bsUy3F5Jz78Vw5oDC7CxrlxG08bHnF/pZkaOWPoI+rXWfBGN6jh93VXO8oigczXgY4OcMXS9hs8wDJOLwEqNVChyLqSRorN+J8rWLhujWZIBvLYpgv5vPoDrLV3ljI5XHt4O7QcrcJVjAzErNcxocDaVGqMzD/xJ9QLF3usyQRQshmEmD5P8i8Izce2KW6HH0lNh+u4t0G/+VoZCwzCTATlNPIUVGsGYf7mVYZiCgQ+0LFB4poZhGIaZangqNUIBOHbseEEdAFlUdC5mz55RcAd1+sFKDcMwDDPV8FRqmMkPKzUMwzDMVIOVmgKFlRqm0CmEGeWpNoPMMGcbVmoKlPFRatJfej1rJ7C6kCfPQnyXYbjvIp3dt5nyIuspwIXJSN50KoS9f1Ntrx/DnG0m+dtPzHiQ2Ob1NU7xjZWxVWjkF2xHpNAwY4VQPjMOByQlbiSvbosZmsk+wyHiX0h7FxlmvGGlhskT8Zl+89KB+LLl2Ck0AvnqLys0k4LQbR5n4YgvjfKr2wzDjCK8/FSgBF1+ktP/9rk5xqfNja4n85Ph4nh5OM6bsT6P3o6IOGXbNPX+tLhY5omjTLi3LRSzHH7IZaYu88aMZ4nrQ3XOtBif4s6tZDmXn9x+WJ8iFwg7cYaSKgPbXh765pyJsOyy+enAtfzkTHP29DjcWrITXwkmmZbYz5l5WmrNbhnLhXas5efVM81zycAdr5HmVVY5K2R8JHSSMpU+CsowZx2h1DCFx969e82rLCSiqcbGaKrLvE3ubkk1xow7cd2yOymvnXSloo0tqTaHVTKVtO+TqbaWRs9nu2IucxF+Sxs9IfD3Q8bLdpfGEUdXWlLJtlRLRjy9EOlRn6N4mJduP2Q8AoUR3E8HIg2m/AXJtEAy06fglo9DzjI84znpzvbfL5/c5s78ziUDd1wshHnQvMoVhsXhw0dTJ09+4vgd/dc3Uu8ds67/OfXmHz7OcJPt9++H3ki9vu+fzV/ar7P5E+lgGGZ04OWnKUyiM0Ej4PSJy/JwRPMkZXlCdK6TeG005Uh/40RYL8Qx/uK0bWt8LsIPLbVmY/z80Mmdrrjzxp0W4wBFOE7TDgRFIh0NcQKueW2hnMZt2LuP9BezIWL2Sdl4nMtPH7S0QCBP6TUvnWTKxyFnKYckYpEIouLQUWsJSE+gQw8h7J4xyjAXh0c65eiWc7jSOrV8FPMqp5y9+WP7dnR+TBd9cTz5/9Uxc3aRYRGQ/t9txyvvmTcMw0w6WKmZshh7Y/TWiDw91fiJ6f6kODTZ2O/QXIVO0y7mPvLegViusPxociwrOBCdEzqQkNYJdDqOvvfzI0mdmYaybL2kmZaS0kxH+lFx5nUeiCUgOx7O5TeBNsd5+q0bvS2Kjqp654GUOfz0QyzDpJ9TlokcCPmQ9MSJxpZbsYyn98rTvgVSWaVMLalXFC2y17UyZKRGmHvkRTY5lszRTPvRy6tccs7K8W5sfaIXN34vDO0cuj8zgAPPrcPGlk24/4En8NoHZHZkJ9Y80o4B+QBw8PnV2PaWcV12WTWqrhS/CmjTyOCDONY/RsrOT1ZjzQ/uxma5S57CuH8LXiJ/hdma57sxRKaDb23HxsbVWHXv3dj48x4MkpkeX4fHf74TjwvzH2zCHhE+wzBnBVZqpiwatFJjL0Nzs/pT97yI/RCGWdkuP8XG2H8h3nqy/Gio9evVxAyMOSLv7kTCHo1n86OEOslco3QjLcm+TEd5dY5yXwzMNItfA3Ke4aqityPaWY16dfZjmH7KPSfizSD7Ob9XzoV8xN4my12m+8S2GJJi9iaqvLVGCo2mKD42wlzsyXH4RT9lk69bwUke1U05j2Fe+fJH7CAFRPtfy1Bhnv821BHFnrkNWHP3PXjoWxp2vEIF+eJFuB57sF8oGGd6sP+Naiy4zHDfHd+Crc+J3z70GkbAu4OY++1HsPHRZZj1mw5SzYjeQyhe+gA2/rgRixP70XNqP7Y8dx5uf+gRbH60GbXJp9H6vnwaPR/Pw50byPxbs7DnjawCYhhmBLBSM4UJVYVohO83A6BidERp3B2XOjpPIO43U0NoldVyaaRdLD1R+Gn8/BCKkIbErnajI/FB+OVYLhMKRitQXWl4KjavRtoCdCbq7EV3PPCsipBJe7QD1fUeSy/D9bM0vWylt/ktBRqKYjzqIx9SqmJ9YVK0alBXX5J2J5d0SM5umcjZtDii2WRlLlFKSM7xLs2U8+jk1cj4HBb/xeewb1e3nCUR9B5K4FD8aWzetAmbt5NC88kJspuJhddp2PMvpLa8TQrJ4hrMF7M6REV4GW7/pvgtRJlhBFy5wFCSzqnGHWvDRr7MXYgqWS80XP8QKVEf90OfX44y6U8x5s6fjv5+cQ0s+EoFmRBX3Im1nlqtMTuWfUaUYZhcnPMgYV4zBcQf/vAHXHLJJeadD9qXcd3Fb+KxyPPYvXu38XvzHFxxzTwMtkWw4Zlf2OZvltSh4c+N0ficT7+JX+wQdm/inCtuxDWfeR2xmOX2TwhT5/nOictwzRemG+GoTJ+HGe8+jR2io/3GPBguhJ/+fkz/wjWYQ888/bwZx919mHPdlzH90Ot4E1cY4bjT8vo7+EJ9EygIQkf3r9/GnNrrMC8jSjreNP0r0ebgnNdJCfiFGU4qjLqSdzB46TXyuUE1PMkgDr3+Oo5fdh3mdD2NWJeOd1634kgy+zS5vfqyrH460N/E7r45uO7LJZTmGeh7PobnTb/evvRmLDreh+nXUDxN5xZCPlecfBERJb92J8mfc1rRFE0i/D//B0IiLJKRlGOXCGMe5l0zB+8887QdhnxGml+BUzsieNqKM/36Lr4OX6a+WMjg7UvL8bH1nEPORlxGllfZ5SziYDEwcALTp19g3hnonXswVPO/sLDnUTzz4Vew+NLp+NSRA/hDRQPu/n8vxsJFNaj9L5+D2GlzTuks9P2ffej6pBuXffUmlM+gkN7Zg4MzalClCnnwHezp+TMsdmyG0tG55zjKF19mlmHiTB8OtP87QovmQaxaHfnnPThVUYOypIefCidOnMLMmYNUDt8kpceZRoZh8oNf6S5Q+JgEBfFqcxSo52+ijBixLKa+mj2eeL3S3b1lHXq//gBqZ+to3fwMsOw+1M7owQs/fgLdn63GvPN1DH3xO7hj0Uzp/uDz/xPr36vD366ugTAR+1/WvNSPWUIrwTzceN9KLP5THOt/+TmsXaa+T9+Nrev/iOutWRsT/debsPG1YlRM74V+yTLc9VflOEF+vnLxA7i90nTkgl/pZpjRg5WaAoWVGuZsMNGVmvwYROczD6LzmmZSOPJ7S2o0YaWGYUYP3lPDMMzU463tWHVvE1rLvotbxlGhYRhmdOGZmgKFZ2qYQocPtGQYxg0rNQUKKzVMoSMUgmPHjk/qAyGLis7F7NkzJv3BnAwzUWClpkBhpYZhGIaZavCeGoZhGIZhCgJWahiGYRiGKQhYqWEYhmEYpiBgpYZhGIZhmIKAlRqGYRiGYQoCVmoYhmEYhikIWKlhGIZhGKYg+NTevXv5OzUMwzAMw0x6+ON7BQp/fI9hGIaZavDyE8MwDMMwBQErNQzDMAzDFASs1DAMwzAMUxCwUsMwDMMwTEHASg3DMAzDMAUBKzUMwzAMwxQErNQwDMMwDFMQsFLDMAzDMExBwEoNwzAMwzAFgecXhU+ePI3+/uMYGvoP04SZSFxySal55c9E+6LwqVOncezY+JapoqJzMXv2DEybdp5pwjAMwxQSnkrNkSMfYvr0C3DeeeeaJsxEIkinfPaUGh3tkShQ34AazTQKgChTF1xw/rgqFEKxOnnyE1x88WdNk7OD3hZBpLMaDQ01yENEo0wCsaZOVDXXIWSa+DO8PJ0y6O0wxDNO+dkdQ1NnFZpvy52TE55CSksGE6geCTlTVOoC1f/CwnP5SYymWaGZCohK2ISmJuW3LWHYUMfcFGknF6ODKFPjPUMiwh+1mSLR0ZmyckCNyfgrNCNBKENNiHWbt3ky2uUmL0SeNEXQPi6BM+PP2LVnEwOqq15pMpXwwArNeNUbvzZ0hPCemilMYlsE8dI6NDc3p3/mCEpb0oDmSdsxjwF6r3cDWUHynNRyC1Fj2Iy6CvM2T8a13Gg1aGjm2aapypRrz3QdSfPSgawHeczQjFe98WtDR4jn8tN77/WhpGS2eTcFOEO/c4zLycBoLT8ltjWhs8qnA/OdJnZNsQptOxJPF04t7DlLMVHKVDJ5LHNPkisNofq0TISMYl3GtUCrbUA9ooi0KtWxkhpSkpPbreqPEzEbEqP/DYSfDUsMiYkRZbw0DES97d3IpS47LkIhsRqz7MtPjrhWhhHu6zDzNHMK3ZmudBjOsDWEG+gZ3VVu3OXDlJVEzGr1VaG6M4a45UC1z1a25LMU76MRGTdDRklXmp1y9iubmTifC9WGkexUl5+88g8ktwh6l6p5LmRpmIX7SFZHw4765K5/vnlp10VQuHGUCTnbiRBxSZs58so3vUa8bJkTsqxqQt69CKtlxrMdSKfLK611FS65e6bF9C9n+XDnsX/uueXpwDMdAhHvOLSlJNuonaNGWXbIOEg5En5lqztuf5345p1bRkKe9Wp8CdM9HGWIjHPIzECkz6o3ueRh5HNG2REy921HTT/ryxCX9iH8v2qTeHlEbWgWhFLj5vDho6mTJz8Z5u9Y6u3u91P/7mn3Seq3f9+Y+sUfvO2s33utLal7vrciteLultTuo95uvH9dqefEc9+uSz21XzX3j9N7Lz2YeuDl9zPM0z8/P0f6eyP11LcbUz/56U9T//B/j3nY+/+CsHfvXvMqC4loqrGxJdWWNO9VhF2sy7xRSabaWtRnkqmkct3W0phq2Z3pYdAy9eZWkvXyZam6v3/D036kPxEPJ12paGNjKpowb5NtqZbGKJkSvjIgZ7tbMuySaUGYsjX9ceCWkQg/LU/pr/qcjE+WPFLcOuMk/PUK33TX0kYxMXGUA2f+Zri18EufQ2Yu2brT7ghXkOnet2zJZ91lTU1zZlnsijX65mcan+dsGbjt0/mXUSaUspRhRwh/7bS65Olwr8hUPONIs7Az4+bOqwy3JsKdl7mj7FsoYatkSyvdKPlmys8jLYbscpUP7zR4It1nqSse6bDCVO2ccsynHAm3WeqOjJ9Lvib+eef004HwT/VfQIK377O1HQ4y642fPMS1d3648tJVHqSfrrRLf11yDNaGZucsLD8dQutzHeg37/KnG6/88nNY/mgLNm9YgWtnmsaBKMct9Nyam+eZ9xY+cXp/B548fD3uui6bJuvn5yhQuhA3fnMZrv9SsWkwxoilkuYweq116GGtb2rQbPFpCFXlGhVkZ/6tlO+Nt2KueX/W6e5EgkY5YWs0oNUgXJlAp9hTopVB64oHXmvW0oIg2VYZI1M3egIdeghhe/RE17VAR5c6alGe1UKo1nT0esQh0ZmgkVjYdqstoesuSo95741Oz9FYaaky0vSLq5dbE3fYnrhlS77U1IcBetZOjlaNkO15CFWVQLLPss1Rtsjver9RaIacyffbaCSaSz5ez1UpqcySf275610dQC4ZmQTNSzFrpMpPPGfkT2Zeud1aaKUl0FvjOcpJdrKnVc03l/xUApWPLHnsZgTtmRpHrbIamt5rLO0Mtxx55IeIX53VtjjIlncky1Id8daAaSHB2+HJtsO8zhM/efiWnWztqEmoXpkB9CFQG5qDYLuBz+h47f95Ajv+rR9DRdTJ/2+hbAzi8M6nsaVnCOe9P4SKv74HN/7pRax6uh39Hw2h896d9OBCUk5uxfyP9uPZn2xHz3FgaHA6rv+68HMAB2IRtH4wHSf6i3HD98nPzwxicKgfJ84hd8fpGkUonlGEw79Yhydfo7CHKNFfXYFVN5WjqGsL1h+5AWvDJAT12s1b273jhCEc+OV+LLjxJqgqhf7qE3j8xR4MFhVh/l80YfnXvLWqjDj9t348s6YH4c11mE/xH/jNw3gSK7BmETLTeZHpyYRATA03yysx9dcUCTpFb+GeaiZ5UCMfhEHKm8ef3kcVtwhFX/0ONlK+ejH4L89g/YsJKeviS2/FXcsX4PBTDehZ8ne47XJyMNCOjU8By1dfjX53mZxfZHjig95HVZUarkhT3DQx0OZQs1oh1ppDkJsP6TbXVK5z+UBAnbR5ZSPXkYXMmkwDk0rZZMhLbU6J/JsdneJO/3dF0NRqGkk0lIko+EYzSQoSuXHYl7juLbzcCoywS3IosFK2pVWZUbEaSHFdqjTCGeQoW9meFXImpTRTkkmxFcFfPl7PCeXWvMyef0Ipi8mGPFQhOiqgut4/dWly5KWK6KgQRUKvQY1GnUYXhXmbsBB5RRKLUlmVDi1CaVlbyM7fSEOMboc1xZ81rZlLFEJRdzPy8uHFcNozrzJuMtxyJPPD21+ptFeoFtnzLnRbM5rF8hnVBSN9WZQD4U5dlqIIknqUJ1nk4VN2srej8srfT4VAbWgOgik1xzoQPxHG2o0LUWztPTnSji39pEispI5ocB8e/3E7Bn54KzY/GsLW9X/E9WvDZn4P4rX/04r5Kx/BHaQfdG9Zh14yHeqIYs/cBqz5Jhm+ux1rXunG3Ev3o/UdHYc/OoHWF/upqytH7TcXYu43HsDGbwi/dLxy/070UOcXuA5e7hUnQQ+6Dy9A7cXmreDITmx+tRz3bVyBmTn22GTGaRnCV2/H/rdJqbl8AB2vF2Hx8pmUzicy0nntN/NuQcYEMTrQIkqDkhOj0wEV7GYzSaJQRo3L7Jzajy1PDOLGzS2oyCHr4qvvxMarjevOZ9ah84OFqF2yCC8c6CGlphwDna+haNFKzKQy+VhGmQwj22SfGHmIPSWZa+0WNHpsaEYNXYlGMtLmrdjIyijeemq2GlAhG2rp3YgOkn4jfz1YjOAozxz7GoIgFBhz5idnBPzcGmF3ZDTOTqRsaQSa+bhXJ+FmBGVLIOSsdo42JY5ZhAx8nzPJkX9ihBujETZ5gg5SP/x1GkORMciRl2obT25D1MpHu3TUlNLomJSFOmku8oo6jsCvE1udv1BARAdFYXs8JzsrH7zTaig0HVUNaLbqidzPYlyqjKx85Cb/9syD4ZYjmR/e9ayEFDUnAfJOKhP0V+xbEfXCS7GRCo1466nZtBN5EbjG5IFH2cnajjoKsC+B29AcBFt+umgRllV04OE1P8Tmn3dAP0N9xqEeHH4jhs2bNmHzE3HoQ4M+S06H0DNQhQpXz9J7KIFD8aeN57eTuv/JCcxatAy3f/MGVJjLMreTQlNGbgd+R+H8iNxtegKtdkMwCkwrJsVJ4UMdxVdW51RoBF5xmr+kBt2vUVqOvIrWmYtx1QzvdA4aziccYgrZe1SSDVUDTyDu0LKz8HE/9CsX5FRoBIPvxvHsIw9LGb5glfHLa7D49/vQfaYX++IzsfgrxXmUSQUxxdkVC/QKc8kcV4tDnbojtcqoUm/zmd6XI+04om0B5ZQF0akklA3FwTCWcRK7lFdBu+POUbWNh1sTEXbOJQwhW538tmVLjWCURnL0rF/b7WSYZUsgp97pGUXOiW0kK2tpz+wcMuLv9Ryl077LlX+yPHWiXSzHKOmUHbi6ZOGSeT55KZYDxNJEO/3Ec6YpXQPxaL6vLRsKlXGpUd1XlwxyyNwnrYJ0x015vssnVcMpHzLfgr1+PLz2zEWucuSLVz2jdkbMrGUornnkncwjBVPhslHT6ypjxqAsgOACo5SdPNpRB8NpQ3MQ8GM0xZgbXoGHwtRJ71yHJ9u/gLVls6BdczNW/ZXH7gexTmAzC7NO9aKXFCGx7nv4MKQiMWtWCcpvWIG7rs21n6QbO54rwi2P3oO51IG98qBzekugv38o99tLjjgJilB0QscAXdkVaFoR9IOHMBjWHEtSmfjE6eJqLDz4Il4o1lGx5IE802nStx8vHfwcrl9U5lS4Rh2hZbumiLV8l57EfoI4IqStGxIgDb4+hHgQxfP86Zj+bz1ULipQljXvBrAv2o2KH9wHIcLOp9aZlaAMVdf2YMeLxdC/FMbaaWQ0K0uZ9MWYzhXTqempX+VNnow3DAzpyD0FrTFjulXu3Kd76iStVQmttg5hzWuUIWZ+GkBCcyw1DGsJQIze6kWYyqR1gDwUr7fWHaUGzpoqpvjXVSodt0KGW1NeIQq7oZZGVnbYpszMOwMP2QpZBdojMYKyJfGQs5SN2RWJZQXPjkk8V4de6jit5+RegF2WdHLlnxnv1hJKu5JOklddJY1q7QISRl1tEnYJyScvxX6FUvKrj+yVMiPyqgEiT6y8ItS3iUwypviFGzPuQsZN9jII5Wm98eaXN15pJfkszfTDsyqI8IZdPtyMRnvmRY5ylIXM/DDqiNeT/nlXkpEuUdakHxVhamMiRpmScaL7XYof9Hy6XouZQQ3VtSOTRtay49eO+gQ5/DY0O8Fe6X5rO+7/5QDKL6JEvX8aC7+zAtfO1vHak49ix9DlqLjoNHr/LIw1ck/EECmkTdjaeznKz9Gw+O6bMLOdRtmvzaQkzkL55/tRfP0K1Bb34IUfP4Huz1Zj3vk6hr74HdyxSEzndLuWigbw2mON2HnelZjVfxpFQ9NRu3YZKgb24fEf7kRRxXQMfoZ8nnMT7vhKAo8/vAOHB/vR/2lSpr54E9Z+rwYzPeI0n3w+GFuN/Vc9YuzLkAySuwfx7DvzUPXZAZy4YgWWf+kNDz+vRLdXnMiHgd9swg9+VY6HNtwkZ5kwGDSdBkNdW/D9R4C7thr+eTG+XxQeHl6vdOu/3oSNv6a6SZnxx8+SXG8qwZ6fPIiX3jmB/o+LMGvm5bjxvpX4XNtqPPPu5Zg7JPZ0kftv3YNasS9poB2bf7AT5esewY2fp3ux98uzTKbxfKWbmXKIUavv678MU2iIGS75tvlIlbyJz9T+Tg0pRpv/th+333cDtADLIKOLt1Ij9vWsj87CynsW+u4FKRSlZjxgpYZhGKZwmdpfFJ65EMtv1rF1tzpnOYb07cNLz23BK783d9m8vw9bD8zCnSv8FRqGYRiGYbzhAy0nIZNxpmYqHWjJMAzDjA+eSs3Jk6fR338co3b4HzOqBFk+mWhKjVAojh0b3zJVVHQuZs+eMa6KFcMwDHP28FRqmMnPRFNqGIZhGOZsw6d0MwzDMAxTEPi+/TRREUsIn/nMBZgxI+B3X6YoZ2umhpeRJiecbwwzsRnvOloo9dNTqRHCnaicPv0fOHHiJG/2zEEgpUZ+vtzrOH5/eMNvFoYhz6yMon+TP9/Ex9XkhzYCHgOQjdH0azgYn3+vEh8xNE2YSYI8isD4IOfwzszyZ7zr6IRtV/Nk0i0/iTeyeAPz+CFkP96avAify0B+cL4VOEGOD8jjiAHGQB6KaZ/2TcpoNIlwQzOam4VCI5TT0ZPneNfRQqmfvKeGYRhmkiPOpyrJNfOkiVPnx2t2anIiT8h2zJSqB1mKowFYnhONibv8dIZ+Pl/55a/C5mY4y09iVBLrkpcSr+nVif5lYGcajPNIROqc5uqZJGIpIg5tKWgUZo3Isp9Z4vBLPV/Gc7nIOJOm13ECs2pmnEadPmEqHecM/8RIm+JqDwzleSmmHbmN9IURPhqRcdNqnaeJT9R8k2fJHHWe7utlZsjMuWTkn6eZONxWkpz6OhS/nHlgyS5r3Gp1yotehNUlJFd+Oc/JUfLVXn4KQ89aNrKUNRVZLtS4GH64zwsyypr3speIa7w0DCiHarrLUGB5CzlknJlmxDtQegSusq62Rc54pOPplQZnG+adzxZOf438KiE/o6hHQ2nc8xy4eFMcZbYcXHXZqp/ueuuT7olQR3P3rZTGiI6qqg7ErLLtTs8I2qlRQSg1bk6e/CTgryv13PdWpFZ8uy711H4v+9y/t1t/mnrqp82plfe9nHrPMv/Dy6kH1tH9x0631u/w4aNmTBk/9u7da15lIRFNNca6zJtUKplMmleEsGuMptK2BkL2XnmS8fvjP6X+hsrGnd9sTP3iDx72I/x5lYHk7pZUY0tbSkmFJMPckbZkqq2l0SkHH38EbruuWGOqZbd555KnhXxGNU+2pVqU8FWxC/9stw7/ulLRxsZUNGHemvF2hE329r2LwPnm9RvFvMzMN5EutZwZ6Uqn00KYt6TazORlz1Mn3m4tv1xylPEx7Rz5JFDilmFHqPnlio+zDKTTnK1suOPtKGsKbj/EvXc5cMs6jfRDtZPxGI68c4QRID2GH0oZUGWtythF9jRkyWciI30mwtz5jJo21Q+3/ypqHfd3N5I6+uZW6oeXL0vV/f0bnvZBf17tqhMjb9T4O9os03647dRoMMLlp3Lc8mgL1tw8z7zPn7JFy3D7N29wHt54URh31fTg8Zd7TQNmLNDS86qQR8mbl8PiwhrcRWVj+Zh9KkdHolNHaKl7BORhLk9MTqBTOSY/VJVOrVZZDc19pL8k069QLY0MOxPpUYkH8jTark57BKd3dQD0nBGipkxnO+PhoJuepxFR2K4oGmrqXWGTff1oj3oEZzUvQ6iivIi3manQE+jQyczRILgJlqcGXm6Vsm2GF7blJk6eBjq6KD7iNGzVT+EWah74k6B80ew8ziwDFv5lI7+yps0pMa/ourQEems8I6ycqKeWayFUazp6ZWD5yLsEZZqSnzZ5pMdd1tV80MqgdcV997GoMjee0428zJbPXunLlwz/VdQ6rlEdH3Yovsy/tQWbG2/FXPP+7OJMp8hHzSrD49lOmWSeg3Dqn/Fkw+8R3lyH+eeIU6cfxpNYgTVXvoVnH96O7qEhoJiUme+vwLXipGQPBt/ajsd/th86udWuWYG7/qocJ+LrsO3fFwC/bcfhUyW4sfEeLPZ5XlB89c1YeP+LOPDfVuCqaaYhc1ZxTpcLqHMxr7IiTsf+6WN44Z0TKCoqx/X3rMDiC007B4fx0vq/w77jQxiixm/xX9+DG6fHsea5Yty3WpymrpycftF+bP1JK/QZJ9A/7QbctXxhjgYnSQ2wRg2qeWvjZ042fZRWWfm87TMRflGHFVWP1xeEpALk74XouGOyUQ5ViAYUqK63XGcuFYjOxY3eRyGUVmWGYSpf0ryUGk/xNwhHdnrK/ab+Z7D+xQRkNb/01ixyH8TBnz+GZ36bJLcluPY7K3HL5cXQ86znAtEoxqPU6C2pAWSnXk8Sy0auPFUtvNyKjte8JPlRjiDW5MxRVBpSFUpmjBpkVJCaIeJWVR9AxjrlF/3fFUFTq2kkoXiIfHZ44Fc2EoHLWvIoOZxj3ghI4WhuNtIUo9ugb+moipGTfORNnVhDM0LUljQ1kR11YMbSRPC6I8s6KQmRprhpYqDNEWGJfUEhqjPkj/A+x/JFyRwN+lHyrzRbPsM3fYER5YgULm8JupalCI0UquwM4cBTDehZ8ne47XK6HWjHxqeA5au/gD3uNnR+kfGIG9Eu/z9PYMe/9WNI9NkrqM8u7cbW+/dj1uWHsO+NfuDq7+Ch/1EBHx+CQRpbCan7OuXHqLdTwyBTqZn2XxG+ehv2v01KzeUD6Hi9CIuXU7M3YwHu2ECNleB31PC9oePasEfUTu3HlufOw+0PPYKycwZx4MkH0fr+I7iWrHo+noe/2fAIis3nF3s9b1OG8lAC+94FrvqSacScNaRC01lNDYY1WhEVkVrYAPT+06PYc3kTNotykpW5uHHtI7hRXPbtxP2/6sGNyxbhejyBjoEaLP5MD/ZTHBbUiQq9B3NX3ofbycvDP1+NV36/ELdnLQeiozJHlo5i5WdONlS5KOXGTSCEX9T4DeNVYLtzpLh0oBqGTmMoNB1VDWi2Gma5L8O4VBGjb9BoMiMZvg1pDi72kjspMrgTG682nHQ+sw6dHyxErYdSMvTbn2HLucuwcUMZ6Tf78eSP4ujdcJNsHPOr54SYFUAUCRrpwqHw+ZErT1X83UrEyJ9+9X57O8SsTlSMQkug54ibbNAl1GiXUp479sr44102hl/WDMSekGb6K8qYUG6CxcWbfORtoC0RZZouRHmOtJNiEwqcHlnWK917qlQMxYlUYLkPJtKWVmykAqNEUih8UlnLms969jISBOG/2nHbGAoNSLFsNuUv2tqocZmFIly1ZBFeONBDSk05BjpfQ9GilTQAKc5sQ+d7Z2zvPz2GjisasfHOYuD9HVjzD/tx1fLpZHEIxd97ABu/qeOV+3eih0Z2+RWNpFRg7ITSTZLKiJiAGvV2ahh4Lj/NpxFT92s0dDjyKlpnLsZVM8hw8DBan3kYGzdtwubtbxgOvfi4H/r8clJoxE0x5s6fjn5SCAULvlJBJsQVd2JtroaOmPlZEoPYMMyMDYoGrbcFn77u16fjqqpcCg1xZgCdsU1YL8rQ09QJSsOZWHjdTOz5Fx1DHXF0L67BfLI59Pt30fo0uSO34o3KoePmSea+GNO6iV3tskKl8TCnhjbWlWuJwwvhFxCPusMIgOgcuzrRLkf7IUeFT3cM1AHt8pG6eF6PI25P95PbKI1kXX4Fx0vuVM3fjePZRx6Wcn8hi07b/5GO8stIoREUz0P5tH6Y1Tzvei7kWrOUxnqtcdmph3I+kk+eerklOVo3UqGKI5qxXGIhZlIS6GwTS09K3OToVF1+SSCuzHIKRSWhbFjNimfZCF7W7NkITwwFa2SMoA6Jzt64CJweQx7kvy1bf0TaHahLfHo74l0aqivJTdZ89khfvsjlOq9lN4E6C+QsJ1m5nAYcv9+H7jO92BeficVfoVrl2YZ6068XofxS8yO1ny9HhW7W0bkLUSXLhIbrH1rmqdAIxSv9Krsbc0nPRLx5p1tLl6PeTuWP9zHcF1dj4cEX8UKxjoolD8jR18BrP0N36F6suZaE9MYTWP+B4TSD86djOo1YBkhUopsboLRrlXRxRNrmxcCHwCyepRkT5No+jSis2Vmttg5hLdhMzXnnJ9HzziCN6M0K5MdbL2Lr+bdi8z1z5fLH/bsM46LQAmjN7djxefLjf4iOcgCzLrocN6xYCVHcgiJGh3VHaeRmT1ubb5yQeQMiirnx5kb2JQ5vRBhOvwh1d78vYg0/jkhrCcXJqt6iMw+hyZ6Sp3jVh+EtdiMtYvrcnkAX4Y5gbdpL7vui3aj4wX1S7p1PrfNt5KcXT0fvRwN0RbX8DA1kPq3lOdpzQY1hCSkBqK8L1Phl5oN/nmaUC5JbXaX1doYY9TcAEedSkbpkI5fHIuKV6WYlbpQf9Zl5l7TyTiwB1Yv6pCx32EsxbrzKhhHvIGVN7gFrFZ15SKY/YxlZPDOizPGKi5+83UsthjuZqsB1x6Osm/7U6F5vVikyqy1DJz0nlt0EIh+NmaHs+ZxRRsw4BJ9dEP7XobdJ8d9Mm8zbSBOpVAKj3MQDfbS/DFXX9mDHi8XQvxTGWrEN4/febagX551/AvpHdCFmWgeS0EtnYZa0yY2Y4fLd30dpEDOrcnlRIPPAcjv67VS++L7SPfCbTfjBr8rx0IabSLTEwe1Y8/RhlM8bQv8ZUnO+uAyrvpLA4w/vwOFB0gA/TQL74k1Y+70anP71Jmx8rRgV03uhX7LM3lPzysUP4Hah4GTQja3r/4jr11KDbprgTA+2Ne7Hgg3G3h4VfqU7N2frmATP1w4Hu7HtR0+j5z9R43r8BKrvXIFrP9iOVU/vw+mBfgx9ZhamX7sCm5fqePyHO1F05SwMfFKE08VUUZcZre3B2Hfx8PFv4e//eoFUosW+rE1/3w3tynk474MhVHz7TlyrTAZxGcgPv9dF3XI/+PPVeObdyzF3iPKNDCq+dQ9qP/LIy/8+C60tG7BvegjTqQGcW5/eU+Nfz7PkW8ZryUw+iGWYzqqRLDFNfoxlnfrRf0V4jPCsowPt2PyDnShf9whu/Ly43+fRhn4Oe37yIF565wT6Py7CrJmX48b7VmLxNOpXf/Qz6PPnYegwsNjaU+PuaxWM+vkBKSV+X7w2tiVM5K9hT5Dv1GQKWv/VOrxw4b1YfnXmUJ07tNyMqVIzDnAZyI+Jnm/yGyHwGrUzgZBKYQeqxWzG5OzTR0xBKjVjTO52deIrNeP+ReHeV7dg63M7Sa1R6Itja9+tWOah0DAMUzjItXuxXNAXRgMrNMOHvxbMMBI+0LJAOVszNXyg5eSE841hJjZ8oOXo4KnUiGmwiYo4Hn3WrBmU+eN7ON9E52wpNaLgj+fx+IJCOSJ/LOF8Y5iJzXjX0UKpn55KDTP5OVtKDcMwDMNMVPiUboZhGIZhCgKeqSlQeKYmN2M93cvLLwzDMGcXVmoKlOEqNXl970J8At38EFbQ82UmEmO9Ma9QNuIxDMNMVHj5iRkmCcSiSYQbmtHcPAKFRnxfw/dz3GcXMUMzlrMmIiwRplAc/T9BzjAMwwwXVmqYEVCiHKk/TOQpyVOL0G0NCPcFO9uGYRiGCQ4vPxUoQZefHOfEaGGES+PoVZaf5Jdeu4xr++waZdlJYpnLr5paZ+q4l6RcZ8JU1qFhjjjvxnVGjfgAm8sf7/NhTLKE6Yg7odU2OL42Oh5f8LS+2CnlfjTbScQMwzBM3gilhik89u7da15lIRFNNTZGU13mbSrZlmppbExFE+bt7pZUY0tbKmncprpijamW3fZdKqo+K+/Tzxp+WfbJVFuL+mwaGUYs7UuGP1mezRqmSJvD30wOHz6aOnnyE+WXTP3rvjdSb39o3h99K/XbQx+73IzsJ8KUOOTDMAzDjAa8/DSFSXQmoNWG02d4yOPzzWvoZK8jtDR9qrA4rRj0jDK3kqa7Ewkx02PNzGg1CFcm0CmWWPQEOvQQwkHOZHH7I06/rfcJN1uYWhm0rjjaPSPrxx+x5yeP4uEXe4zbP7Tjhd/Jw/pHH01DCZLQ84ofwzAMkw1WaqYsOvQ+oKRUVTQ0aPZZZkn0UoebiDbJs3nkTyzz6L1kk4neR6Z6HBHLrTjPp4t86SNPxL4ZUjKCHOMv/aE4Zag/HuFmDVOehVMPmPGPtAXUHuaGsbA3jgOD5r3gjI7XnlmHNffejVUPPIHXxAe3P4jj2ed2YOv61Vj1/dXY2mU8MPjuTjy+/jFsfvhubNzRgyFpyjAMw4wFrNRMWQwFRioAnpSgTNPst5vSP+/TWbVSUlnE3heH22ZjD4uYNfFRhtxIfyhOGbHyUIqyhmm4QI0Z//DRSEDFRsPiJcCO9l7zHuj9p8fQccW92PhoCzZ/53PY8Q/7pbLyx3eLcH3TI9j8wxr0/PaQcIk90X7c0LQSq+5rxuJDMez5SHrBMAzDjAGs1ExhQlUh6K3x9OZdvR1xe2OtRvZAPNruvdzkpqIKoS6fN3rkslYCcT+lQlVihD96HHHbHx3t0ThAcc2YvckWpouSORlP+1L0lZux8LUX7dmafr0I5ZeaJ8Z/vhwVej/kotTc/3975x8cZXXu8W+rqwjlEtq+icaO4d4BOmYzN/G2OFedW8JMlhm9U2DG8gebqXRaHIf0XlgLeiFRFGwKg6RZvRa16h20d0M72JmqVe+wGbM4iLeikm2zsVeYSqwGyIuSFA3C1u49z3nP7p733ffd3ZAEks3zmdnkfc/v87znPec5zzlndw6MS8T/S3zw0f3wURx+/yA62negbcdORE8mMTxEHi6YplDyrNNj8peqw0XKmWEYhvGETz+VKOd7+ilY2414RShzgsjmT2ROItFppjhqbZYbxwknoYYEQiHUS30i9/RTNh3l7uZGZNzd8MjT9DihpW6J3NNPvXhmy4e4eVMAM97YiUdjQ/j0ulUIfvQgDv7TdqyYL4IMxdD2yxlYc+sgtr54NTatFII6GcUWeQ0805zAwgeWo4qUHRfcTj/J63hdTvkYhmGYkcFKTYnCP5NQmHxKjfH5YexesxmHl7Vj000mnvnxLphz5yDZByxsasINl6QVGV2pqYb52kNoezGJedcaOHesDIG7l2KuSp2wlJovIhYOo3/x5PsWZoZhmIkMKzUlCis1hblY31Nz+rWH0YF81ieGYRjmfOA9NQxzgfGvaGWFhmEYZhxgpYaZstCvZtOPTF4oKC/Kk2EYhhkfePmpROHlp8KQknHq1Gn5I5MXAlJoZs+eeUF/RJNhGGYqwUpNicJKDcMwDDPV4OUnhmEYhmFKAlZqGIZhGIYpCVipYRiGYRimJGClhmEYhmGYkoCVGoZhGIZhSgJWahiGYRiGKQlYqWEYhmEYpiT4wv79+/l7ahiGYRiGmfTwl++VKPzlewzDMMxUg5efGIZhGIYpCVipYRiGYRimJGClhmEYhmGYkoCVGoZhGIZhSgJWahiGYRiGKQlYqWEYhmEYpiRgpYZhGIZhmJKAlRqGYRiGYUoCVmoYhmEYhikJXL9R+LPPzuHUqdNIJv+qXJjxwOe7FLNnz8S0aZcpl7GDv1GYYZipRimMXeM5LkwFXJWaY8c+whVXXM5CHWfoBTxz5iyuuuorymXsmExKjdkVRgSNCC0ylMuFYUT59nagJV6L1hV+5cCMOVNdxmYM4XA/Aq1BTHQJJHa3IHplaOzf2aLbQAIdLXHUOmRVCmPXeI4LUwHX5SfSclmhGX9IxhNjRkEdRAs6etVtESR2hxEz1c0YQopGSziGcUh67KDBp+V86z9yWY8lNBi17E6oO2ZCYfbDrKmd8AqNKCjMEwbqai7sJKQYSmHsmjjjwuSE99QwQpGIYsAwkIgXO9hRp6YuxxhjUQitoXpMvO5Sw6hHqDWE+vMqpB/B1lYEq9XtBca/opWtTRMU88QAjCvL1d1EZgD9ZjlEl8EwEw7X5af33z+B8vLZ6m4C8bn6f4n6P1mgcnuUeWDgFK65pkLdjR3FLz+ZiIUjQGMjEKH/9sGaLCfhzrRJwkAgFEB/uANZ9YfcQjA6nebodLpWevZ0RKyGbFjbMpBmfnbGIfyNlkJAFoeOHuUoSLvnQpaRbHk983UilwKiymIk6thQjujxtFncafq254GaoBbO6V5ukwthr4slT8uPZBiFsRjoiGRqoPnnk6uK21iJqKwHKVNBlDvq7IzvLUdnWK0cNlkJMvUXiOcZPlGLungHoukAur+Oc+khX7pOP1U/e6pu8rOH825H7vKjeLY4RgChtBJO5c/kI9D9HNjSyLSLMPoXZ+WfDUOyFu9dxERgcT/CtuUZKmcY3bXWc7c9o7S8pKy6Uae1G4LC2tu/1V6R845p+VN9qJ57Kz3qbW+fZNE1G9J9hsszyvueCRzPOft8nO+gxYQdu0bIeI0LUwJSapz09R1PnTlzdpSfD1IvbPx56i1XP/X58N3UH4+7uLt+TqXeeuyu1ONvf5J1+8vvUo98/67UC0e1cB+9l/rjUS3MaD9//m1q42OHctz/8ExTqmn1ylTQxc/++ST11s9FuQ+ecvE7K2U9Huzfv19dFSARSTV39MjLgVfaU+2vDMhrCfk1R1KWr05PKtLcnurSgvZ0NNvjpgZSXe1amIEB4aIY6Eq1a/Ft+WrlsUFx2rsyaQyI9DJ4lpPKoJfLXu6c+magcM2pSELdqnSy5SL/dH7OPNLkc7eXoVmrl70uznxdwnvKVcV1yCVH1rq/47nYyNsWcmVlz0NP0xleg8LaZOyVrl2G3hSWn3c78pafHj/b7vU2kR+Kk9vG7fFlmEw+lixkHMd7IMus7u1l09LzenY2eav46t4zf4GtDbm8yznxPOVi+ed/zzR/mVc6La1+Gl5j119+97PUyrt/m3pfdx/R+FPEZ9RjRfYzXuPCVOCiLj+Zb+3Cvj+rmwIMv7ELz1asxW3X+pSLwFeHJXc34cavqnviT1E8/ftBdTN+zF3ejrbm5ahS9974UB1sQtmvduHNYeU0gaAlJ3+tNdcxFgVQ3hnNWBbIzxCzLNvM6nwxDGtWRxh+1GkzxsKIWRltoNRmvYZu+6722IdgJtBt+hHIzETFdQPQ3ZOd37vSG0dCzLIDGYuFIWTkUeCcPBRe7jZMIWMT/sXabL46iGBNAnFtz036+RBGTR0Msx8D6r6QXP2NTutFlpzna9Sj0UM+nm3BRVb1jQFAhM+kYtTBnymXH7U1YiZ6YuTPIJuuqHOFiWinZhXxhGb/mvxEG/eb3Uio7Au1I7v8cp+XX8jEKlM5Ko0Eol0F6mXGEO3xI5ixtChMEwNGpUiFrlWYTHu3ZJZpB5nnbyK2V7y/sjwi704g0GjFoSXlRDo90aZac6xYCvEcrBKr+CSrAvkPHBe1rbB8EqK/KNesjrb2SXUSKQRCHnkXes+c/qJ9BhzvRrH4/Eux8fabVH0sRjL+jIbixwpmLLhU/c9Pz9PYcuwWbAqIJpG+vq4bT3UlMf2dGN4Ub0XtHffjtprpGH7vJTz5RAx9ySTODdVhtYg+/MaT2PKbBIQTpv/DcqxZ7UfvI/fj+XcGMfjFOxGfBlR9+36s+ZYPfS89gacPJ3HZB0lU37EeS+aSEtOPfS8At7RoTfLjGB7e+hwOD5Vh6U/uQ4NQbI7suROPvirS/Fs31u0VYa5vQtvyeVaZfnEYSd9RJKubsG7pPAxGN2P3XxYAb4myflaOJc3rsfDyg3hq6x70yoLOw3f+vQk3UF6DB7F7i1BKtHq68vFBPPNIJ8yZn2Jw2i2injdaL9Ellbh5GbAl1o9v3lIpg04MRAfRI/72tKBFuUhEp+GvtvbNlHsN5iPFaZqnzk5dFSKx2zKJ6x2jc9lEdrzqKgNtvCSFqMVWO6CGulzvetHeBlTU2kIYFWJ4OK5udCiP9OCh4+Vug/YmGGIwVLcactCXnbm7f4a8cs0X1/v5msed8skT1kVWEjWwSXcxAObGzE+hdOXeIKo7LZeIZ5+79OQFKR+mkLu4FInnb0dO+dHzEu0x4nhfRJwB1KM+JNqoSK+lRQQSg7Hb0pPZ0w2zxkU5pPai6psbhuSvyiKUsHLRH0p6o4hWCIWF2gkpANTawy2Ikh8tPYUKSES0z3T55L66hkYEhYPZlSd/2zX1H+JaKMKuUJ1EOvqSl06h90z6i8lBuEXWKINxZfrdKI6hVx/ClhfexeDMZdi2KSDyG8I+1/Fn1sUfK5hRMypLzYfvAAtbtqPtweX49Fd0YuUwnntsELc8QG7NWPo1K9z061dh20+EtvpgO77jiyJ+chYW/ls7Niybg4V3WO7UoHAshqcHhcK0dj02bF6Io7+MieYn+DiBg5ULUCsaX4Yv12ONiLda2zYiNeI76lG1rFmmSQqNVIgiokwta7FuYysWHu3Avo+t8Ic/mYNVPxFl/V4Z9h0SrXDmAvyA7inurZchSm7EkOGopxtJvLlnH6rWbsS6O3+MVeW/wctCPml88+tQ9nbCqs8EwerIQmIWJwaI9KfRL2flousQHUwRM2pPrAFAIgdeiIEnnU8IpB8XhYjbgSD0fR5yIIrXIZRJz2NAo06bBpdMOPVxzpIdyI41M4MtAOWhBlobXu42tAHWQXomnJfRyDXP883drJonrJesCip0+SkqXWmBEPUOVSKq712y4ZRvVpEsuh1loOdFlod0+Nx4cqM7udHeF49TfG6bgaUlTHO3hSHlJbMxl8owANMkK82AzQolFZl0mQq0cQkpSLKNkpWm3GZV9MxfWiD1TcL2DcOWQmZZvJx1clLoPZP+ep3Ux3UPXB5mfWut6Lt/iIXqXri4jz8TZKxgRsfolp+q5qCSNsBOm4N5PtE4Tx7F4XnVmOvYFDv8XhRPbd+Kth078GxcObowfPQw+g51yHBtO6Mwk8OQC0l/E5/pM6AtPBXPsCjT+wfR0S7S3LET0ZNJDCvNYsE3qiH16H9cZVmhhvvQ+eRWbKP89xySYSTOelquDvpx9J330PkE5bMDdGo2eVpbb5pZBkPU45y6vfiQKR25xzLJBN8TlceVydxsastRduyDRfmVBkxphreQ5m91LdEHI9lJquu8JNBBg7ZbB63N/nPySkPLMWLeGim0JOCEZGCKMmbM3JaZ3xW55OOy7ODlbsMytyf2ap0fKXE9ftQWOxM9L7la5DxfM4ZIp0ubEHi2BTdZRcTMWoQf2dDjYCTp0uCsLt2wlHQLa1lGWw4rph1loOcFRCNeg5UGKbXqUocGav09sRB9iuOItGUto4sYwmSJyzxnS8GEeEejFZoVhPLrIWuNA4rv+fUDpCBZ9R5wLC165i+tL5bSYsXXloNU+7EULaqTCJFPOS/0nsm+SLwPGf9xZqKMFRksK/PF+vqHyUpxy08a5gdHc0/yDB9GLypR+yUxcPeJRi+GEmP4Q/SJRl2JIRyI9KL6Rxtxg2gV8cc32x50khQWxfQyEf+fl2HdrY7Vx8tnYIY5CHrsHsY8G8n0KSliehnKvnojlt65HFVauc0j6kJj6PVd6PXfhQ1U0EM7seWk8khD9ZxWhQXq1g7lMx+3NK2V9czh9CBMQ4RRtxcdGgDFcwrl9Dm07ySKcGcC9SuCCDWI2Wxm+YZmqbR+TmEM0dmRGV65LWpEIE5hlalYzLCCNerUQnUAgb0efnmgZSfq4hLa8pE8/UD7IsTMPO1sNAQRMNy0ZQP1omxiyowW0dmmyXfCx4L2EwREtPQyg6hjYwCuWcg8gugXA0cmD5pdCkXM3d0+/NLMPgRNNkqeLmpcLucp1wxk6WgkOdrl67pcIMJ6tQVa+qHON5MK1XOEs+lc8qUrBj/xTHUFjsrtLjNRzivjapmKoHTVslDR7ShL7vMSyOcKUVbdWmTJJ0cKtGcq3pKNL5epDDFBKEd6dU/u+0mXi/wb/Yic0JU52k8klAd9eUnuh3J5PqSECOVDt6bYISsNySQbIF/+tCSUtb5Y+5xs74lsE3RNFrFCynmh98ylDdjyGD36+DNhxgpmVBR3pHvoAB6+5yX4qmdg+EsGyq5cih9c140tzftg/MscDB8ZRG3TejRUJMVEswW7P56DGck5mPtFE9VrV+KyX9+NJ9+bj6rkIJI+8V5/T4Slzb0nY9i2uROzrq/EjKpG3HbTObz+6IN4Ljkf1V89h/6/C2DDUlpCGsK+7TuBOzZiIVkJiXf3YN0TB3BuSKQplKkZN1j7Z/BZL3bftwv9X58v2v9CrPv2PJivPYS2F5OYd62Bc8fKELh7KWZFN+Plq+7DbTUqPeLIHmx4og/z5iQx+Lko6NdXYt03Emi7rxPTr9frqdZk//QpBj/xoWzWfCzZuBYLTu7Bjsd6YVw3B5cJLb/6+6twgyrv0Ktb8SiasEGaObNc/CPdDFOqkPJjPz7PlDZuR7rlXss3zmHw4yTKvjwDN9zeju+I4SFn/BF980QYKwg+0n3+nP/31JyMYsuLV2PTyhHs2BoNRzpwb6waG1fVFWWtmVAMd+Opn/bh5o1LLdOkBis1DDNesFIz1eDvqWEmzzcKzw1iTVUnnv19UjlMFpKI7+lE1e25Cg3DMAzDMGMH/6DlRYR/0JJhGGbs4B+0ZFyVmlL4+fbJwHj+xDwrNQzDTDVKYewaz3FhKuCq1DCTH1ZqGIZhmKkG/0o3wzAMwzAlASs1DMMwDMOUBKzUMAzDMAxTErBSwzAMwzBMScBKDcMwDMMwJQErNQzDMAzDlASs1DAMwzAMUxJ8Yf/+/fw9NQzDMAzDTHr4y/dKFP7yPYZhGGaqwctPDMMwDMOUBKzUMAzDMAxTErBSwzAMwzBMScBKDcMwDMMwJQErNQzDMAzDlASs1DAMwzAMUxKwUsMwDMMwTEnASg3DMAzDMCUBKzUMwzAMw5QErt8o/Nln53Dq1Gkkk39VLpMLn+9SzJ49E9OmXaZcph78jcIMwzDMVMNVqTl27CNcccXlk1YpIKXszJmzuOqqryiXqcekVmp6O9ASr0XrCr9yYM6HxO4WxGtbEaxWDkWRQEdLHLWtQVxc6U+UctgpWqYjasMmYuEI0BhCvaGcGIY5L1yXn8hCM5mtHFT2yWpluqCYMYRbWtBi+3SI4YQZa2gwbNldSLJiIA/HxBDHTF1ImWtBR6+6HSFmVxgtF6kNXcy8GSYN76mZ6hgBhFpb0Zr+NGJUnSrjjn+FkG2hWbtpYkBdMlMVP4LiPRyZdS2LsSiE1lA9LobB52LmzTBpXJef3n//BMrLZ6u7CcTn6v8l6j/dp68dDAycwjXXVKi7qUdRy09kqZFWb0dHRKbzvZUIpd0pXDiamYH5G6nTJZN5GP2L9Q446xY4EUb4eMA2kDtN93Tf0WNdS+UqnV/GdE8KVhSVId0sTzPZtBtdZy1LRkMIoUW5XSrNIPOWReQXPlGLungHoulK1gSz4R31t5U1g14u5aS5+XvCiKDRKp8zPRrISJmMaJYclQeo7J3ZkF51JGQ902FF/EBFFP3FyNsGlVlf9rHL2B7Pet4ZmQmstqFuBG6y191sZRJk44+kHMIvbCKwuF+0ZxEi42ePY5MdtTEXeTvlUUimNn+pkKjyFlh+stW7RqR7olstP+UuRdlllM3D1d2Zr7Ot6e16NO1exhXlPh6WZZCyFbIpOm+GGS9IqXHS13c8debM2fP6/OGZplTT6pWp4GOHXP3P/3Mq9dZjd6Uef/sTdf9J6q2fi/uDp7Qw2Q/VYSqzf/9+dZWHga5Ue3tXakDdZulJRZrbU13Sg66bU5GE9LDiNEeEq7h8pT3V3EFXinx+gp6ObDrSX8ub/NpfUXeJSCauzZ0gPxlvINXVrvvpZbZTqCwyTVtcR50pt4yfM98s3mW1ymD5UXz3curhM4iMM/dSvnniKtlLZNgi5W2D6p5OJ7euFC8ty2yd8qC1CQsrzUy5soJ11KH4clhhxb1Nds44evvQ085DAZk6/W3tjPwcbS6N81lY6aTLZm8fOWEVXu72fC256O3YJhNbvkRueM92L+Pan8mI8maYcWLMl5/mLm9HW/NyVKn7sWL4jV14tmItbrvWp1x8qA42oexXu/DmsHJixp7eOBI0Q03Pvo16BGoSiPeKy0UB+HuEv/Iye8Rss0G4qXtvTCTiJvyLszNjv4iHeCI7q1M43RPiWsYzE+g2/QhkrBbiugHo7nGmUCRGHfyZaboftTXAwIl0WgaMjJ8Bf23mxoZnWdW9hUirwkS0U7MS5ENknM3ajzr3rGVehi57W9ji5W0jR8Yi3opg5pkbFeUwO6OZ5++K1l4klCay7cnIChaornVvOwXKYWEg0KjJOm/7KEelkUC0K39byS/TXH/n++BO7rPwrLdbWImXuwPnuytC1zc6nvto2r1Iu1F7JjaKyZthxoEilJok3nz8h9j9rrodimHb9hiG0Ifnt9yNDXfdiXV3bcXzR5IqQC69T29G50nH9edDePMXm7GtfQfuvW8nXpf+wzjy663Y0Exp3oPn3yM3oh/7XgBucR4NuKQSNy8Dnov1KwdmrDFPDIg/UduGYjI3Wx0fdYLpAYs6WqCuxqOTszGAfhE9Ecmm2UJmarM/d08JDSRiGEzInlDk1SPypI5ShBU5gvb/pNOgZQDz+HnuSqnQlIcccvNxxausDuT+mtq4Sq/AxmxaTsjkbV/qySLqfUIM1aIOWUh5UpcjkbcOydioFCqAkwHa/iMG4yBaW2sRV2l67cPy1/qlAkBIxVfcp0tKyzfZ+nnIolA5JOXaACzI2z7EABtqRSMilp/r5tZCMrX8zU5n+fUyuUHPwhBKlbqVkJKlLm24hSW83O3Id9etXevPfTTtPk/covJmmHGgCKXGh28uugnxNw/Lu6H46/DddD1moQpLNm3Htgfb0ba+Fgdfs/yLJdkdwb6qEDbcuR4PfM/Acy9Tj3gUB/53LlY/INJ88MdY8vdWWHycwMHKBaidpu41fPPrUPZ2QihZzFhhdonZt5rB0WxcroXrm4nFJ703ITNgyRm4PutzYg0CFtSJi5m1GFjs6ar9CDYMkYeaYdPsr0bNasUgZ9Aavy2++BS1Zq+XpRDWvgw0ZvMINXhV0qOsbkiFQKQXqkTUazAnhSYCuXHUyjuEgGvW1mCbnWE7GYm8NUjGroOQrkBYG1upbJV7PRQbskRIC4Zd8ZX7UeJ12jP0KE9R5XBQRPuQG1vJjfbi5Cg2hWRq+dMeIFv6Qg75j2XTszClklkYr7DFpSHfXVH+nGCuCqKTkbT7XEaXN8OcP8UtP82vx8J3DqD3834ciM7Cwm9Ml5aWeMcObNmxA21PRDFSW0n/0QSORp9AG8XfI3rCs59iGNVY+t0kdm+4E9v+K4a+0yrw38Rn+gyhXrkwswyG8D+nbpnRYW18RNaULwekDu/TUGrAijlm4LJT003xvVHNymAN/tFIccc/jZo6abaOiQ8pUZYjWUWiiBRYQiDyl6UY9FlxAlEvS43Ataz5EKOyrZN3Dt76IJCn3JSXbSnIjCGa2UQ6MnlnkMst9mWaxG6hgLkqa9Yg746y6HW5KL7abF4q0+raxojKoRhB+5AKkLrUyS9Tyz8R8VBIPaFnYSCxV3sWns/VJazEy90BvZumSDvz7pqIRaK29zQ/xbf7HArkLS10fPybGQeKPv3U/9I9eO5MLcyzddgUnAe88zTW9daj7dYq4NhLuHfvHDywUtnaT0ax5cWrsUnd05JT/7/eh4bZJl5u3Qlf031YEN+Mp6ffhTU3CAXJheFDT+I/em7Ef35XpHH6ANoeB1avvxE5ocnvv31Ys3qBTenh009Fnn7STydItBMcGaxZW7bzpll/dkZqKULlOfGcp22Ctd2IV4TgfnJEkD4d4TzBIZBpnXCeUCl8+iZN3rJ45Be90jotYy+nkE+jUBCoLB77CdzKSmlYp5+Qp8xafcjKEBKDph5WyCcoBmqzwd0aYCvnSORtg561furIIWNZLqtexaWnUG2t3PZ87O3KaAiiLh6HEaK8iy9HbpnTeLWP/O1Zp5BMLWuaptaky+XSpnRs7dH2XKnMY3j6ySFj2zMaTbt3q98I8pZpk5XO9j4zzOgp/kj3UAxtP3oJ8zZvx5Kv0f0BPHzPS/BdV4ahsz6cmx4QSszV2PfI/Xj+T59i8BMfymbNx5KNa1H3fw/hnv/xoXraMGYYZahctgoN0w/j2Z/uRO9X6jDnchPJr9+OH1x7CA8/3ouyr83Apx/04+rl67FkLqkqQ9i3fSdwx0YsnCVLk2Ho1a14FE3Y8C27Bys1/DMJDMMwzNRi8nxPzZEO3BurxsZVdVlrzXA3nvppH27euBSVju+rYaWGlRqGYRhmajF5vlF4bhBrqjrx7O/Tp6ySiO/pRNXtuQoNwzAMwzBTD1dLDf+g5eSHLTUMwzDMVMNVqSGl4NSp05P2RyF9vksxe/bMSf2jnKOFlRqGYRhmquGq1DCTH1ZqGIZhmKnG5NlTwzAMwzAMkwdWahiGYRiGKQlYqWEYhmEYpgQA/h9ddtvn+zdO+QAAAABJRU5ErkJggg==)"
      ]
    },
    {
      "cell_type": "markdown",
      "metadata": {
        "id": "TnxiNaC1ZUEH",
        "colab_type": "text"
      },
      "source": [
        "##Qué es el tipo str en Python\n",
        "La \u0018\u0018\u0018\u0018clase str en Python se utiliza para representar texto, más conocido en el mundo de la programación como string o cadena de caracteres.\n",
        "\n",
        "Poniéndome un poco más técnico, el tipo str es una secuencia inmutable de caracteres Unicode. Por tanto, al igual que list, tuple o range, es un tipo secuencial y como es inmutable, un objeto de este tipo no se puede modificar después de haber sido creado.\n",
        "\n",
        "❗️ IMPORTANTE: Cuidado cuando trabajes con texto procedente de ficheros u otras fuentes de datos. Fíjate en qué codificación está y haz las transformaciones necesarias si no quieres tener problemas. Por defecto, la codificación de un string en Python es Unicode, concretamente UTF-8.\n",
        "\n",
        "##Cómo crear una cadena en Python\n",
        "Crear una cadena de texto en Python es muy sencillo. Simplemente encierra una secuencia de caracteres entre comillas simples '' o dobles \"\".\n"
      ]
    },
    {
      "cell_type": "code",
      "metadata": {
        "id": "hCeZwRm-ZlOS",
        "colab_type": "code",
        "colab": {}
      },
      "source": [
        " s = 'Hola Pythonista'\n",
        " s\n",
        "'Hola Pythonista'\n",
        " type(s)\n",
        "<class 'str'>\n",
        "\n",
        " s2 = \"Me gusta Python\"\n",
        " s2\n",
        "'Me gusta Python'\n",
        " type(s2)\n",
        "<class 'str'>"
      ],
      "execution_count": null,
      "outputs": []
    },
    {
      "cell_type": "markdown",
      "metadata": {
        "id": "_FfwJSceZq0_",
        "colab_type": "text"
      },
      "source": [
        "Si quieres o necesitas que un string ocupe más de una línea, entonces debes encerrar el texto entre tres comillas simples '''...''' o dobles \"\"\"...\u0010\"\"\"."
      ]
    },
    {
      "cell_type": "code",
      "metadata": {
        "id": "Zvre8DCJZrtp",
        "colab_type": "code",
        "colab": {}
      },
      "source": [
        " s = '''\n",
        "... Este string\n",
        "...    ocupa más\n",
        "...     de\n",
        "...  una línea'''\n",
        "\n",
        " s\n",
        "'\\nEste string\\n   ocupa más\\n    de\\n una línea'\n",
        "\n",
        " print(s)\n",
        "\n",
        "Este string\n",
        "   ocupa más\n",
        "    de\n",
        " una línea"
      ],
      "execution_count": null,
      "outputs": []
    },
    {
      "cell_type": "markdown",
      "metadata": {
        "id": "8oADdjCIZu-W",
        "colab_type": "text"
      },
      "source": [
        "Como puedes observar, el uso de las tres comillas (simples o dobles) guarda el carácter de fin de línea. Esto se puede evitar añadiendo el carácter \\ al final de cada línea."
      ]
    },
    {
      "cell_type": "code",
      "metadata": {
        "id": "rrFgH4CgZwn3",
        "colab_type": "code",
        "colab": {}
      },
      "source": [
        " s = '''Este string \\\n",
        "...    ocupa más \\\n",
        "...     de \\\n",
        "...  una línea'''\n",
        "\n",
        " s\n",
        "'Este string    ocupa más     de  una línea'\n",
        "\n",
        " print(s)\n",
        "Este string    ocupa más     de  una línea"
      ],
      "execution_count": null,
      "outputs": []
    },
    {
      "cell_type": "markdown",
      "metadata": {
        "id": "9-cPYqVQZzel",
        "colab_type": "text"
      },
      "source": [
        "❗️ OJO: No confundas un string multilínea con un docstring. Un docstring es un string multilínea que se utiliza para documentar un módulo, función, clase o método, entre otros.\n",
        "\n",
        "Además, dos cadenas se pueden concatenar con el operador +, o incluso repetir, usando el operador *. El resultado en ambos casos es un nuevo string."
      ]
    },
    {
      "cell_type": "code",
      "metadata": {
        "id": "qrJj-o0fZ17F",
        "colab_type": "code",
        "colab": {}
      },
      "source": [
        " hola = 'hola'\n",
        " s = hola + ' Pythonista'\n",
        " s\n",
        "'hola Pythonista'\n",
        "\n",
        " s2 = hola * 3 + ' Pythonista'\n",
        " s2\n",
        "'holaholahola Pythonista'"
      ],
      "execution_count": null,
      "outputs": []
    },
    {
      "cell_type": "markdown",
      "metadata": {
        "id": "m8QonO9sZ1TN",
        "colab_type": "text"
      },
      "source": [
        "Y para terminar esta sección, simplemente resaltar que dos strings literales se pueden concatenar si aparecen juntos uno tras otro."
      ]
    },
    {
      "cell_type": "code",
      "metadata": {
        "id": "b6edOvM_Z5oy",
        "colab_type": "code",
        "colab": {}
      },
      "source": [
        " s = 'Hola' ' Pythonista'\n",
        " s\n",
        "'Hola Pythonista'\n",
        "\n",
        " s = ('Hola'\n",
        "... ' Pythonista'\n",
        "... ' ¿Te gusta Python?')\n",
        " s\n",
        "'Hola Pythonista ¿Te gusta Python?'"
      ],
      "execution_count": null,
      "outputs": []
    },
    {
      "cell_type": "markdown",
      "metadata": {
        "id": "c6rg7oQ3af62",
        "colab_type": "text"
      },
      "source": [
        "##Cómo acceder a los caracteres de una cadena en Python\n",
        "Como el resto de tipos secuencia, podemos acceder a los caracteres de una cadena a través de un índice numérico. Un índice es un número entero que indica la posición de un carácter en la cadena. Siempre el primer carácter de la secuencia tiene como índice 0."
      ]
    },
    {
      "cell_type": "code",
      "metadata": {
        "id": "iC9E45geaiDy",
        "colab_type": "code",
        "colab": {}
      },
      "source": [
        " s = 'Hola Pythonista'\n",
        "\n",
        "# Primer carácter de la cadena\n",
        " s[0]\n",
        "'H'\n",
        "\n",
        "# Sexto carácter de la cadena\n",
        " s[5]\n",
        "'P'\n",
        "\n",
        "# Tercer carácter de la cadena\n",
        " s[2]\n",
        "'l'"
      ],
      "execution_count": null,
      "outputs": []
    },
    {
      "cell_type": "markdown",
      "metadata": {
        "id": "EPWCeqdLanJS",
        "colab_type": "text"
      },
      "source": [
        "Si se intenta acceder a un índice que está fuera del rango del string, el intérprete lanzará la excepción IndexError. De igual modo, si se utiliza un índice que no es un número entero, se lanzará la excepción TypeError"
      ]
    },
    {
      "cell_type": "code",
      "metadata": {
        "id": "r5HqJeWSaouA",
        "colab_type": "code",
        "colab": {}
      },
      "source": [
        " s = 'Hola Pythonista'\n",
        "\n",
        " s[30]\n",
        "Traceback (most recent call last):\n",
        "  File \"<input>\", line 1, in <module>\n",
        "IndexError: string index out of range\n",
        "\n",
        " s[1.0]\n",
        "Traceback (most recent call last):\n",
        "  File \"<input>\", line 1, in <module>\n",
        "TypeError: string indices must be integers"
      ],
      "execution_count": null,
      "outputs": []
    },
    {
      "cell_type": "markdown",
      "metadata": {
        "id": "Yl5Gz1aaa0q5",
        "colab_type": "text"
      },
      "source": [
        "Los índices también puede ser negativos. En este caso, el índice -1 hace referencia al último carácter, -2 al penúltimo, y así, sucesivamente."
      ]
    },
    {
      "cell_type": "code",
      "metadata": {
        "id": "e7phDzBHa2HX",
        "colab_type": "code",
        "colab": {}
      },
      "source": [
        " s = 'Hola Pythonista'\n",
        " s[-1]\n",
        "'a'\n",
        " s[-2]\n",
        "'t'"
      ],
      "execution_count": null,
      "outputs": []
    },
    {
      "cell_type": "markdown",
      "metadata": {
        "id": "ByMM_8_obRZc",
        "colab_type": "text"
      },
      "source": [
        "##for str Python – Recorrer los caracteres de una cadena\n",
        "En Python es posible recorrer todos los caracteres de una cadena usando la sentencia for. Para ello, lo más fácil es seguir la siguiente plantilla:"
      ]
    },
    {
      "cell_type": "code",
      "metadata": {
        "id": "nE-MvWgUbS_i",
        "colab_type": "code",
        "colab": {}
      },
      "source": [
        " saludo = 'Hola'\n",
        " for c in saludo:\n",
        "...     print(c)\n",
        "...     \n",
        "H\n",
        "o\n",
        "l\n",
        "a"
      ],
      "execution_count": null,
      "outputs": []
    },
    {
      "cell_type": "markdown",
      "metadata": {
        "id": "2wBQEHeIbUn-",
        "colab_type": "text"
      },
      "source": [
        "##Comprobar si un carácter está en una cadena en Python\n",
        "Para comprobar si un carácter está contenido en una cadena, utiliza el operador de pertenencia in. Esto nos devolverá True si al menos hay una ocurrencia del carácter en el string o False en caso contrario."
      ]
    },
    {
      "cell_type": "code",
      "metadata": {
        "id": "jOS5KM4ibYjn",
        "colab_type": "code",
        "colab": {}
      },
      "source": [
        " saludo = 'Hola'\n",
        " print('o' in saludo)\n",
        "True\n",
        " print('p' in saludo)\n",
        "False\n",
        " print('p' not in saludo)\n",
        "True"
      ],
      "execution_count": null,
      "outputs": []
    },
    {
      "cell_type": "markdown",
      "metadata": {
        "id": "KzILO1TIbbz2",
        "colab_type": "text"
      },
      "source": [
        "##Comprobar si dos strings son iguales en Python\n",
        "En Python, para comparar si dos cadenas de caracteres son iguales, se utiliza el operador de igualdad ==. Dos strings son iguales si y solo si ambas cadenas contienen la misma secuencia de caracteres (se distingue entre mayúsculas y minúsculas)."
      ]
    },
    {
      "cell_type": "code",
      "metadata": {
        "id": "3LzuaSrTbeGe",
        "colab_type": "code",
        "colab": {}
      },
      "source": [
        " s1 = 'hola'\n",
        " s2 = 'hola'\n",
        " print(s1 == s2)\n",
        "True\n",
        "\n",
        " s3 = 'Hola'\n",
        " print(s1 == s3)\n",
        "False"
      ],
      "execution_count": null,
      "outputs": []
    },
    {
      "cell_type": "markdown",
      "metadata": {
        "id": "IoqAJ-EgbgeW",
        "colab_type": "text"
      },
      "source": [
        "##Longitud (len) de una cadena en Python\n",
        "Como con cualquier otro tipo contenedor o secuencia, para obtener la longitud de una cadena se debe utilizar la función de Python len(). A esta función se le pasa como argumento la cadena en cuestión y nos devolverá el número de caracteres que tiene."
      ]
    },
    {
      "cell_type": "code",
      "metadata": {
        "id": "QZO4J7bibi2X",
        "colab_type": "code",
        "colab": {}
      },
      "source": [
        " saludo = 'Hola'\n",
        " len(saludo)\n",
        "4"
      ],
      "execution_count": null,
      "outputs": []
    },
    {
      "cell_type": "markdown",
      "metadata": {
        "id": "Xt-fzCtfblEr",
        "colab_type": "text"
      },
      "source": [
        "##Escapar caracteres de una cadena en Python\n",
        "Como un string está limitado por los caracteres '' o \"\", ¿qué ocurre si necesito usar el carácter ' o \" dentro de una cadena?\n",
        "\n",
        "Lo más fácil si tienes que usar el carácter ' en tu cadena, es encerarla entre comillas dobles. Por el contrario, si necesitas usar \" dentro del string, enciérralo entre comillas simples."
      ]
    },
    {
      "cell_type": "code",
      "metadata": {
        "id": "_RFD6uYJboL4",
        "colab_type": "code",
        "colab": {}
      },
      "source": [
        " s = 'Dijo: \"Hola Pythonista\"'\n",
        " print(s)\n",
        "Dijo: \"Hola Pythonista\"\n",
        "\n",
        " s = \"Dijo: 'Hola Pythonista'\"\n",
        " print(s)\n",
        "Dijo: 'Hola Pythonista'"
      ],
      "execution_count": null,
      "outputs": []
    },
    {
      "cell_type": "markdown",
      "metadata": {
        "id": "ygBaiYdvbqc2",
        "colab_type": "text"
      },
      "source": [
        "También puedes usar la combinación \\' para mostrar una comilla simple o \\\" para mostrar una comilla doble, independientemente de si la cadena está encerrada entre comillas simples o dobles."
      ]
    },
    {
      "cell_type": "code",
      "metadata": {
        "id": "pGsT8kU8brID",
        "colab_type": "code",
        "colab": {}
      },
      "source": [
        " s = 'Dijo: \\'Hola Pythonista\\''\n",
        " print(s)\n",
        "Dijo: 'Hola Pythonista'\n",
        "\n",
        " s = \"Dijo: \\\"Hola Pythonista\\\"\"\n",
        " print(s)\n",
        "Dijo: \"Hola Pythonista\""
      ],
      "execution_count": null,
      "outputs": []
    },
    {
      "cell_type": "markdown",
      "metadata": {
        "id": "M0BAMs-JbyUu",
        "colab_type": "text"
      },
      "source": [
        "Además del carácter ' y \", hay otros caracteres especiales que para ser usados dentro de una cadena necesitan ser «escapados» con el carácter \\. Son, entre otros, los siguientes: tabulador (\\t), barra invertida (\\\\), retroceso (\\b), nueva línea (\\n) o retorno de carro (\\r)."
      ]
    },
    {
      "cell_type": "code",
      "metadata": {
        "id": "-70gO-GPbzp2",
        "colab_type": "code",
        "colab": {}
      },
      "source": [
        "# Ejemplo para declarar una ruta en Windows\n",
        " s = 'C:\\\\Users\\\\Documents\\\\'\n",
        " print(s)\n",
        "C:\\Users\\Documents\\\n",
        "\n",
        "# Nueva línea más tabulador\n",
        " s = 'Hola\\n\\tPythonista'\n",
        " print(s)\n",
        "Hola\n",
        "  Pythonista"
      ],
      "execution_count": null,
      "outputs": []
    },
    {
      "cell_type": "markdown",
      "metadata": {
        "id": "Zbf_RnJCclZP",
        "colab_type": "text"
      },
      "source": [
        "##Raw strings\n",
        "En relación con la sección anterior, puede haber ocasiones en que se quiera usar el carácter \\ pero sin ser utilizado como carácter de escape. Para ello, se puede hacer uso de las raw strings. Una cadena de este tipo comienza anteponiendo el carácter r a las comillas (simples o dobles)."
      ]
    },
    {
      "cell_type": "code",
      "metadata": {
        "id": "Lu6uw3Zxcn37",
        "colab_type": "code",
        "colab": {}
      },
      "source": [
        "# Aquí, \\n es interpretado como nueva línea\n",
        " s = 'C:\\python\\noticias'\n",
        " print(s)\n",
        "C:\\python\n",
        "oticias\n",
        "\n",
        "# En una raw string no se interpreta el carácter \\\n",
        " s = r'C:\\python\\noticias'\n",
        " print(s)\n",
        "C:\\python\\noticias"
      ],
      "execution_count": null,
      "outputs": []
    },
    {
      "cell_type": "markdown",
      "metadata": {
        "id": "jpXWKGdMcqdT",
        "colab_type": "text"
      },
      "source": [
        "##Representación de un objeto como cadena\n",
        "Una singularidad de la clase str es que a su constructor se le puede pasar cualquier objeto. Al hacer esto, la función str() devuelve la representación en forma de cadena de caracteres del propio objeto (si se pasa un string devuelve el string en sí).\n",
        "\n",
        "Normalmente, al llamar a la función str(objeto) lo que se hace internamente es llamar al método __str__() del objeto. Si este método no existe, entonces devuelve el resultado de invocar a repr(objeto)."
      ]
    },
    {
      "cell_type": "markdown",
      "metadata": {
        "id": "zoxpb7vFc5pY",
        "colab_type": "text"
      },
      "source": [
        "##¿Qué son las funciones en Python?\n",
        "Como te decía en la introducción, las funciones en Python constituyen unidades lógicas de un programa y tienen un doble objetivo:\n",
        "\n",
        "- Dividir y organizar el código en partes más sencillas.\n",
        "- Encapsular el código que se repite a lo largo de un programa para ser reutilizado.\n",
        "\n",
        "Python ya define de serie un conjunto de funciones que podemos utilizar directamente en nuestras aplicaciones. Algunas de ellas las has visto en tutoriales anteriores. Por ejemplo, la función len(), que obtiene el número de elementos de un objeto contenedor como una lista, una tupla, un diccionario o un conjunto. También hemos visto la función print(), que muestra por consola un texto.\n",
        "\n",
        "Sin embargo, tú como programador, puedes definir tus propias funciones para estructurar el código de manera que sea más legible y para reutilizar aquellas partes que se repiten a lo largo de una aplicación. Esto es una tarea fundamental a medida que va creciendo el número de líneas de un programa.\n",
        "\n",
        "La idea la puedes observar en la siguiente imagen:"
      ]
    },
    {
      "cell_type": "markdown",
      "metadata": {
        "id": "yueNQN6NdZqs",
        "colab_type": "text"
      },
      "source": [
        "![Captura de pantalla (144).png](data:image/png;base64,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)"
      ]
    },
    {
      "cell_type": "markdown",
      "metadata": {
        "id": "zdN1Ce2ddgAA",
        "colab_type": "text"
      },
      "source": [
        "En principio, un programa es una secuencia ordenada de instrucciones que se ejecutan una a continuación de la otra. Sin embargo, cuando se utilizan funciones, puedes agrupar parte de esas instrucciones como una unidad más pequeña que ejecuta dichas instrucciones y suele devolver un resultado.\n",
        "\n",
        "En el siguiente apartado te muestro cómo definir una función en Python.\n",
        "\n",
        "##Cómo definir una función en Python\n",
        "La siguiente imagen muestra el esquema de una función en Python:"
      ]
    },
    {
      "cell_type": "markdown",
      "metadata": {
        "id": "qTmTDm74dvBE",
        "colab_type": "text"
      },
      "source": [
        "![Captura de pantalla (146).png](data:image/png;base64,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)"
      ]
    },
    {
      "cell_type": "markdown",
      "metadata": {
        "id": "pA9aOHVMdxa4",
        "colab_type": "text"
      },
      "source": [
        "Para definir una función en Python se utiliza la palabra reservada def. A continuación viene el nombre o identificador de la función que es el que se utiliza para invocarla. Después del nombre hay que incluir los paréntesis y una lista opcional de parámetros. Por último, la cabecera o definición de la función termina con dos puntos.\n",
        "\n",
        "Tras los dos puntos se incluye el cuerpo de la función (con un sangrado mayor, generalmente cuatro espacios) que no es más que el conjunto de instrucciones que se encapsulan en dicha función y que le dan significado.\n",
        "\n",
        "En último lugar y de manera opcional, se añade la instrucción con la palabra reservada return para devolver un resultado.\n",
        "\n",
        "❗️ NOTA: Cuando la primera instrucción de una función es un string encerrado entre tres comillas simples ''' o dobles \"\"\", a dicha instrucción se le conoce como docstring. El docstring es una cadena que se utiliza para documentar la función, es decir, indicar qué hace dicha función.\n",
        "\n",
        "##Cómo usar o llamar a una función\n",
        "Para usar o invocar a una función, simplemente hay que escribir su nombre como si de una instrucción más se tratara. Eso sí, pasando los argumentos necesarios según los parámetros que defina la función.\n",
        "\n",
        "Veámoslo con un ejemplo. Vamos a crear una función que muestra por pantalla el resultado de multiplicar un número por cinco:\n",
        "\n"
      ]
    },
    {
      "cell_type": "code",
      "metadata": {
        "id": "XUpmk-Tid4JX",
        "colab_type": "code",
        "colab": {}
      },
      "source": [
        "def multiplica_por_5(numero):\n",
        "    print(f'{numero} * 5 = {numero * 5}')\n",
        "\n",
        "print('Comienzo del programa')    \n",
        "multiplica_por_5(7)\n",
        "print('Siguiente')\n",
        "multiplica_por_5(113)\n",
        "print('Fin')"
      ],
      "execution_count": null,
      "outputs": []
    },
    {
      "cell_type": "markdown",
      "metadata": {
        "id": "EZRV-yrDd8a4",
        "colab_type": "text"
      },
      "source": [
        "La función multiplica_por_5() define un parámetro llamado numero que es el que se utiliza para multiplicar por 5. El resultado del programa anterior sería el siguiente:"
      ]
    },
    {
      "cell_type": "code",
      "metadata": {
        "id": "oGaW6FBhd-1M",
        "colab_type": "code",
        "colab": {}
      },
      "source": [
        "Comienzo del programa\n",
        "7 * 5 = 35\n",
        "Siguiente\n",
        "113 * 5 = 565\n",
        "Fin"
      ],
      "execution_count": null,
      "outputs": []
    },
    {
      "cell_type": "markdown",
      "metadata": {
        "id": "RdHcrKf-eCaY",
        "colab_type": "text"
      },
      "source": [
        "Como puedes observar, el programa comienza su ejecución en la línea 4 y va ejecutando las instrucciones una a una de manera ordenada. Cuando se encuentra el nombre de la función multiplica_por_5(), el flujo de ejecución pasa a la primera instrucción de la función. Cuando se llega a la última instrucción de la función, el flujo del programa sigue por la instrucción que hay a continuación de la llamada de la función.\n",
        "\n",
        "❗️ IMPORTANTE: Diferencia entre parámetro y argumento. La función multiplica_por_5() define un parámetro llamado numero. Sin embargo, cuando desde el código se invoca a la función, por ejemplo, multiplica_por_5(7), se dice que se llama a multiplica por cinco con el argumento 7."
      ]
    },
    {
      "cell_type": "markdown",
      "metadata": {
        "id": "Vm5-rTIleHR0",
        "colab_type": "text"
      },
      "source": [
        "##Sentencia return\n",
        "Anteriormente te indicaba que cuando acaba la última instrucción de una función, el flujo del programa continúa por la instrucción que sigue a la llamada de dicha función. Hay una excepción: usar la sentencia return. return hace que termine la ejecución de la función cuando aparece y el programa continúa por su flujo normal.\n",
        "\n",
        "Además, return se puede utilizar para devolver un valor.\n",
        "\n",
        "La sentencia return es opcional, puede devolver, o no, un valor y es posible que aparezca más de una vez dentro de una misma función.\n",
        "\n",
        "A continuación te muestro varios ejemplos:\n",
        "\n",
        "##return que no devuelve ningún valor\n",
        "La siguiente función muestra por pantalla el cuadrado de un número solo si este es par:"
      ]
    },
    {
      "cell_type": "code",
      "metadata": {
        "id": "hH1N3lQXeJu7",
        "colab_type": "code",
        "colab": {}
      },
      "source": [
        " def cuadrado_de_par(numero):\n",
        "...     if not numero % 2 == 0:\n",
        "...         return\n",
        "...     else:\n",
        "...         print(numero ** 2)\n",
        "...     \n",
        " cuadrado_de_par(8)\n",
        "64\n",
        " cuadrado_de_par(3)"
      ],
      "execution_count": null,
      "outputs": []
    },
    {
      "cell_type": "markdown",
      "metadata": {
        "id": "oYmbrBJveP3i",
        "colab_type": "text"
      },
      "source": [
        "##Varios return en una misma función\n",
        "La función es_par() devuelve True si un número es par y False en caso contrario:"
      ]
    },
    {
      "cell_type": "code",
      "metadata": {
        "id": "mxloSraUeUOD",
        "colab_type": "code",
        "colab": {}
      },
      "source": [
        " def es_par(numero):\n",
        "...     if numero % 2 == 0:\n",
        "...         return True\n",
        "...     else:\n",
        "...         return False\n",
        "...     \n",
        " es_par(2)\n",
        "True\n",
        " es_par(5)\n",
        "False"
      ],
      "execution_count": null,
      "outputs": []
    },
    {
      "cell_type": "markdown",
      "metadata": {
        "id": "c-Ot0BZzeZZR",
        "colab_type": "text"
      },
      "source": [
        "##Devolver más de un valor con return en Python\n",
        "En Python, es posible devolver más de un valor con una sola sentencia return. Por defecto, con return se puede devolver una tupla de valores. Un ejemplo sería la siguiente función cuadrado_y_cubo() que devuelve el cuadrado y el cubo de un número:"
      ]
    },
    {
      "cell_type": "code",
      "metadata": {
        "id": "-RNG_pxtebCL",
        "colab_type": "code",
        "colab": {}
      },
      "source": [
        " def cuadrado_y_cubo(numero):\n",
        "...     return numero ** 2, numero ** 3\n",
        "... \n",
        " cuad, cubo = cuadrado_y_cubo(4)\n",
        " cuad\n",
        "16\n",
        " cubo\n",
        "64"
      ],
      "execution_count": null,
      "outputs": []
    },
    {
      "cell_type": "markdown",
      "metadata": {
        "id": "gkVDbeodeckS",
        "colab_type": "text"
      },
      "source": [
        "Sin embargo, se puede usar otra técnica devolviendo los diferentes resultados/valores en una lista. Por ejemplo, la función tabla_del() que se muestra a continuación hace esto:"
      ]
    },
    {
      "cell_type": "code",
      "metadata": {
        "id": "9PGEbKjLed19",
        "colab_type": "code",
        "colab": {}
      },
      "source": [
        " def tabla_del(numero):\n",
        "...     resultados = []\n",
        "...     for i in range(11):\n",
        "...         resultados.append(numero * i)\n",
        "...     return resultados\n",
        "... \n",
        " res = tabla_del(3)\n",
        " res\n",
        "[0, 3, 6, 9, 12, 15, 18, 21, 24, 27, 30]"
      ],
      "execution_count": null,
      "outputs": []
    },
    {
      "cell_type": "markdown",
      "metadata": {
        "id": "pluGs8mjegfK",
        "colab_type": "text"
      },
      "source": [
        "##En Python una función siempre devuelve un valor\n",
        "Python, a diferencia de otros lenguajes de programación, no tiene procedimientos. Un procedimiento sería como una función pero que no devuelve ningún valor.\n",
        "\n",
        "¿Por qué no tiene procedimientos si hemos vistos ejemplos de funciones que no retornan ningún valor? Porque Python, internamente, devuelve por defecto el valor None cuando en una función no aparece la sentencia return o esta no devuelve nada."
      ]
    },
    {
      "cell_type": "code",
      "metadata": {
        "id": "_QEmKSIxejNM",
        "colab_type": "code",
        "colab": {}
      },
      "source": [
        " def saludo(nombre):\n",
        "...     print(f'Hola {nombre}')\n",
        "...     \n",
        " print(saludo('j2logo'))\n",
        "Hola j2logo\n",
        "None"
      ],
      "execution_count": null,
      "outputs": []
    },
    {
      "cell_type": "markdown",
      "metadata": {
        "id": "Fzel7hWZelQc",
        "colab_type": "text"
      },
      "source": [
        "Como puedes ver en el ejemplo anterior, el print que envuelve a la función saludo() muestra None."
      ]
    },
    {
      "cell_type": "markdown",
      "metadata": {
        "id": "DK72HXC9eq0R",
        "colab_type": "text"
      },
      "source": [
        "##Parámetros de las funciones en Python\n",
        "Tal y como te he indicado, una función puede definir, opcionalmente, una secuencia de parámetros con los que invocarla. ¿Cómo se asignan en Python los valores a los parámetros? ¿Se puede modificar el valor de una variable dentro de una función?\n",
        "\n",
        "Antes de contestar a estas dos preguntas, tenemos que conocer los conceptos de programación paso por valor y paso por referencia.\n",
        "\n",
        "Paso por valor: Un lenguaje de programación que utiliza paso por valor de los argumentos, lo que realmente hace es copiar el valor de las variables en los respectivos parámetros. Cualquier modificación del valor del parámetro, no afecta a la variable externa correspondiente.\n",
        "Paso por referencia: Un lenguaje de programación que utiliza paso por referencia, lo que realmente hace es copiar en los parámetros la dirección de memoria de las variables que se usan como argumento. Esto implica que realmente hagan referencia al mismo objeto/elemento y cualquier modificación del valor en el parámetro afectará a la variable externa correspondiente.\n",
        "Muchos lenguajes de programación usan a la vez paso por valor y por referencia en función del tipo de la variable. Por ejemplo, paso por valor para los tipos simples: entero, float, … y paso por referencia para los objetos.\n",
        "\n",
        "Sin embargo, en Python todo es un objeto. Ya vimos esto en el tutorial sobre variables. Entonces, ¿cómo se pasan los argumentos en Python, por valor o por referencia? Lo que ocurre en Python realmente es que se pasa por valor la referencia del objeto. ¿Qué implicaciones tiene esto? Básicamente que si el tipo que se pasa como argumento es inmutable, cualquier modificación en el valor del parámetro no afectará a la variable externa pero, si es mutable (como una lista o diccionario), sí se verá afectado por las modificaciones. Así que, ¡¡¡cuidado!!! Para complementar esta explicación, no te pierdas la siguiente sección."
      ]
    },
    {
      "cell_type": "markdown",
      "metadata": {
        "id": "-0qwwB_3e29X",
        "colab_type": "text"
      },
      "source": [
        "##Ámbito y ciclo de vida de las variables\n",
        "En cualquier lenguaje de programación de alto nivel, toda variable está definida dentro de un ámbito. Esto es, los sitios en los que la variable tiene sentido y dónde se puede utilizar.\n",
        "\n",
        "Los parámetros y variables definidos dentro de una función tienen un ámbito local, local a la propia función. Por tanto, estos parámetros y variables no pueden ser utilizados fuera de la función porque no serían reconocidos.\n",
        "\n",
        "El ciclo de vida de una variable determina el tiempo en que una variable permanece en memoria. Una variable dentro de una función existe en memoria durante el tiempo en que está ejecutándose dicha función. Una vez que termina su ejecución, sus variables y parámetros desaparecen de memoria y, por tanto, no pueden ser referenciados."
      ]
    },
    {
      "cell_type": "code",
      "metadata": {
        "id": "a3_huiqIe8XT",
        "colab_type": "code",
        "colab": {}
      },
      "source": [
        " def saludo(nombre):\n",
        "...     x = 10\n",
        "...     print(f'Hola {nombre}')\n",
        "...     \n",
        " saludo('j2logo')\n",
        "Hola j2logo\n",
        " print(x)\n",
        "Traceback (most recent call last):\n",
        "  File \"<input>\", line 1, in <module>\n",
        "NameError: name 'x' is not defined"
      ],
      "execution_count": null,
      "outputs": []
    },
    {
      "cell_type": "markdown",
      "metadata": {
        "id": "h8rMDK_Ye-sx",
        "colab_type": "text"
      },
      "source": [
        "Como ves, en el ejemplo anterior, al tratar de mostrar por pantalla el valor de la variable x, el intérprete mostrará un error.\n",
        "\n",
        "El siguiente ejemplo es diferente:"
      ]
    },
    {
      "cell_type": "code",
      "metadata": {
        "id": "ahSKrSf3fAO1",
        "colab_type": "code",
        "colab": {}
      },
      "source": [
        " def muestra_x():\n",
        "...     x = 10\n",
        "...     print(f'x vale {x}')\n",
        "...     \n",
        " x = 20\n",
        " muestra_x()\n",
        "x vale 10\n",
        " print(x)\n",
        "20"
      ],
      "execution_count": null,
      "outputs": []
    },
    {
      "cell_type": "markdown",
      "metadata": {
        "id": "rM9JLyzSfCB6",
        "colab_type": "text"
      },
      "source": [
        "Lo que sucede en este ejemplo es que dentro de la función muestra_x() se está creando una nueva variable x que, precisamente, tiene el mismo nombre que la variable definida fuera de la función. Por tanto, x dentro de la función tiene el valor 10, pero una vez que la función termina, x hace referencia a la variable definida fuera, cuyo valor es 20.\n",
        "\n",
        "Las variables definidas fuera de una función tienen un ámbito conocido como global y son visibles dentro de las funciones, dónde solo se puede consultar su valor."
      ]
    },
    {
      "cell_type": "code",
      "metadata": {
        "id": "ytkEExZsfDn_",
        "colab_type": "code",
        "colab": {}
      },
      "source": [
        " y = 20\n",
        " def muestra_x():\n",
        "...     x = 10\n",
        "...     print(f'x vale {x}')\n",
        "...     print(f'y vale {y}')\n",
        "...     \n",
        " muestra_x()\n",
        "x vale 10\n",
        "y vale 20"
      ],
      "execution_count": null,
      "outputs": []
    },
    {
      "cell_type": "markdown",
      "metadata": {
        "id": "ETAmGNf1fIBw",
        "colab_type": "text"
      },
      "source": [
        "Para modificar dentro de una función una variable definida fuera de la misma, hay que usar la palabra reservada global para declarar la variable dentro de la función"
      ]
    }
  ]
}