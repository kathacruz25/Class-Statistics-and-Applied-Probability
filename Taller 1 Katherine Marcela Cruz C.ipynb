{
 "cells": [
  {
   "cell_type": "markdown",
   "metadata": {
    "colab_type": "text",
    "id": "f6dFpJXs2R1O"
   },
   "source": [
    "##### Nombre: Katherine Marcela Cruz Cáceres"
   ]
  },
  {
   "cell_type": "code",
   "execution_count": 1,
   "metadata": {},
   "outputs": [],
   "source": [
    "#librerias y paquetes\n",
    "\n",
    "import random \n",
    "import numpy as np"
   ]
  },
  {
   "cell_type": "markdown",
   "metadata": {},
   "source": [
    "# Taller 1\n",
    "## Punto 1\n",
    "Escriba un programa que simule el juego Piedra, papel, tijera para dos jugadores (Inés y Juan).\n",
    "\n",
    "Las reglas del juego son las siguientes:\n",
    "\n",
    "1.) Simultáneamente, los dos jugadores muestran una mano en tres posibles posiciones:\n",
    "  * Piedra: se muestra el puño cerrado.\n",
    "  * Papel: se muestra la palma de la mano.\n",
    "  * Tijera: se muestra la palma de la mano con los dedos separados en dos grupos.\n",
    "\n",
    "2.) El jugador que ha sacado Piedra gana al jugador que ha sacado Tijera.\n",
    "\n",
    "3.) El jugador que ha sacado Tijera gana al jugador que ha sacado Papel.\n",
    "\n",
    "4.) El jugador que ha sacado Papel gana al jugador que ha sacado Piedra.\n",
    "\n",
    "**Nota:** Investige sobre la libreria ramdom."
   ]
  },
  {
   "cell_type": "markdown",
   "metadata": {
    "colab": {},
    "colab_type": "code",
    "id": "m_yK6PHS18lr"
   },
   "source": [
    "##### Solución"
   ]
  },
  {
   "cell_type": "code",
   "execution_count": 36,
   "metadata": {},
   "outputs": [
    {
     "name": "stdout",
     "output_type": "stream",
     "text": [
      "Piedra , Papel y Tijera!!\n",
      "Juan ha sacado: piedra\n",
      "Ines ha sacado: tijera\n",
      "Juan ha ganado la partida por que piedra le gana a tijera\n"
     ]
    }
   ],
   "source": [
    "def juego():\n",
    "    \n",
    "    juego = [\"piedra\", \"papel\", \"tijera\"]\n",
    "    \n",
    "    juan = random.choice(juego)\n",
    "    inez = random.choice(juego)\n",
    "    \n",
    "    print(\"Piedra , Papel y Tijera!!\")\n",
    "    print(\"Juan ha sacado: \" + juan )\n",
    "    print(\"Ines ha sacado: \" + inez)\n",
    "    \n",
    "    if juan == inez:\n",
    "        print(\"oh no!, ha habido un empate\")\n",
    "    elif juan == \"piedra\" and inez == \"tijera\":\n",
    "        print(\"Juan ha ganado la partida por que \"+ juan + \" le gana a \" +inez)\n",
    "    elif juan == \"tijera\" and inez == \"papel\":\n",
    "        print(\"Juan ha ganado la partida por que \"+ juan + \" le gana a \"+ inez)\n",
    "    elif juan == \"papel\" and inez == \"piedra\":\n",
    "        print(\"Juan ha ganado la partida por que \"+ juan + \" le gana a \"+ inez)\n",
    "    elif inez == \"piedra\" and juan == \"tijera\":\n",
    "        print(\"Inez ha ganado la partida por que \"+ inez + \" le gana a \" +juan)\n",
    "    elif inez == \"tijera\" and juan == \"papel\":\n",
    "        print(\"Inez ha ganado la partida por que \"+ inez + \" le gana a \" +juan)\n",
    "    elif inez == \"papel\" and juan == \"piedra\":\n",
    "        print(\"Inez ha ganado la partida por que \"+ inez + \" le gana a \" +juan)\n",
    "    \n",
    "juego()"
   ]
  },
  {
   "cell_type": "markdown",
   "metadata": {
    "colab_type": "text",
    "id": "MBJgau355Fdy"
   },
   "source": [
    "# Punto 2\n",
    "Generar una matriz de 7 por 9. Las primeras 3 columnas de la matriz tienen que tener el valor 0. \n",
    "\n",
    "La cuarta columna debe tener el valor 0.5, excepto por el último valor de esa columna, que tiene que ser 0.7.\n",
    "\n",
    "Las otras tres columnas deben tener el valor 1.\n",
    "\n",
    "* Luego imprimir la matriz\n",
    "* Imprimir también el promedio de la ultima fila."
   ]
  },
  {
   "cell_type": "markdown",
   "metadata": {},
   "source": [
    "###### Solución"
   ]
  },
  {
   "cell_type": "code",
   "execution_count": 22,
   "metadata": {
    "colab": {},
    "colab_type": "code",
    "id": "qRoMq-j_2wVg"
   },
   "outputs": [
    {
     "name": "stdout",
     "output_type": "stream",
     "text": [
      "- Matriz de 7 por 9:\n",
      "[[0.  0.  0.  0.5 1.  1.  1.  0.  0. ]\n",
      " [0.  0.  0.  0.5 1.  1.  1.  0.  0. ]\n",
      " [0.  0.  0.  0.5 1.  1.  1.  0.  0. ]\n",
      " [0.  0.  0.  0.5 1.  1.  1.  0.  0. ]\n",
      " [0.  0.  0.  0.5 1.  1.  1.  0.  0. ]\n",
      " [0.  0.  0.  0.5 1.  1.  1.  0.  0. ]\n",
      " [0.  0.  0.  0.7 1.  1.  1.  0.  0. ]]\n",
      " El promedio de los elementos de la ultima fila es: \n",
      "0.41111111111111115\n"
     ]
    }
   ],
   "source": [
    "print(\"- Matriz de 7 por 9:\")\n",
    "dimensiones=(7,9)\n",
    "matriz = np.zeros(dimensiones)\n",
    "\n",
    "a = matriz\n",
    "\n",
    "## Cambio de cuarta a columna a 0.5\n",
    "a[:,3] = 0.5\n",
    "\n",
    "### Cambio de el ultimo valor de la cuarta fila a 0.7\n",
    "a[6,3]=0.7\n",
    "\n",
    "## Cambio de las siguientes tres columnas por valor de 1\n",
    "a[:,4] = 1\n",
    "a[:,5] = 1\n",
    "a[:,6] = 1\n",
    "\n",
    "## Imprimir la matriz \n",
    "print(a)\n",
    "\n",
    "## Promedio de la ultima fila\n",
    "ultima_fila = a[6,:]\n",
    "\n",
    "print(\" El promedio de los elementos de la ultima fila es: \")\n",
    "print(np.mean(ultima_fila))\n"
   ]
  },
  {
   "cell_type": "markdown",
   "metadata": {
    "colab_type": "text",
    "id": "6Wj88Sgc5n0K"
   },
   "source": [
    "# Punto 3\n",
    "La siguiente linea crea una matriz aleatoria de 5 por 5 con valores entre 0 y 1\n",
    "\n",
    "```\n",
    "matriz_aleatoria=np.random.rand(5,5) \n",
    "print(matriz_aleatoria)\n",
    "```\n",
    "\n",
    "Imprimir las posiciones (Fila y columna) de los elementos de la matriz que son mayores que 0.5\n"
   ]
  },
  {
   "cell_type": "markdown",
   "metadata": {
    "colab": {},
    "colab_type": "code",
    "id": "uMoZEStT59dK"
   },
   "source": [
    "###### Solución"
   ]
  },
  {
   "cell_type": "code",
   "execution_count": 34,
   "metadata": {},
   "outputs": [
    {
     "name": "stdout",
     "output_type": "stream",
     "text": [
      "[[0.1218672  0.59316649 0.89137543 0.96281802 0.83275715]\n",
      " [0.82022522 0.74088933 0.15803564 0.270914   0.89617049]\n",
      " [0.86886349 0.68633743 0.4735651  0.59758097 0.98938439]\n",
      " [0.03503576 0.5160792  0.05110598 0.6742156  0.25676552]\n",
      " [0.46701187 0.52870404 0.89954294 0.77652494 0.02686704]]\n",
      " \n",
      "La posicion'(fila y columna)' \n",
      "0 1\n",
      " tiene elementos de la matriz mayores a 0.5\n",
      " \n",
      "La posicion'(fila y columna)' \n",
      "0 2\n",
      " tiene elementos de la matriz mayores a 0.5\n",
      " \n",
      "La posicion'(fila y columna)' \n",
      "0 3\n",
      " tiene elementos de la matriz mayores a 0.5\n",
      " \n",
      "La posicion'(fila y columna)' \n",
      "0 4\n",
      " tiene elementos de la matriz mayores a 0.5\n",
      " \n",
      "La posicion'(fila y columna)' \n",
      "1 0\n",
      " tiene elementos de la matriz mayores a 0.5\n",
      " \n",
      "La posicion'(fila y columna)' \n",
      "1 1\n",
      " tiene elementos de la matriz mayores a 0.5\n",
      " \n",
      "La posicion'(fila y columna)' \n",
      "1 4\n",
      " tiene elementos de la matriz mayores a 0.5\n",
      " \n",
      "La posicion'(fila y columna)' \n",
      "2 0\n",
      " tiene elementos de la matriz mayores a 0.5\n",
      " \n",
      "La posicion'(fila y columna)' \n",
      "2 1\n",
      " tiene elementos de la matriz mayores a 0.5\n",
      " \n",
      "La posicion'(fila y columna)' \n",
      "2 3\n",
      " tiene elementos de la matriz mayores a 0.5\n",
      " \n",
      "La posicion'(fila y columna)' \n",
      "2 4\n",
      " tiene elementos de la matriz mayores a 0.5\n",
      " \n",
      "La posicion'(fila y columna)' \n",
      "3 1\n",
      " tiene elementos de la matriz mayores a 0.5\n",
      " \n",
      "La posicion'(fila y columna)' \n",
      "3 3\n",
      " tiene elementos de la matriz mayores a 0.5\n",
      " \n",
      "La posicion'(fila y columna)' \n",
      "4 1\n",
      " tiene elementos de la matriz mayores a 0.5\n",
      " \n",
      "La posicion'(fila y columna)' \n",
      "4 2\n",
      " tiene elementos de la matriz mayores a 0.5\n",
      " \n",
      "La posicion'(fila y columna)' \n",
      "4 3\n",
      " tiene elementos de la matriz mayores a 0.5\n",
      " \n"
     ]
    }
   ],
   "source": [
    "am = np.random.rand(5,5)\n",
    "print(am)\n",
    "print(\" \")\n",
    "for i in range(5):\n",
    "    for j in range(5):\n",
    "        \n",
    "        if am[i][j]>0.5:\n",
    "            print(\"La posicion'(fila y columna)' \")\n",
    "            print(i,j)\n",
    "            print(\" tiene elementos de la matriz mayores a 0.5\")\n",
    "            print(\" \")"
   ]
  },
  {
   "cell_type": "code",
   "execution_count": null,
   "metadata": {},
   "outputs": [],
   "source": []
  }
 ],
 "metadata": {
  "colab": {
   "collapsed_sections": [],
   "name": "Taller_1.ipynb",
   "provenance": []
  },
  "kernelspec": {
   "display_name": "Python 3",
   "language": "python",
   "name": "python3"
  },
  "language_info": {
   "codemirror_mode": {
    "name": "ipython",
    "version": 3
   },
   "file_extension": ".py",
   "mimetype": "text/x-python",
   "name": "python",
   "nbconvert_exporter": "python",
   "pygments_lexer": "ipython3",
   "version": "3.7.4"
  }
 },
 "nbformat": 4,
 "nbformat_minor": 1
}
