{
 "cells": [
  {
   "cell_type": "markdown",
   "metadata": {},
   "source": [
    "##### Nombre: Katherine Marcela Cruz Cáceres  , Taller 3"
   ]
  },
  {
   "cell_type": "markdown",
   "metadata": {
    "id": "fIUHZAyUDRt3"
   },
   "source": [
    "# Taller 3\n",
    "Considere un experimento estadístico en el que tres dados se lancen una vez.\n",
    "\n",
    "El siguiente código genera el espacio muestral del experimento"
   ]
  },
  {
   "cell_type": "code",
   "execution_count": 2,
   "metadata": {
    "id": "8-fReXD6xQNB"
   },
   "outputs": [],
   "source": [
    "import itertools\n",
    "import numpy as np\n",
    "listas = [range(1,7),range(1,7), range(1,7)]\n",
    "jugadas = np.array(list(itertools.product(*listas))) # producto cartesiano"
   ]
  },
  {
   "cell_type": "markdown",
   "metadata": {
    "id": "pwCAPFONExHK"
   },
   "source": [
    "1.) Encuentre la probabilidad de que la suma de los tres dados sea 9"
   ]
  },
  {
   "cell_type": "code",
   "execution_count": null,
   "metadata": {
    "colab": {
     "base_uri": "https://localhost:8080/",
     "height": 34
    },
    "id": "vbkLth0Z1xGh",
    "outputId": "6fae77ec-b02d-4242-806e-5c3b84ff13f2"
   },
   "outputs": [
    {
     "data": {
      "text/plain": [
       "0.11574074074074074"
      ]
     },
     "execution_count": 53,
     "metadata": {
      "tags": []
     },
     "output_type": "execute_result"
    }
   ],
   "source": [
    "#Escriba su código aquí"
   ]
  },
  {
   "cell_type": "code",
   "execution_count": 2,
   "metadata": {},
   "outputs": [
    {
     "data": {
      "text/plain": [
       "array([[1, 2, 6],\n",
       "       [1, 3, 5],\n",
       "       [1, 4, 4],\n",
       "       [1, 5, 3],\n",
       "       [1, 6, 2],\n",
       "       [2, 1, 6],\n",
       "       [2, 2, 5],\n",
       "       [2, 3, 4],\n",
       "       [2, 4, 3],\n",
       "       [2, 5, 2],\n",
       "       [2, 6, 1],\n",
       "       [3, 1, 5],\n",
       "       [3, 2, 4],\n",
       "       [3, 3, 3],\n",
       "       [3, 4, 2],\n",
       "       [3, 5, 1],\n",
       "       [4, 1, 4],\n",
       "       [4, 2, 3],\n",
       "       [4, 3, 2],\n",
       "       [4, 4, 1],\n",
       "       [5, 1, 3],\n",
       "       [5, 2, 2],\n",
       "       [5, 3, 1],\n",
       "       [6, 1, 2],\n",
       "       [6, 2, 1]])"
      ]
     },
     "execution_count": 2,
     "metadata": {},
     "output_type": "execute_result"
    }
   ],
   "source": [
    "jugadas9 = jugadas[np.sum(jugadas, axis=1)==9]\n",
    "jugadas9"
   ]
  },
  {
   "cell_type": "code",
   "execution_count": 3,
   "metadata": {},
   "outputs": [
    {
     "name": "stdout",
     "output_type": "stream",
     "text": [
      "La probabilidad del evento A es: 0.11574074074074074\n"
     ]
    }
   ],
   "source": [
    "p9 = len(jugadas9)/len(jugadas)\n",
    "print(f'La probabilidad del evento A es: {p9}')"
   ]
  },
  {
   "cell_type": "markdown",
   "metadata": {
    "id": "zg9He83LE4yK"
   },
   "source": [
    "2.) Encuentre la probabilidad de que al menos dos dados tenga un número par."
   ]
  },
  {
   "cell_type": "code",
   "execution_count": null,
   "metadata": {
    "colab": {
     "base_uri": "https://localhost:8080/",
     "height": 34
    },
    "id": "1WpacyNE6GX6",
    "outputId": "fd1bef21-9eec-4cc3-9c24-e62f6cd01086"
   },
   "outputs": [
    {
     "name": "stdout",
     "output_type": "stream",
     "text": [
      "La probabilidad de que al menos dos dados tengan número par es: 0.5\n"
     ]
    }
   ],
   "source": [
    "#Escriba su código aquí"
   ]
  },
  {
   "cell_type": "code",
   "execution_count": 15,
   "metadata": {},
   "outputs": [],
   "source": [
    "import itertools \n",
    "import numpy as np\n",
    "dados = [range(1,7),range(1,7)]\n",
    "jugadas = np.array(list(itertools.product(*listas)))"
   ]
  },
  {
   "cell_type": "code",
   "execution_count": 16,
   "metadata": {},
   "outputs": [
    {
     "name": "stdout",
     "output_type": "stream",
     "text": [
      "La probabilidad de que al menos dos dados tengan número par es: 0.5\n"
     ]
    }
   ],
   "source": [
    "jugadas_dados = jugadas[np.sum(jugadas, axis=1)%2==0]\n",
    "pro = len(jugadas_dados)/len(jugadas)S\n",
    "print(f'La probabilidad de que al menos dos dados tengan número par es: {pro}')"
   ]
  },
  {
   "cell_type": "markdown",
   "metadata": {
    "id": "PSpsqlN0FIPS"
   },
   "source": [
    "3). Encuentre la probabilidad de que dado al menos dos dados tengan un número par, la suma de todos los dados sea 9."
   ]
  },
  {
   "cell_type": "code",
   "execution_count": null,
   "metadata": {
    "colab": {
     "base_uri": "https://localhost:8080/",
     "height": 34
    },
    "id": "6pf60m-Y5rou",
    "outputId": "cdffcf8e-67aa-4502-8cb3-0e0b8cebe6d1"
   },
   "outputs": [
    {
     "data": {
      "text/plain": [
       "0.08333333333333333"
      ]
     },
     "execution_count": 51,
     "metadata": {
      "tags": []
     },
     "output_type": "execute_result"
    }
   ],
   "source": [
    "#Escriba su código aquí"
   ]
  },
  {
   "cell_type": "code",
   "execution_count": 31,
   "metadata": {
    "id": "kScI7xmS8BqI"
   },
   "outputs": [
    {
     "data": {
      "text/plain": [
       "108"
      ]
     },
     "execution_count": 31,
     "metadata": {},
     "output_type": "execute_result"
    }
   ],
   "source": [
    "import itertools\n",
    "import numpy as np\n",
    "dados_3 = [range(1,7),range(1,7), range(1,7)]\n",
    "jug = np.array(list(itertools.product(*dados_3))) # producto cartesiano\n",
    "jugadas_dados_3 = jug[np.sum(jug, axis=1)%2==0]\n",
    "len(jugadas_dados_3)"
   ]
  },
  {
   "cell_type": "code",
   "execution_count": 33,
   "metadata": {},
   "outputs": [
    {
     "data": {
      "text/plain": [
       "0.08333333333333333"
      ]
     },
     "execution_count": 33,
     "metadata": {},
     "output_type": "execute_result"
    }
   ],
   "source": [
    "probabilidad = 9 / len(jugadas_dados_3)\n",
    "probabilidad"
   ]
  }
 ],
 "metadata": {
  "colab": {
   "collapsed_sections": [],
   "name": "Taller_3.ipynb",
   "provenance": []
  },
  "kernelspec": {
   "display_name": "Python 3",
   "language": "python",
   "name": "python3"
  },
  "language_info": {
   "codemirror_mode": {
    "name": "ipython",
    "version": 3
   },
   "file_extension": ".py",
   "mimetype": "text/x-python",
   "name": "python",
   "nbconvert_exporter": "python",
   "pygments_lexer": "ipython3",
   "version": "3.8.3"
  }
 },
 "nbformat": 4,
 "nbformat_minor": 1
}
