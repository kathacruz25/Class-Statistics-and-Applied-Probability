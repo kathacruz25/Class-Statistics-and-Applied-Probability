{
 "cells": [
  {
   "cell_type": "markdown",
   "metadata": {
    "colab_type": "text",
    "id": "nrpL1I3OUC0l"
   },
   "source": [
    "# Introdución a la libreria numpy\n",
    "\n",
    "NumPy es una librería de Python especializada en el cálculo numérico y el análisis de datos, especialmente para un gran volumen de datos.\n",
    "\n",
    "Incorpora una nueva clase de objetos llamados arrays que permite representar colecciones de datos de un mismo tipo en varias dimensiones, y funciones muy eficientes para su manipulación.\n",
    "\n",
    "Para comenzar a usar numpy, se debe importar la librería. En este caso la vamos a importar, y darle un sobrenombre al mismo tiempo, **np**, para que el código sea más legible"
   ]
  },
  {
   "cell_type": "code",
   "execution_count": 1,
   "metadata": {
    "colab": {},
    "colab_type": "code",
    "executionInfo": {
     "elapsed": 959,
     "status": "ok",
     "timestamp": 1598576118208,
     "user": {
      "displayName": "katha Cruz",
      "photoUrl": "https://lh3.googleusercontent.com/a-/AOh14Ghvn42wtJcJxN0hEwUFiHJsmQOS8AJ5tHOFvbCZ=s64",
      "userId": "05757427077370179687"
     },
     "user_tz": 300
    },
    "id": "MTenX-LlT9E_"
   },
   "outputs": [],
   "source": [
    "# importamos la librería numpy, y le damos como nombre np dentro del programa\n",
    "import numpy as np"
   ]
  },
  {
   "cell_type": "markdown",
   "metadata": {
    "colab_type": "text",
    "id": "ZOZARWh2UpjA"
   },
   "source": [
    "Ahora que tenemos la librería, empecemos creando un vector de 5 elementos.\n",
    "\n",
    "La manera más común de crear una un vector o matriz ya inicializada es con la función np.array, que toma una lista (o lista de listas) como parámetro y devuelve una matriz de numpy."
   ]
  },
  {
   "cell_type": "code",
   "execution_count": 3,
   "metadata": {
    "colab": {
     "base_uri": "https://localhost:8080/",
     "height": 34
    },
    "colab_type": "code",
    "executionInfo": {
     "elapsed": 1846,
     "status": "ok",
     "timestamp": 1598576258426,
     "user": {
      "displayName": "katha Cruz",
      "photoUrl": "https://lh3.googleusercontent.com/a-/AOh14Ghvn42wtJcJxN0hEwUFiHJsmQOS8AJ5tHOFvbCZ=s64",
      "userId": "05757427077370179687"
     },
     "user_tz": 300
    },
    "id": "mtPy5hjjUChl",
    "outputId": "f6a3d09f-c78f-42f9-c754-e0ae693b15ef"
   },
   "outputs": [
    {
     "name": "stdout",
     "output_type": "stream",
     "text": [
      "[25.  12.  15.  66.  12.5]\n"
     ]
    }
   ],
   "source": [
    "lista=[25,12,15,66,12.5]\n",
    "vector=np.array(lista)\n",
    "print(vector)"
   ]
  },
  {
   "cell_type": "code",
   "execution_count": 4,
   "metadata": {
    "colab": {
     "base_uri": "https://localhost:8080/",
     "height": 34
    },
    "colab_type": "code",
    "executionInfo": {
     "elapsed": 1219,
     "status": "ok",
     "timestamp": 1598576262207,
     "user": {
      "displayName": "katha Cruz",
      "photoUrl": "https://lh3.googleusercontent.com/a-/AOh14Ghvn42wtJcJxN0hEwUFiHJsmQOS8AJ5tHOFvbCZ=s64",
      "userId": "05757427077370179687"
     },
     "user_tz": 300
    },
    "id": "AHHKkVl2kPxx",
    "outputId": "64164f51-e1c3-4c36-8d3f-cf50235ae214"
   },
   "outputs": [
    {
     "data": {
      "text/plain": [
       "list"
      ]
     },
     "execution_count": 4,
     "metadata": {
      "tags": []
     },
     "output_type": "execute_result"
    }
   ],
   "source": [
    "type(lista)"
   ]
  },
  {
   "cell_type": "code",
   "execution_count": 5,
   "metadata": {
    "colab": {
     "base_uri": "https://localhost:8080/",
     "height": 34
    },
    "colab_type": "code",
    "executionInfo": {
     "elapsed": 945,
     "status": "ok",
     "timestamp": 1598576295952,
     "user": {
      "displayName": "katha Cruz",
      "photoUrl": "https://lh3.googleusercontent.com/a-/AOh14Ghvn42wtJcJxN0hEwUFiHJsmQOS8AJ5tHOFvbCZ=s64",
      "userId": "05757427077370179687"
     },
     "user_tz": 300
    },
    "id": "JdFHm8QAkg3T",
    "outputId": "bbbfe227-6ab9-420b-b61f-54313058eb92"
   },
   "outputs": [
    {
     "data": {
      "text/plain": [
       "numpy.ndarray"
      ]
     },
     "execution_count": 5,
     "metadata": {
      "tags": []
     },
     "output_type": "execute_result"
    }
   ],
   "source": [
    "type(vector)"
   ]
  },
  {
   "cell_type": "markdown",
   "metadata": {
    "colab_type": "text",
    "id": "QnA518JyZfm7"
   },
   "source": [
    "Un vector (a diferencia de una lista), al ser un arreglo de numpy, nos permite hacer varias operaciones matemáticas de forma muy simple."
   ]
  },
  {
   "cell_type": "code",
   "execution_count": 6,
   "metadata": {
    "colab": {
     "base_uri": "https://localhost:8080/",
     "height": 87
    },
    "colab_type": "code",
    "executionInfo": {
     "elapsed": 2118,
     "status": "ok",
     "timestamp": 1598576304020,
     "user": {
      "displayName": "katha Cruz",
      "photoUrl": "https://lh3.googleusercontent.com/a-/AOh14Ghvn42wtJcJxN0hEwUFiHJsmQOS8AJ5tHOFvbCZ=s64",
      "userId": "05757427077370179687"
     },
     "user_tz": 300
    },
    "id": "b-OOqPF9Ux9o",
    "outputId": "abad4b35-0bdc-4a14-91dc-95f3e5df38d7"
   },
   "outputs": [
    {
     "name": "stdout",
     "output_type": "stream",
     "text": [
      "- sumarle 1 a cada elemento del vector:\n",
      "[26.  13.  16.  67.  13.5]\n",
      "- multiplicar por 5 cada elemento del vector:\n",
      "[125.   60.   75.  330.   62.5]\n"
     ]
    }
   ],
   "source": [
    "print(\"- sumarle 1 a cada elemento del vector:\")\n",
    "print(vector+1)\n",
    "print(\"- multiplicar por 5 cada elemento del vector:\")\n",
    "print(vector*5)"
   ]
  },
  {
   "cell_type": "code",
   "execution_count": 9,
   "metadata": {
    "colab": {
     "base_uri": "https://localhost:8080/",
     "height": 52
    },
    "colab_type": "code",
    "executionInfo": {
     "elapsed": 2195,
     "status": "ok",
     "timestamp": 1598576625761,
     "user": {
      "displayName": "katha Cruz",
      "photoUrl": "https://lh3.googleusercontent.com/a-/AOh14Ghvn42wtJcJxN0hEwUFiHJsmQOS8AJ5tHOFvbCZ=s64",
      "userId": "05757427077370179687"
     },
     "user_tz": 300
    },
    "id": "mz0k5MchWYM9",
    "outputId": "ddd4ab18-2c4d-47b0-d924-927d067a10b9"
   },
   "outputs": [
    {
     "name": "stdout",
     "output_type": "stream",
     "text": [
      "- suma de los elementos:\n",
      "130.5\n"
     ]
    }
   ],
   "source": [
    "print(\"- suma de los elementos:\")\n",
    "print(np.sum(vector))"
   ]
  },
  {
   "cell_type": "code",
   "execution_count": 10,
   "metadata": {
    "colab": {
     "base_uri": "https://localhost:8080/",
     "height": 52
    },
    "colab_type": "code",
    "executionInfo": {
     "elapsed": 1342,
     "status": "ok",
     "timestamp": 1598576628320,
     "user": {
      "displayName": "katha Cruz",
      "photoUrl": "https://lh3.googleusercontent.com/a-/AOh14Ghvn42wtJcJxN0hEwUFiHJsmQOS8AJ5tHOFvbCZ=s64",
      "userId": "05757427077370179687"
     },
     "user_tz": 300
    },
    "id": "vNgb8Zw0Z-jI",
    "outputId": "195c41cf-84fc-4003-99e0-2540c70c547c"
   },
   "outputs": [
    {
     "name": "stdout",
     "output_type": "stream",
     "text": [
      "- promedio (media) de los elementos:\n",
      "26.1\n"
     ]
    }
   ],
   "source": [
    "print(\"- promedio (media) de los elementos:\")\n",
    "print(np.mean(vector)) # "
   ]
  },
  {
   "cell_type": "code",
   "execution_count": 11,
   "metadata": {
    "colab": {
     "base_uri": "https://localhost:8080/",
     "height": 87
    },
    "colab_type": "code",
    "executionInfo": {
     "elapsed": 1844,
     "status": "ok",
     "timestamp": 1598576632683,
     "user": {
      "displayName": "katha Cruz",
      "photoUrl": "https://lh3.googleusercontent.com/a-/AOh14Ghvn42wtJcJxN0hEwUFiHJsmQOS8AJ5tHOFvbCZ=s64",
      "userId": "05757427077370179687"
     },
     "user_tz": 300
    },
    "id": "zhsJNBMIaG4W",
    "outputId": "9e962b8c-8445-4f35-832d-16675c38c519"
   },
   "outputs": [
    {
     "name": "stdout",
     "output_type": "stream",
     "text": [
      "- el vector sumado a si mismo:\n",
      "[ 50.  24.  30. 132.  25.]\n",
      "- suma de vectores vector1 y vector2 (mismo tamaño):\n",
      "[36.  67.  16.2 73.4  4.5]\n"
     ]
    }
   ],
   "source": [
    "print(\"- el vector sumado a si mismo:\")\n",
    "print(vector+vector)\n",
    "print(\"- suma de vectores vector1 y vector2 (mismo tamaño):\")\n",
    "vector2=np.array([11,55,1.2,7.4,-8])\n",
    "print(vector+vector2)"
   ]
  },
  {
   "cell_type": "markdown",
   "metadata": {
    "colab_type": "text",
    "id": "brVtvOpHaO-u"
   },
   "source": [
    "## Índices y Slices de vectores\n",
    "Así como con las listas, se utilizan los corchetes ([ ]) para acceder a sus elementos, y se pueden tomar slices o rebanadas del arreglo utilizando **:**\n",
    "\n",
    "Nota: Los elementos de un vector empiezan en la posición 0"
   ]
  },
  {
   "cell_type": "code",
   "execution_count": 12,
   "metadata": {
    "colab": {
     "base_uri": "https://localhost:8080/",
     "height": 105
    },
    "colab_type": "code",
    "executionInfo": {
     "elapsed": 1136,
     "status": "ok",
     "timestamp": 1598576894453,
     "user": {
      "displayName": "katha Cruz",
      "photoUrl": "https://lh3.googleusercontent.com/a-/AOh14Ghvn42wtJcJxN0hEwUFiHJsmQOS8AJ5tHOFvbCZ=s64",
      "userId": "05757427077370179687"
     },
     "user_tz": 300
    },
    "id": "JaED2PoSaczC",
    "outputId": "6e293db6-09a2-4827-ab58-7ec79dcfd76c"
   },
   "outputs": [
    {
     "name": "stdout",
     "output_type": "stream",
     "text": [
      "66.0\n",
      "[12. 15. 66.]\n",
      "[12.  15.  66.  12.5]\n",
      "[25. 12. 15. 66.]\n",
      "[25.  12.  15.  66.  12.5]\n"
     ]
    }
   ],
   "source": [
    "print(vector[3]) # imprime el elemnto ubicado en la posición 3 del vector\n",
    "print(vector[1:4]) # imprime los elementos desde la posición 1 hasta la 3\n",
    "print(vector[1:]) # imprime todos los elementos desde la posición 1\n",
    "print(vector[:4]) # imprime todos los elementos hasta la posición 3\n",
    "print(vector[:]) # imprime todos los elementos similar a print(vector)"
   ]
  },
  {
   "cell_type": "markdown",
   "metadata": {
    "colab_type": "text",
    "id": "S4ScROcbbbVc"
   },
   "source": [
    "##Creación de vectores con valor 0 o 1\n",
    "Es muy común crear un vector con valores 0 o 1. Por ejemplo, cuando se utiliza un vector de contadores, donde cada contador comienza en 0.\n",
    "\n",
    "Para ello, se utiliza las funciones np.zeros y np.ones, respectivamente. Cada una toma como parámetro la cantidad de elementos del vector a crear."
   ]
  },
  {
   "cell_type": "code",
   "execution_count": 14,
   "metadata": {
    "colab": {
     "base_uri": "https://localhost:8080/",
     "height": 153
    },
    "colab_type": "code",
    "executionInfo": {
     "elapsed": 743,
     "status": "ok",
     "timestamp": 1598577212748,
     "user": {
      "displayName": "katha Cruz",
      "photoUrl": "https://lh3.googleusercontent.com/a-/AOh14Ghvn42wtJcJxN0hEwUFiHJsmQOS8AJ5tHOFvbCZ=s64",
      "userId": "05757427077370179687"
     },
     "user_tz": 300
    },
    "id": "fiSrt3LRbnyB",
    "outputId": "c97b3304-6b45-474a-f698-09e15f4f50fb"
   },
   "outputs": [
    {
     "name": "stdout",
     "output_type": "stream",
     "text": [
      "- Vector de ceros:\n",
      "[0. 0. 0. 0. 0.]\n",
      "- Vector de unos:\n",
      "[1. 1. 1. 1. 1.]\n",
      "- Vector con todos los elementos con valor 2:\n",
      "[2. 2. 2. 2. 2.]\n",
      "- Vector con todos los elementos con valor 2 (otra forma):\n",
      "[2. 2. 2. 2. 2.]\n"
     ]
    }
   ],
   "source": [
    "print(\"- Vector de ceros:\")\n",
    "vector_ceros=np.zeros(5)\n",
    "print(vector_ceros)\n",
    "\n",
    "print(\"- Vector de unos:\")\n",
    "vector_unos=np.ones(5)\n",
    "print(vector_unos)\n",
    "\n",
    "\n",
    "#Combinando este tipo de creaciones con las operaciones aritméticas,\n",
    "#podemos hacer varias inicializaciones muy rápidamente\n",
    "# Por ejemplo, para crear un vector cuyos valores iniciales son todos 2.\n",
    "\n",
    "print(\"- Vector con todos los elementos con valor 2:\")\n",
    "vector_dos=np.zeros(5)+2\n",
    "print(vector_dos)\n",
    "\n",
    "print(\"- Vector con todos los elementos con valor 2 (otra forma):\")\n",
    "vector_dos_otro=np.ones(5)*2\n",
    "print(vector_dos_otro)"
   ]
  },
  {
   "cell_type": "markdown",
   "metadata": {
    "colab_type": "text",
    "id": "tSRhUNCMcQ7L"
   },
   "source": [
    "##Matrices\n",
    "Los vectores son arreglos de una sola dimensión. Las matrices son arreglos de dos dimensiones; generalmente a la primera dimensión se la llama la de las filas, mientras que a la otra se la llama la de las columnas.\n",
    "\n",
    "Por ende, para crearlas con np.array, necesitamos no una lista de valores, sino una lista de valores por cada fila, o sea, una lista de listas.\n",
    "\n",
    "Del mismo modo, para crearlas con np.zeros o np.ones, vamos a necesitar una **tupla** con **dos** elementos, uno por cada dimensión."
   ]
  },
  {
   "cell_type": "code",
   "execution_count": 15,
   "metadata": {
    "colab": {
     "base_uri": "https://localhost:8080/",
     "height": 272
    },
    "colab_type": "code",
    "executionInfo": {
     "elapsed": 24573,
     "status": "ok",
     "timestamp": 1598577388870,
     "user": {
      "displayName": "katha Cruz",
      "photoUrl": "https://lh3.googleusercontent.com/a-/AOh14Ghvn42wtJcJxN0hEwUFiHJsmQOS8AJ5tHOFvbCZ=s64",
      "userId": "05757427077370179687"
     },
     "user_tz": 300
    },
    "id": "AaSMLX3FcdZv",
    "outputId": "54b10659-c72e-4635-97b3-dbf61e4ae9fc"
   },
   "outputs": [
    {
     "name": "stdout",
     "output_type": "stream",
     "text": [
      "- Matriz creada con una lista de listas:\n",
      "[[ 1.  -4. ]\n",
      " [12.   3. ]\n",
      " [ 7.2  5. ]]\n",
      "- Matriz creada con np.zeros:\n",
      "[[0. 0. 0.]\n",
      " [0. 0. 0.]]\n",
      "- Matriz creada con np.ones:\n",
      "[[1. 1.]\n",
      " [1. 1.]\n",
      " [1. 1.]]\n",
      "- Copia de la matriz creada con np.ones:\n",
      "[[1. 1.]\n",
      " [1. 1.]\n",
      " [1. 1.]]\n"
     ]
    }
   ],
   "source": [
    "print(\"- Matriz creada con una lista de listas:\")\n",
    "lista_de_listas=[ [1  ,-4], \n",
    "                  [12 , 3], \n",
    "                  [7.2, 5]]\n",
    "matriz = np.array(lista_de_listas)\n",
    "print(matriz)\n",
    "\n",
    "\n",
    "print(\"- Matriz creada con np.zeros:\")\n",
    "dimensiones=(2,3)\n",
    "matriz_ceros = np.zeros(dimensiones)\n",
    "print(matriz_ceros)\n",
    "\n",
    "\n",
    "print(\"- Matriz creada con np.ones:\")\n",
    "dimensiones=(3,2)\n",
    "matriz_unos = np.ones(dimensiones)\n",
    "print(matriz_unos)\n",
    "\n",
    "#también podemos usar np.copy para copiar una matriz \n",
    "print(\"- Copia de la matriz creada con np.ones:\")\n",
    "matriz_unos_copia=np.copy(matriz_unos)\n",
    "print(matriz_unos_copia)"
   ]
  },
  {
   "cell_type": "markdown",
   "metadata": {
    "colab_type": "text",
    "id": "rd8-C1Pdctdi"
   },
   "source": [
    "###Ejercicio\n",
    "Crear una matriz de 4x9, que esté inicializada con el valor 0.5\n"
   ]
  },
  {
   "cell_type": "code",
   "execution_count": 17,
   "metadata": {
    "colab": {
     "base_uri": "https://localhost:8080/",
     "height": 85
    },
    "colab_type": "code",
    "executionInfo": {
     "elapsed": 1498,
     "status": "ok",
     "timestamp": 1598577735688,
     "user": {
      "displayName": "katha Cruz",
      "photoUrl": "https://lh3.googleusercontent.com/a-/AOh14Ghvn42wtJcJxN0hEwUFiHJsmQOS8AJ5tHOFvbCZ=s64",
      "userId": "05757427077370179687"
     },
     "user_tz": 300
    },
    "id": "VBZYFvsPcyNL",
    "outputId": "94b7bb8a-213d-482d-d121-e166f522abf3"
   },
   "outputs": [
    {
     "name": "stdout",
     "output_type": "stream",
     "text": [
      "[[0.5 0.5 0.5 0.5 0.5 0.5 0.5 0.5 0.5]\n",
      " [0.5 0.5 0.5 0.5 0.5 0.5 0.5 0.5 0.5]\n",
      " [0.5 0.5 0.5 0.5 0.5 0.5 0.5 0.5 0.5]\n",
      " [0.5 0.5 0.5 0.5 0.5 0.5 0.5 0.5 0.5]]\n"
     ]
    }
   ],
   "source": [
    "# Ingrese su código aquí\n",
    "dimensiones=(4,9)\n",
    "matriz = np.ones(dimensiones)*0.5\n",
    "print(matriz)"
   ]
  },
  {
   "cell_type": "markdown",
   "metadata": {
    "colab_type": "text",
    "id": "V6xBmW9kdVcn"
   },
   "source": [
    "###Accediendo a las matrices\n",
    "También podemos usar slices para acceder a partes de las matrices. Las matrices tienen dos dimensiones, así que ahora tenemos que usar dos indices o slices para seleccionar partes."
   ]
  },
  {
   "cell_type": "code",
   "execution_count": 18,
   "metadata": {
    "colab": {
     "base_uri": "https://localhost:8080/",
     "height": 238
    },
    "colab_type": "code",
    "executionInfo": {
     "elapsed": 1573,
     "status": "ok",
     "timestamp": 1598578264143,
     "user": {
      "displayName": "katha Cruz",
      "photoUrl": "https://lh3.googleusercontent.com/a-/AOh14Ghvn42wtJcJxN0hEwUFiHJsmQOS8AJ5tHOFvbCZ=s64",
      "userId": "05757427077370179687"
     },
     "user_tz": 300
    },
    "id": "_046azCldfaK",
    "outputId": "6f622be7-2bd2-4b18-d491-b689f5496fa8"
   },
   "outputs": [
    {
     "name": "stdout",
     "output_type": "stream",
     "text": [
      "Elementos individuales\n",
      "-4.0\n",
      "5.0\n",
      "Vector de elementos de la fila 1\n",
      "[12.  3.]\n",
      "Vector de elementos de la columna 0\n",
      "[ 1.  12.   7.2]\n",
      "Submatriz de 2x2 con las primeras dos filas\n",
      "[[ 1. -4.]\n",
      " [12.  3.]]\n",
      "Submatriz de 2x2 con las ultimas dos filas\n",
      "[[12.   3. ]\n",
      " [ 7.2  5. ]]\n"
     ]
    }
   ],
   "source": [
    "lista_de_listas=[ [1  ,-4], \n",
    "                  [12 , 3], \n",
    "                  [7.2, 5]]\n",
    "a = np.array(lista_de_listas)\n",
    "\n",
    "print(\"Elementos individuales\")\n",
    "print(a[0,1])\n",
    "print(a[2,1])\n",
    "\n",
    "print(\"Vector de elementos de la fila 1\")\n",
    "print(a[1,:])  #puntos y coma es un rango \n",
    "\n",
    "print(\"Vector de elementos de la columna 0\")\n",
    "print(a[:,0])\n",
    "\n",
    "print(\"Submatriz de 2x2 con las primeras dos filas\")\n",
    "print(a[0:2,:])\n",
    "\n",
    "print(\"Submatriz de 2x2 con las ultimas dos filas\")\n",
    "print(a[1:3,:])"
   ]
  },
  {
   "cell_type": "markdown",
   "metadata": {
    "colab_type": "text",
    "id": "YkzyjyJfd5rv"
   },
   "source": [
    "###Modificando matrices\n",
    "También podemos usar los slices para modificar matrices. La única diferencia es que ahora los usaremos para seleccionar que parte de la matriz vamos a cambiar."
   ]
  },
  {
   "cell_type": "code",
   "execution_count": 19,
   "metadata": {
    "colab": {
     "base_uri": "https://localhost:8080/",
     "height": 357
    },
    "colab_type": "code",
    "executionInfo": {
     "elapsed": 932,
     "status": "ok",
     "timestamp": 1598578845299,
     "user": {
      "displayName": "katha Cruz",
      "photoUrl": "https://lh3.googleusercontent.com/a-/AOh14Ghvn42wtJcJxN0hEwUFiHJsmQOS8AJ5tHOFvbCZ=s64",
      "userId": "05757427077370179687"
     },
     "user_tz": 300
    },
    "id": "Qrc3BxAzhg2-",
    "outputId": "5312d0bb-55d4-4ab3-cc1d-005584c43be0"
   },
   "outputs": [
    {
     "name": "stdout",
     "output_type": "stream",
     "text": [
      "- Matriz original:\n",
      "[[ 1. -4.]\n",
      " [12.  3.]\n",
      " [ 7.  5.]]\n",
      "- Le asignamos el valor 4 a los elementos de la columna 0:\n",
      "[[ 4. -4.]\n",
      " [ 4.  3.]\n",
      " [ 4.  5.]]\n",
      "- Dividimos por 3 la columna 1:\n",
      "[[ 4.         -1.33333333]\n",
      " [ 4.          1.        ]\n",
      " [ 4.          1.66666667]]\n",
      "- Multiplicamos por 5 la fila 1:\n",
      "[[ 4.         -1.33333333]\n",
      " [20.          5.        ]\n",
      " [ 4.          1.66666667]]\n",
      "- Le sumamos 1 a toda la matriz:\n",
      "[[ 5.         -0.33333333]\n",
      " [21.          6.        ]\n",
      " [ 5.          2.66666667]]\n"
     ]
    }
   ],
   "source": [
    "lista_de_listas=[ [1,-4], \n",
    "                  [12,3], \n",
    "                  [7, 5.0]]\n",
    "a = np.array(lista_de_listas)\n",
    "\n",
    "print(\"- Matriz original:\")\n",
    "print(a)\n",
    "\n",
    "print(\"- Le asignamos el valor 4 a los elementos de la columna 0:\")\n",
    "a[:,0]=4\n",
    "print(a)\n",
    "\n",
    "\n",
    "print(\"- Dividimos por 3 la columna 1:\")\n",
    "a[:,1]=a[:,1]/3.0\n",
    "print(a)\n",
    "\n",
    "print(\"- Multiplicamos por 5 la fila 1:\")\n",
    "a[1,:]=a[1,:]*5\n",
    "print(a)\n",
    "\n",
    "print(\"- Le sumamos 1 a toda la matriz:\")\n",
    "a=a+1\n",
    "print(a)"
   ]
  },
  {
   "cell_type": "markdown",
   "metadata": {
    "colab_type": "text",
    "id": "U2B8n3Rlh8gO"
   },
   "source": [
    "##Ejercicios\n",
    "\n",
    "Tomando la siguiente matriz"
   ]
  },
  {
   "cell_type": "code",
   "execution_count": 33,
   "metadata": {
    "colab": {
     "base_uri": "https://localhost:8080/",
     "height": 68
    },
    "colab_type": "code",
    "executionInfo": {
     "elapsed": 5470,
     "status": "ok",
     "timestamp": 1598579060638,
     "user": {
      "displayName": "katha Cruz",
      "photoUrl": "https://lh3.googleusercontent.com/a-/AOh14Ghvn42wtJcJxN0hEwUFiHJsmQOS8AJ5tHOFvbCZ=s64",
      "userId": "05757427077370179687"
     },
     "user_tz": 300
    },
    "id": "PH8vzkjUkIX9",
    "outputId": "ab39d672-b78d-4ada-ba13-d946f0d95dba"
   },
   "outputs": [
    {
     "name": "stdout",
     "output_type": "stream",
     "text": [
      "[[ -44.   12.]\n",
      " [  12.   51.]\n",
      " [1300.   -5.]]\n"
     ]
    }
   ],
   "source": [
    "lista_de_listas=[ [-44,12], \n",
    "                  [12.0,51], \n",
    "                  [1300, -5.0]]\n",
    "a = np.array(lista_de_listas)\n",
    "print(a)"
   ]
  },
  {
   "cell_type": "markdown",
   "metadata": {
    "colab_type": "text",
    "id": "6Gqb6cWzkMNN"
   },
   "source": [
    "* Restarle 5 a la fila 2 de la matriz"
   ]
  },
  {
   "cell_type": "code",
   "execution_count": 35,
   "metadata": {
    "colab": {
     "base_uri": "https://localhost:8080/",
     "height": 68
    },
    "colab_type": "code",
    "executionInfo": {
     "elapsed": 777,
     "status": "ok",
     "timestamp": 1598579112352,
     "user": {
      "displayName": "katha Cruz",
      "photoUrl": "https://lh3.googleusercontent.com/a-/AOh14Ghvn42wtJcJxN0hEwUFiHJsmQOS8AJ5tHOFvbCZ=s64",
      "userId": "05757427077370179687"
     },
     "user_tz": 300
    },
    "id": "v3hGnjAOw-Ul",
    "outputId": "53fdaa8c-cf2c-4437-fe08-2d468119b450"
   },
   "outputs": [
    {
     "name": "stdout",
     "output_type": "stream",
     "text": [
      "[[ -44.   12.]\n",
      " [  12.   51.]\n",
      " [1290.  -15.]]\n"
     ]
    }
   ],
   "source": [
    "a[2,:]= a[2,:]-5\n"
   ]
  },
  {
   "cell_type": "markdown",
   "metadata": {
    "colab_type": "text",
    "id": "vDS2NnWGw_bA"
   },
   "source": [
    "* Multiplicar por 2 toda la matriz"
   ]
  },
  {
   "cell_type": "code",
   "execution_count": 31,
   "metadata": {
    "colab": {},
    "colab_type": "code",
    "executionInfo": {
     "elapsed": 731,
     "status": "ok",
     "timestamp": 1598579025368,
     "user": {
      "displayName": "katha Cruz",
      "photoUrl": "https://lh3.googleusercontent.com/a-/AOh14Ghvn42wtJcJxN0hEwUFiHJsmQOS8AJ5tHOFvbCZ=s64",
      "userId": "05757427077370179687"
     },
     "user_tz": 300
    },
    "id": "aBkJcM0L1Mzh"
   },
   "outputs": [],
   "source": []
  },
  {
   "cell_type": "markdown",
   "metadata": {
    "colab_type": "text",
    "id": "UlOBBRbR1NMN"
   },
   "source": [
    "* Dividir por -5 las dos primeras filas de la matriz"
   ]
  },
  {
   "cell_type": "code",
   "execution_count": null,
   "metadata": {
    "colab": {},
    "colab_type": "code",
    "id": "eAziX1VX1TTe"
   },
   "outputs": [],
   "source": []
  },
  {
   "cell_type": "markdown",
   "metadata": {
    "colab_type": "text",
    "id": "GHRQ4y1U1TuP"
   },
   "source": [
    "* Imprimir la ultima fila de la matriz"
   ]
  },
  {
   "cell_type": "code",
   "execution_count": 37,
   "metadata": {
    "colab": {
     "base_uri": "https://localhost:8080/",
     "height": 34
    },
    "colab_type": "code",
    "executionInfo": {
     "elapsed": 1629,
     "status": "ok",
     "timestamp": 1598579221733,
     "user": {
      "displayName": "katha Cruz",
      "photoUrl": "https://lh3.googleusercontent.com/a-/AOh14Ghvn42wtJcJxN0hEwUFiHJsmQOS8AJ5tHOFvbCZ=s64",
      "userId": "05757427077370179687"
     },
     "user_tz": 300
    },
    "id": "JIpYl06d1ZFj",
    "outputId": "e52718c8-2930-497e-d15c-5f38b3fc8a11"
   },
   "outputs": [
    {
     "name": "stdout",
     "output_type": "stream",
     "text": [
      "[1290.  -15.]\n"
     ]
    }
   ],
   "source": [
    "print(a[2,:])"
   ]
  },
  {
   "cell_type": "code",
   "execution_count": 38,
   "metadata": {
    "colab": {
     "base_uri": "https://localhost:8080/",
     "height": 34
    },
    "colab_type": "code",
    "executionInfo": {
     "elapsed": 1710,
     "status": "ok",
     "timestamp": 1598579400749,
     "user": {
      "displayName": "katha Cruz",
      "photoUrl": "https://lh3.googleusercontent.com/a-/AOh14Ghvn42wtJcJxN0hEwUFiHJsmQOS8AJ5tHOFvbCZ=s64",
      "userId": "05757427077370179687"
     },
     "user_tz": 300
    },
    "id": "SLL9mJ50wRgD",
    "outputId": "7581cfa3-af0e-4896-c89a-84fccf08f554"
   },
   "outputs": [
    {
     "data": {
      "text/plain": [
       "array([1, 2, 3, 5, 6, 8])"
      ]
     },
     "execution_count": 38,
     "metadata": {
      "tags": []
     },
     "output_type": "execute_result"
    }
   ],
   "source": [
    "lista = ([1,2,3,5,6,8])\n",
    "a = np.array(lista)\n",
    "a"
   ]
  },
  {
   "cell_type": "code",
   "execution_count": 40,
   "metadata": {
    "colab": {
     "base_uri": "https://localhost:8080/",
     "height": 34
    },
    "colab_type": "code",
    "executionInfo": {
     "elapsed": 15474,
     "status": "ok",
     "timestamp": 1598579456255,
     "user": {
      "displayName": "katha Cruz",
      "photoUrl": "https://lh3.googleusercontent.com/a-/AOh14Ghvn42wtJcJxN0hEwUFiHJsmQOS8AJ5tHOFvbCZ=s64",
      "userId": "05757427077370179687"
     },
     "user_tz": 300
    },
    "id": "bgpikMikweXT",
    "outputId": "af081fc1-f226-4b1a-e9e1-74ed3100b345"
   },
   "outputs": [
    {
     "data": {
      "text/plain": [
       "array([1, 2, 3, 5])"
      ]
     },
     "execution_count": 40,
     "metadata": {
      "tags": []
     },
     "output_type": "execute_result"
    }
   ],
   "source": [
    "a[:-2]"
   ]
  },
  {
   "cell_type": "markdown",
   "metadata": {
    "colab_type": "text",
    "id": "3Kw_vKZVV5NZ"
   },
   "source": [
    "## Referencias\n",
    "* https://numpy.org/devdocs/user/quickstart.html\n",
    "* http://facundoq.github.io/courses/images/res/03_numpy.html"
   ]
  }
 ],
 "metadata": {
  "colab": {
   "name": "Libreria_numpy clase.ipynb",
   "provenance": [
    {
     "file_id": "https://github.com/chsanabriam/Esatdistica_Aplicada/blob/master/Libreria_numpy.ipynb",
     "timestamp": 1598576082652
    }
   ]
  },
  "kernelspec": {
   "display_name": "Python 3",
   "language": "python",
   "name": "python3"
  },
  "language_info": {
   "codemirror_mode": {
    "name": "ipython",
    "version": 3
   },
   "file_extension": ".py",
   "mimetype": "text/x-python",
   "name": "python",
   "nbconvert_exporter": "python",
   "pygments_lexer": "ipython3",
   "version": "3.7.4"
  }
 },
 "nbformat": 4,
 "nbformat_minor": 1
}
