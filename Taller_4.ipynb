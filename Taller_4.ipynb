{
 "cells": [
  {
   "cell_type": "markdown",
   "metadata": {},
   "source": [
    "##### Nombre: Katherine Marcela Cruz "
   ]
  },
  {
   "cell_type": "markdown",
   "metadata": {
    "id": "qWtKTz06jBjx"
   },
   "source": [
    "# Taller 4: Variables y distribuciones de probabilidad"
   ]
  },
  {
   "cell_type": "code",
   "execution_count": 2,
   "metadata": {
    "id": "wL6E5stbhM92"
   },
   "outputs": [],
   "source": [
    "import itertools\n",
    "import pandas as pd\n",
    "import numpy as np\n",
    "import matplotlib.pyplot as plt\n",
    "from scipy import stats\n",
    "%matplotlib inline\n",
    "plt.style.use(\"ggplot\")"
   ]
  },
  {
   "cell_type": "markdown",
   "metadata": {
    "id": "hExO-JRPi8T2"
   },
   "source": [
    "## Punto 1\n",
    "Un proveedor de DVDs regrabables afirma que solamente el $4\\%$ de los artículos suministrados son defectuosos. Si un cliente compra un lote de 25 DVDs, ¿cuál es el número esperado de DVDs defectuosos en el lote?. Si el cliente encuentra que 4 de los DVDs comprados son defectuosos, ¿debe dudar de la afirmación del vendedor?\n"
   ]
  },
  {
   "cell_type": "code",
   "execution_count": null,
   "metadata": {
    "id": "iJLhbgaJjUGQ"
   },
   "outputs": [],
   "source": [
    "#Escriba su código aquí"
   ]
  },
  {
   "cell_type": "code",
   "execution_count": 3,
   "metadata": {},
   "outputs": [
    {
     "name": "stdout",
     "output_type": "stream",
     "text": [
      "a) El número esperado de DVDs defectuosos en el lotes es de: 0.016521575032415876\n"
     ]
    }
   ],
   "source": [
    "datos = stats.binom(25, 0.04)\n",
    "pro = datos.sf(3)\n",
    "print(f'a) El número esperado de DVDs defectuosos en el lotes es de:',pro)"
   ]
  },
  {
   "cell_type": "code",
   "execution_count": 19,
   "metadata": {},
   "outputs": [
    {
     "data": {
      "text/plain": [
       "<function matplotlib.pyplot.show(*args, **kw)>"
      ]
     },
     "execution_count": 19,
     "metadata": {},
     "output_type": "execute_result"
    },
    {
     "data": {
      "image/png": "[encoded data removed]",
      "text/plain": [
       "<Figure size 432x288 with 1 Axes>"
      ]
     },
     "metadata": {},
     "output_type": "display_data"
    }
   ],
   "source": [
    "X = stats.binom(25, 0.04)\n",
    "pro = 1 - sum(X.pmf(x) for x in range(4))\n",
    "\n",
    "x = np.arange(10)\n",
    "plt.plot(x, X.pmf(x), \"r\")\n",
    "plt.vlines(x, 0, X.pmf(x), \"g\")\n",
    "plt.show"
   ]
  },
  {
   "cell_type": "markdown",
   "metadata": {
    "id": "xFhUUzd2jfKr"
   },
   "source": [
    "## Punto 2\n",
    "La impresora de una pequeña red informática recibe una media de 0.1 peticiones por segundo. Suponiendo que las peticiones a dicha impresora son independientes y a ritmo constante, ¿cuál es la probabilidad de un máximo de 2 peticiones en un segundo? Si la cola de la impresora tiene un comportamiento deficiente cuando recibe más de 10 peticiones en un minuto, ¿cuál es la probabilidad de que ocurra esto?"
   ]
  },
  {
   "cell_type": "code",
   "execution_count": null,
   "metadata": {
    "id": "dqI3jmgnjuhG"
   },
   "outputs": [],
   "source": [
    "#Escriba su código aquí"
   ]
  },
  {
   "cell_type": "code",
   "execution_count": 7,
   "metadata": {},
   "outputs": [
    {
     "data": {
      "text/plain": [
       "0.9998453469297354"
      ]
     },
     "execution_count": 7,
     "metadata": {},
     "output_type": "execute_result"
    }
   ],
   "source": [
    "maximo_2 = stats.poisson(0.1)\n",
    "maximo_2.cdf(2)"
   ]
  },
  {
   "cell_type": "code",
   "execution_count": 9,
   "metadata": {},
   "outputs": [
    {
     "data": {
      "text/plain": [
       "0.042620923582538"
      ]
     },
     "execution_count": 9,
     "metadata": {},
     "output_type": "execute_result"
    }
   ],
   "source": [
    "recibir_10 = stats.poisson(6)\n",
    "recibir_10.sf(10)"
   ]
  },
  {
   "cell_type": "markdown",
   "metadata": {
    "id": "_nFmJmQGj5eg"
   },
   "source": [
    "## Punto 3\n",
    "El proceso de accesos a una página web se produce de una forma estable e independiente, siendo el intervalo entre dos accesos consecutivos una v.a. exponencial. Sabiendo que, de media, se produce un acceso cada minuto,¿cuál es la probabilidad de que no se produzcan accesos en 4 minutos? y ¿cuál es la probabilidad de que el tiempo transcurrido entre dos accesos consecutivos sea inferior a 90 segundos?"
   ]
  },
  {
   "cell_type": "code",
   "execution_count": null,
   "metadata": {
    "id": "41QvJORdjyXZ"
   },
   "outputs": [],
   "source": [
    "#Escriba su código aquí"
   ]
  },
  {
   "cell_type": "code",
   "execution_count": 10,
   "metadata": {},
   "outputs": [
    {
     "data": {
      "text/plain": [
       "0.01831563888873418"
      ]
     },
     "execution_count": 10,
     "metadata": {},
     "output_type": "execute_result"
    }
   ],
   "source": [
    "stats.expon.sf(4, loc = 0, scale=1)"
   ]
  },
  {
   "cell_type": "code",
   "execution_count": 11,
   "metadata": {},
   "outputs": [
    {
     "data": {
      "text/plain": [
       "0.7768698398515702"
      ]
     },
     "execution_count": 11,
     "metadata": {},
     "output_type": "execute_result"
    }
   ],
   "source": [
    "stats.expon.cdf(1.5, loc=0, scale=1)"
   ]
  },
  {
   "cell_type": "markdown",
   "metadata": {
    "id": "NFhglcsckKcr"
   },
   "source": [
    "## Punto 4\n",
    "La duración de un determinado componente electrónico, en horas, es una v.a. que se distribuye según una distribución normal N(2000,40). ¿Cuál es la probabilidad de que la duración de una de esas componentes sea superior a 1900 horas? ¿y de que esté entre 1850 y 1950 horas?"
   ]
  },
  {
   "cell_type": "code",
   "execution_count": null,
   "metadata": {
    "id": "Ckr4a4-6kN5m"
   },
   "outputs": [],
   "source": [
    "#Escriba su código aquí"
   ]
  },
  {
   "cell_type": "code",
   "execution_count": 13,
   "metadata": {},
   "outputs": [
    {
     "data": {
      "text/plain": [
       "0.9937903346742238"
      ]
     },
     "execution_count": 13,
     "metadata": {},
     "output_type": "execute_result"
    }
   ],
   "source": [
    "superior = stats.norm(2000, 40)\n",
    "superior.sf(1900)"
   ]
  },
  {
   "cell_type": "code",
   "execution_count": 3,
   "metadata": {},
   "outputs": [
    {
     "data": {
      "text/plain": [
       "0.10556135638165455"
      ]
     },
     "execution_count": 3,
     "metadata": {},
     "output_type": "execute_result"
    }
   ],
   "source": [
    "X = stats.norm(2000, 40)\n",
    "d = X.cdf(1950) - X.cdf(1850)\n",
    "d"
   ]
  },
  {
   "cell_type": "code",
   "execution_count": 18,
   "metadata": {},
   "outputs": [
    {
     "data": {
      "image/png": "[encoded data removed]",
      "text/plain": [
       "<Figure size 432x288 with 1 Axes>"
      ]
     },
     "metadata": {},
     "output_type": "display_data"
    }
   ],
   "source": [
    "X = stats.norm(2000, 40)\n",
    "x = np.arange(X.ppf(0.01), X.ppf(0.99))\n",
    "plt.plot(x, X.pdf(x), \"b\")\n",
    "plt.show()"
   ]
  }
 ],
 "metadata": {
  "colab": {
   "name": "Taller_4.ipynb",
   "provenance": []
  },
  "kernelspec": {
   "display_name": "Python 3",
   "language": "python",
   "name": "python3"
  },
  "language_info": {
   "codemirror_mode": {
    "name": "ipython",
    "version": 3
   },
   "file_extension": ".py",
   "mimetype": "text/x-python",
   "name": "python",
   "nbconvert_exporter": "python",
   "pygments_lexer": "ipython3",
   "version": "3.8.3"
  }
 },
 "nbformat": 4,
 "nbformat_minor": 1
}
