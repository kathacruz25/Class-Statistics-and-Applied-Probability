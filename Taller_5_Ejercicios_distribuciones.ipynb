{
 "cells": [
  {
   "cell_type": "markdown",
   "metadata": {
    "id": "Q-Vl3iDZp7y6"
   },
   "source": [
    "###### NOMBRE : Katherine Marcela Cruz Cáceres "
   ]
  },
  {
   "cell_type": "markdown",
   "metadata": {
    "id": "4Zxthg3NqHOn"
   },
   "source": [
    "# Ejercicios\n",
    "\n",
    "## Ejercicio 1\n",
    "a última novela de un autor ha tenido un gran éxito, hasta el punto de que el 80% de los lectores ya la han leído.\n",
    "\n",
    "Un grupo de 4 amigos son aficionados a la lectura:\n",
    "\n",
    "1. ¿Cuál es la probabilidad de que en el grupo hayan leído la novela 2 personas?\n",
    "\n",
    " \n",
    "\n",
    "2. ¿Y cómo máximo 2?\n",
    "\n"
   ]
  },
  {
   "cell_type": "markdown",
   "metadata": {},
   "source": [
    "$$P(X=2) = \\binom{4}{2} (0.8)^{2}(0.2^{2})$$\n",
    "\n",
    "$$ = \\frac{4!}{(2!)(2!)}(0.64)(0.04)$$\n",
    "\n",
    "$$ = 0.1536 $$"
   ]
  },
  {
   "cell_type": "code",
   "execution_count": 2,
   "metadata": {},
   "outputs": [],
   "source": [
    "from scipy import stats\n",
    "import matplotlib.pyplot as plt\n",
    "import numpy as np"
   ]
  },
  {
   "cell_type": "code",
   "execution_count": 4,
   "metadata": {
    "id": "hyvz7lNaqRGq"
   },
   "outputs": [
    {
     "data": {
      "image/png": "[encoded data removed]",
      "text/plain": [
       "<Figure size 432x288 with 1 Axes>"
      ]
     },
     "metadata": {
      "needs_background": "light"
     },
     "output_type": "display_data"
    },
    {
     "name": "stdout",
     "output_type": "stream",
     "text": [
      "0.15360000000000001\n"
     ]
    }
   ],
   "source": [
    "# los numeros son enteros, entonces la distribución debería ser Discreta\n",
    "#exito 80% que lo hayan leído\n",
    "#graficando binomial\n",
    "N, p = 4, 0.8 #parametros de forma\n",
    "binomial = stats.binom(N, p) #distribución\n",
    "x = np.arange(binomial.ppf(0.01),\n",
    "              binomial.ppf(0.99))\n",
    "fmp = binomial.pmf(x) # Función de Masa de Probabilidad\n",
    "plt.plot(x, fmp, '--')\n",
    "plt.vlines(x, 0, fmp, colors='b', lw=5, alpha=0.5)\n",
    "plt.title('Distribución Binomial')\n",
    "plt.ylabel('probabilidad')\n",
    "plt.xlabel('valores')\n",
    "plt.show()\n",
    "print(binomial.pmf(2))"
   ]
  },
  {
   "cell_type": "code",
   "execution_count": 7,
   "metadata": {
    "scrolled": true
   },
   "outputs": [
    {
     "name": "stdout",
     "output_type": "stream",
     "text": [
      "0.18079999999999993\n"
     ]
    }
   ],
   "source": [
    "print(binomial.cdf(2)) #acumulada"
   ]
  },
  {
   "cell_type": "markdown",
   "metadata": {
    "id": "MDE5o6V3qVsO"
   },
   "source": [
    "## Ejercicio 2\n",
    "Un agente de seguros vende pólizas a cinco personas de la misma edad y que disfrutan de buena salud.\n",
    "\n",
    "Según las tablas actuales, la probabilidad de que una persona en estas condiciones viva 30 años o más es 2/3.\n",
    "\n",
    "Hállese la probabilidad de que, transcurridos 30 años, vivan:\n",
    "\n",
    "1. Las cinco personas\n",
    "\n",
    " \n",
    "\n",
    "2. Al menos tres personas\n",
    "\n",
    " \n",
    "\n",
    "3. Exactamente dos personas"
   ]
  },
  {
   "cell_type": "code",
   "execution_count": 7,
   "metadata": {},
   "outputs": [
    {
     "data": {
      "text/plain": [
       "0.1252332576"
      ]
     },
     "execution_count": 7,
     "metadata": {},
     "output_type": "execute_result"
    }
   ],
   "source": [
    "# las cinco personas\n",
    "cinco_per = stats.binom(5, 0.66)\n",
    "pro = cinco_per.pmf(5)\n",
    "pro"
   ]
  },
  {
   "cell_type": "code",
   "execution_count": 9,
   "metadata": {},
   "outputs": [
    {
     "data": {
      "text/plain": [
       "0.7801491456"
      ]
     },
     "execution_count": 9,
     "metadata": {},
     "output_type": "execute_result"
    }
   ],
   "source": [
    "# Al menos tres\n",
    "almenos_tres = stats.binom(5, 0.66)\n",
    "pro = 1-almenos_tres.cdf(2)\n",
    "pro"
   ]
  },
  {
   "cell_type": "code",
   "execution_count": 10,
   "metadata": {},
   "outputs": [
    {
     "data": {
      "text/plain": [
       "0.17120822400000002"
      ]
     },
     "execution_count": 10,
     "metadata": {},
     "output_type": "execute_result"
    }
   ],
   "source": [
    "# Exactamente 2 personas\n",
    "exact_dos = stats.binom(5, 0.66)\n",
    "pro = exact_dos.pmf(2)\n",
    "pro"
   ]
  },
  {
   "cell_type": "code",
   "execution_count": 42,
   "metadata": {},
   "outputs": [
    {
     "data": {
      "image/png": "[encoded data removed]",
      "text/plain": [
       "<Figure size 432x288 with 1 Axes>"
      ]
     },
     "metadata": {
      "needs_background": "light"
     },
     "output_type": "display_data"
    }
   ],
   "source": [
    "# graficando la binomial\n",
    "N, p = 5, 0.66 #parametros de forma\n",
    "binomial = stats.binom(N, p) #distribución\n",
    "#x = np.arange(binomial.ppf(0.01),\n",
    "              #binomial.ppf(0.99))\n",
    "x = np.arange(0,6)\n",
    "fmp = binomial.pmf(x) # Función de Masa de Probabilidad\n",
    "plt.plot(x, fmp, '--')\n",
    "plt.vlines(x, 0, fmp, colors='b', lw=5, alpha=0.5)\n",
    "plt.title('Distribución Binomial')\n",
    "plt.ylabel('probabilidad')\n",
    "plt.xlabel('valores')\n",
    "plt.show()"
   ]
  },
  {
   "cell_type": "markdown",
   "metadata": {
    "id": "w5GiHRw8qfiy"
   },
   "source": [
    "## Ejercicio 3\n",
    "Se lanza una moneda cuatro veces.\n",
    "\n",
    "Calcular la probabilidad de que salgan más caras que cruces."
   ]
  },
  {
   "cell_type": "code",
   "execution_count": 30,
   "metadata": {},
   "outputs": [
    {
     "name": "stdout",
     "output_type": "stream",
     "text": [
      "0.0625\n"
     ]
    }
   ],
   "source": [
    "N, p = 4 , 0.5\n",
    "binomial = stats.binom(N, p) #distribución\n",
    "\n",
    "print(binomial.pmf(4))"
   ]
  },
  {
   "cell_type": "markdown",
   "metadata": {
    "id": "xB-w6Oxpq3-4"
   },
   "source": [
    "## Ejercicio 4\n",
    "Si de seis a siete de la tarde se admite que un número de teléfono de\n",
    "cada cinco está comunicando.\n",
    "\n",
    "¿Cuál es la probabilidad de que, cuando se marquen 10 números de\n",
    "teléfono elegidos al azar, sólo comuniquen dos?"
   ]
  },
  {
   "cell_type": "markdown",
   "metadata": {
    "id": "QAXR12iPq52i"
   },
   "source": [
    "$$B(10, \\frac{1}{5})$$\n",
    "\n",
    "$$ p = \\frac{1}{5} , q = \\frac{4}{5}$$\n",
    "\n",
    "$$P(X=2) = \\binom{10}{2} (\\frac{1}{5})^{2}(\\frac{4}{5})^{8}$$\n",
    "\n",
    "$$ = 0.3020$$\n"
   ]
  },
  {
   "cell_type": "code",
   "execution_count": 28,
   "metadata": {},
   "outputs": [
    {
     "data": {
      "image/png": "[encoded data removed]",
      "text/plain": [
       "<Figure size 432x288 with 1 Axes>"
      ]
     },
     "metadata": {
      "needs_background": "light"
     },
     "output_type": "display_data"
    },
    {
     "name": "stdout",
     "output_type": "stream",
     "text": [
      "0.301989888\n"
     ]
    }
   ],
   "source": [
    "# los numeros son enteros, entonces la distribución debería ser Discreta\n",
    "\n",
    "#graficando binomial\n",
    "N, p = 10, 0.2 #parametros de forma\n",
    "binomial = stats.binom(N, p) #distribución\n",
    "x = np.arange(binomial.ppf(0.01),\n",
    "              binomial.ppf(0.99))\n",
    "fmp = binomial.pmf(x) # Función de Masa de Probabilidad\n",
    "plt.plot(x, fmp, '--')\n",
    "plt.vlines(x, 0, fmp, colors='b', lw=5, alpha=0.5)\n",
    "plt.title('Distribución Binomial')\n",
    "plt.ylabel('probabilidad')\n",
    "plt.xlabel('valores')\n",
    "plt.show()\n",
    "print(binomial.pmf(2))"
   ]
  },
  {
   "cell_type": "markdown",
   "metadata": {},
   "source": [
    "## Ejercicio 5\n",
    "En unas pruebas de alcoholemia se ha observado que el 5% de los conductores controlados dan positivo en la prueba y que el 10% de los conductores controlados no llevan puesto el cinturón de seguridad.\n",
    "\n",
    "También se ha observado que las dos infracciones son independientes.\n",
    "\n",
    "Un guardia de tráfico para cinco conductores al azar. Si tenemos en cuenta que el número de conductores es suficientemente importante como para estimar que la proporción de infractores no varía al hacer la selección.\n",
    "\n",
    "$1$ Determinar la probabilidad de que exactamente tres conductores hayan cometido alguna de las dos infracciones.\n",
    "\n",
    "$2$ Determine la probabilidad de que al menos uno de los conductores controlados haya cometido alguna de las dos infracciones."
   ]
  },
  {
   "cell_type": "markdown",
   "metadata": {},
   "source": [
    "###### 1.\n",
    "\n",
    "$$ p = 0.145 , q = 0.855 $$\n",
    "\n",
    "$$P(X=5) = \\binom{5}{3} (0.145)^{3}(0.855 )^{2}$$\n",
    "\n",
    "$$ = 0.223 $$"
   ]
  },
  {
   "cell_type": "code",
   "execution_count": 32,
   "metadata": {},
   "outputs": [
    {
     "data": {
      "image/png": "[encoded data removed]",
      "text/plain": [
       "<Figure size 432x288 with 1 Axes>"
      ]
     },
     "metadata": {
      "needs_background": "light"
     },
     "output_type": "display_data"
    },
    {
     "name": "stdout",
     "output_type": "stream",
     "text": [
      "0.022286210906250003\n"
     ]
    }
   ],
   "source": [
    "# los numeros son enteros, entonces la distribución debería ser Discreta\n",
    "\n",
    "#graficando binomial\n",
    "N, p = 5, 0.145 #parametros de forma\n",
    "binomial = stats.binom(N, p) #distribución\n",
    "x = np.arange(binomial.ppf(0.01),\n",
    "              binomial.ppf(0.99))\n",
    "fmp = binomial.pmf(x) # Función de Masa de Probabilidad\n",
    "plt.plot(x, fmp, '--')\n",
    "plt.vlines(x, 0, fmp, colors='b', lw=5, alpha=0.5)\n",
    "plt.title('Distribución Binomial')\n",
    "plt.ylabel('probabilidad')\n",
    "plt.xlabel('valores')\n",
    "plt.show()\n",
    "print(binomial.pmf(3))"
   ]
  },
  {
   "cell_type": "markdown",
   "metadata": {},
   "source": [
    "###### 2.\n",
    "\n",
    "$$P(almenos 1) = 1 - \\frac{5!}{0!(5-0)!}  0.855$$\n",
    "$$ = 0.543$$"
   ]
  },
  {
   "cell_type": "code",
   "execution_count": 39,
   "metadata": {},
   "outputs": [
    {
     "data": {
      "text/plain": [
       "0.543090094215625"
      ]
     },
     "execution_count": 39,
     "metadata": {},
     "output_type": "execute_result"
    }
   ],
   "source": [
    "almenos_uno = stats.binom(5, 0.145)\n",
    "pro = 1-almenos_uno.cdf(0)\n",
    "pro"
   ]
  },
  {
   "cell_type": "markdown",
   "metadata": {},
   "source": [
    "## Ejercicio 6\n",
    "En una ciudad se estima que la temperatura máxima en el mes de junio sigue una distribución normal, con media $23^{\\circ}$ y desviación típica $5^{\\circ}$.\n",
    "\n",
    "Calcular el número de días del mes en los que se espera alcanzar máximas entre $21^{\\circ}$ y $27^{\\circ}$."
   ]
  },
  {
   "cell_type": "markdown",
   "metadata": {},
   "source": [
    "$$ p [ 21 < x ≤ 27 ] = p (  (21-23)/5 < z ≤ \\frac{(27-23)}{5}) $$\n",
    "\n",
    "$$ = p(-0.4 < Z ≤ 0.8) = p ( Z ≤ 0.8 ) - [  1 - p ( Z ≤0.4 ) ] $$\n",
    "\n",
    "$$ = 0.7881 - ( 1 -0.6554 ) $$\n",
    "\n",
    "$$ = 0.4435 *30 = 13$$"
   ]
  },
  {
   "cell_type": "code",
   "execution_count": 46,
   "metadata": {},
   "outputs": [],
   "source": [
    "from scipy import stats"
   ]
  },
  {
   "cell_type": "code",
   "execution_count": 47,
   "metadata": {},
   "outputs": [
    {
     "name": "stdout",
     "output_type": "stream",
     "text": [
      "13.306990290807827\n"
     ]
    }
   ],
   "source": [
    "temperatura_max = stats.norm.cdf(0.8)- stats.norm.cdf(-0.4)\n",
    "total = temperatura_max * 30\n",
    "print(total)"
   ]
  },
  {
   "cell_type": "markdown",
   "metadata": {},
   "source": [
    "## Ejercicio 7\n",
    "La media de los pesos de 500 estudiantes de un colegio es 70 kg y la desviación típica 3 kg.\n",
    "\n",
    "Suponiendo que los pesos se distribuyen normalmente, hallar cuántos estudiantes pesan:\n",
    "\n",
    "$1.$ Entre 60 kg y 75 kg.\n",
    "\n",
    "$2.$ Más de 90 kg.\n",
    "\n",
    "$3.$ Menos de 64 kg.\n",
    "\n",
    "$4.$ 64 kg.\n",
    "\n",
    "$5.$ 64 kg o menos."
   ]
  },
  {
   "cell_type": "markdown",
   "metadata": {},
   "source": [
    "###### 1. \n",
    "\n",
    "$$P(60 < X \\leq 75) = P \\left ( \\frac{60-70}{3} \\leq Z \\leq \\frac{75-70}{3} \\right )$$\n",
    "\n",
    "$$ = P(-3.33 \\leq Z \\leq 1.67)$$\n",
    "\n",
    "$$ = P( Z \\leq 1.67) - P( Z \\leq -3.33)$$\n",
    "\n",
    "$$ = P( Z \\leq 1.67) - (1- P( Z \\leq 3.33))$$\n",
    "\n",
    "$$ P( Z \\leq 1.67) = 0.9525 , P( Z \\leq 3.33) = 0.9996 $$\n",
    "\n",
    "$$ 500 ( 0.9525 - (1-0.9996))$$\n",
    "\n",
    "$$ = 476 $$"
   ]
  },
  {
   "cell_type": "code",
   "execution_count": 49,
   "metadata": {},
   "outputs": [
    {
     "name": "stdout",
     "output_type": "stream",
     "text": [
      "476.0530441383355\n"
     ]
    }
   ],
   "source": [
    "p = stats.norm.cdf(1.67)- stats.norm.cdf(-3.33)\n",
    "total = p * 500\n",
    "print(total)"
   ]
  },
  {
   "cell_type": "markdown",
   "metadata": {},
   "source": [
    "###### 2. \n",
    "\n",
    "$$P(X>90) = P \\left ( Z > \\frac{90-70}{3} \\right )$$\n",
    "\n",
    "$$ = P(Z > 6.67)$$\n",
    "\n",
    "$$ = 1- P(Z > 6.67)$$\n",
    "\n",
    "$$ = 1-1 $$\n",
    "\n",
    "$$ = 0 * 500 $$\n",
    "\n",
    "$$ = 0 $$"
   ]
  },
  {
   "cell_type": "code",
   "execution_count": 54,
   "metadata": {},
   "outputs": [
    {
     "data": {
      "text/plain": [
       "6.395106666445827e-09"
      ]
     },
     "execution_count": 54,
     "metadata": {},
     "output_type": "execute_result"
    }
   ],
   "source": [
    "b = stats.norm.cdf(6.67)\n",
    "total = 1 - b\n",
    "p = total * 500\n",
    "p"
   ]
  },
  {
   "cell_type": "markdown",
   "metadata": {},
   "source": [
    "###### 3. \n",
    "\n",
    "$$P(X<64) = P \\left ( Z < \\frac{64-70}{3} \\right )$$\n",
    "\n",
    "$$ = P(Z < -2 )$$\n",
    "\n",
    "$$ = 1- P(Z < 2)$$\n",
    "\n",
    "$$ = 1- 0.9772 $$\n",
    "\n",
    "$$ = 0.0228 * 500 $$\n",
    "\n",
    "$$ = 11.4 $$"
   ]
  },
  {
   "cell_type": "code",
   "execution_count": 55,
   "metadata": {},
   "outputs": [
    {
     "data": {
      "text/plain": [
       "11.375065974089605"
      ]
     },
     "execution_count": 55,
     "metadata": {},
     "output_type": "execute_result"
    }
   ],
   "source": [
    "b = stats.norm.cdf(2)\n",
    "total = 1 - b\n",
    "p = total * 500\n",
    "p"
   ]
  },
  {
   "cell_type": "markdown",
   "metadata": {},
   "source": [
    "###### 4.\n",
    "\n",
    "Cuando la distribución es continua, la probabilidad de que la variable tenga un valor exacto siempre es nula\n",
    "\n",
    "\n",
    "$$P(X=64) = p\\left ( Z = \\frac{64-70}{3} \\right )$$\n",
    "\n",
    "$$P(Z=-2)= 0*500$$\n",
    "\n",
    "$$ = 0 $$"
   ]
  },
  {
   "cell_type": "code",
   "execution_count": 67,
   "metadata": {},
   "outputs": [
    {
     "data": {
      "text/plain": [
       "0.0"
      ]
     },
     "execution_count": 67,
     "metadata": {},
     "output_type": "execute_result"
    }
   ],
   "source": [
    "b = stats.norm.cdf(64)\n",
    "total = 1 - b\n",
    "p = total * 500\n",
    "p"
   ]
  },
  {
   "cell_type": "markdown",
   "metadata": {},
   "source": [
    "###### 5.\n",
    "\n",
    "Existen cero estudiantes que pesan 64 kilogramos exactos y hay 11 estudiantes que pesan menos de 64 kilogramos, entonces, existen 11 estudiantes que pesan 64 kilogramos o menos.\n",
    "\n",
    "$$ 500 * P(X \\leq 64) = 11 $$"
   ]
  },
  {
   "cell_type": "code",
   "execution_count": 68,
   "metadata": {},
   "outputs": [
    {
     "data": {
      "text/plain": [
       "11.375065974089605"
      ]
     },
     "execution_count": 68,
     "metadata": {},
     "output_type": "execute_result"
    }
   ],
   "source": [
    "b = stats.norm.cdf(2)\n",
    "total = 1 - b\n",
    "p = total * 500\n",
    "p"
   ]
  },
  {
   "cell_type": "markdown",
   "metadata": {},
   "source": [
    "## Ejercicio 8\n",
    "Si X es una variable aleatoria de una distribución $N(\\mu, \\sigma)$, hallar: $P(\\mu - 3\\sigma \\leq X \\leq \\mu + 3\\sigma)$."
   ]
  },
  {
   "cell_type": "markdown",
   "metadata": {},
   "source": [
    "$$P(\\mu - 3\\sigma \\leq X \\leq \\mu + 3\\sigma) = \\left ( \\frac{(\\mu-3\\sigma)-\\mu}{\\sigma} \\leq Z \\leq \\frac{(\\mu+3\\sigma)-\\mu}{\\sigma} \\right )$$\n",
    "\n",
    "$$ = P(-3 \\leq Z \\leq 3) = P(Z \\leq 3) - P(Z \\leq -3) $$\n",
    "\n",
    "$$ = P(Z \\leq 3) - (1- P(Z \\leq 3))$$\n",
    "\n",
    "$$ = 0.9987 - 1 + 0.9987 $$\n",
    "\n",
    "$$ = 0.9974 $$"
   ]
  },
  {
   "cell_type": "code",
   "execution_count": 69,
   "metadata": {},
   "outputs": [
    {
     "data": {
      "text/plain": [
       "0.9973002039367398"
      ]
     },
     "execution_count": 69,
     "metadata": {},
     "output_type": "execute_result"
    }
   ],
   "source": [
    "dis = stats.norm.cdf(3)- stats.norm.cdf(-3)\n",
    "dis"
   ]
  },
  {
   "cell_type": "markdown",
   "metadata": {},
   "source": [
    "## Ejercicio 9\n",
    "El tiempo de revisión del motor de un avión sigue una distribución exponencial con media 22 minutos.\n",
    "\n",
    "a) Encontrar la probabilidad de que el tiempo de revisión sea menor a 10 minutos.\n",
    "\n",
    "b) ¿Cuál es el tiempo de revisión de un motor superado por el 10% de los tiempos de revisión?\n",
    "\n",
    "c) El costo de revisión es de 200 unidades monetarias fijas al que se le suma 10 unidades monetarias por el tiempo que dure la revisión. Encontrar la media y la varianza del costo."
   ]
  },
  {
   "cell_type": "markdown",
   "metadata": {},
   "source": [
    "###### (a)\n",
    "\n",
    "$$ P(x<10) = \\int_{0}^{10} \\frac{1}{22} e^{-\\frac{t}{22}}dt = \\left [ e^{-\\frac{t}{22}} \\right ]_{0}^{10} = 1 -  e^{-\\frac{5}{11}} = 0.3652 $$"
   ]
  },
  {
   "cell_type": "code",
   "execution_count": 77,
   "metadata": {},
   "outputs": [
    {
     "data": {
      "text/plain": [
       "0.3652635810597182"
      ]
     },
     "execution_count": 77,
     "metadata": {},
     "output_type": "execute_result"
    }
   ],
   "source": [
    "pro = stats.expon.cdf(10, scale=22)\n",
    "pro"
   ]
  },
  {
   "cell_type": "markdown",
   "metadata": {},
   "source": [
    "###### (b)\n",
    "\n",
    "$$ F(x_{0.9}) = 1 - e^{\\frac{x_{0.9}}{22}} = 0,9 $$\n",
    "\n",
    "$$ e^{\\frac{x_{0.9}}{22}} = 0.1 \\Rightarrow \\frac{x_{0.9}}{22} = Ln(0.1)$$\n",
    "\n",
    "$$ \\Rightarrow  x_{0.9} = -22.ln(0.1) = 50,65 $$"
   ]
  },
  {
   "cell_type": "code",
   "execution_count": 78,
   "metadata": {},
   "outputs": [
    {
     "data": {
      "text/plain": [
       "50.65687204586901"
      ]
     },
     "execution_count": 78,
     "metadata": {},
     "output_type": "execute_result"
    }
   ],
   "source": [
    "pro = stats.expon.ppf(0.9, scale = 22)\n",
    "pro"
   ]
  },
  {
   "cell_type": "markdown",
   "metadata": {},
   "source": [
    "###### (c)"
   ]
  },
  {
   "cell_type": "code",
   "execution_count": 80,
   "metadata": {},
   "outputs": [
    {
     "name": "stdout",
     "output_type": "stream",
     "text": [
      "420.0\n",
      "48400.0\n"
     ]
    }
   ],
   "source": [
    "media = stats.expon.mean(loc=0, scale=22)\n",
    "varianza = stats.expon.var(loc=0, scale = 10)* stats.expon.var(loc=0, scale=22)\n",
    "m = 200+(10*media)\n",
    "print(m)\n",
    "print(varianza)"
   ]
  },
  {
   "cell_type": "markdown",
   "metadata": {},
   "source": [
    "## Ejercicio 10\n",
    "Un matrimonio quiere tener una hija, y por ello deciden tener hijos hasta el nacimientode una hija. Calcular el número esperado de hijos (entre niños y niñas) que tendría el matrimonio. Calcular la probabilidad de que la pareja acabe teniendo tres hijos o más."
   ]
  },
  {
   "cell_type": "code",
   "execution_count": 84,
   "metadata": {},
   "outputs": [
    {
     "name": "stdout",
     "output_type": "stream",
     "text": [
      "2.0\n",
      "0.25\n"
     ]
    }
   ],
   "source": [
    "hijos_esperados = stats.geom.mean(0.5, loc=0)\n",
    "print(hijos_esperados)\n",
    "\n",
    "tres_hijos_o_mas = 1-(stats.geom.cdf(2, 0.5))\n",
    "print(tres_hijos_o_mas)"
   ]
  }
 ],
 "metadata": {
  "colab": {
   "collapsed_sections": [],
   "name": "Ejercicios_distribuciones.ipynb",
   "provenance": []
  },
  "kernelspec": {
   "display_name": "Python 3",
   "language": "python",
   "name": "python3"
  },
  "language_info": {
   "codemirror_mode": {
    "name": "ipython",
    "version": 3
   },
   "file_extension": ".py",
   "mimetype": "text/x-python",
   "name": "python",
   "nbconvert_exporter": "python",
   "pygments_lexer": "ipython3",
   "version": "3.8.3"
  }
 },
 "nbformat": 4,
 "nbformat_minor": 1
}
